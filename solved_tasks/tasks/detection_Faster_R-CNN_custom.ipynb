{
 "cells": [
  {
   "cell_type": "markdown",
   "metadata": {},
   "source": [
    "# Table detection with Faster R-CNN\n",
    "Dataset: https://github.com/sgrpanchal31/table-detection-dataset"
   ]
  },
  {
   "cell_type": "code",
   "execution_count": 33,
   "metadata": {},
   "outputs": [],
   "source": [
    "import torch\n",
    "from torch.utils.data import Dataset, DataLoader\n",
    "import torchvision\n",
    "from torchvision.models.detection.faster_rcnn import FastRCNNPredictor\n",
    "from torchvision.ops.boxes import nms\n",
    "import numpy as np\n",
    "import pandas as pd\n",
    "import cv2\n",
    "import os\n",
    "import matplotlib.pyplot as plt\n",
    "import time"
   ]
  },
  {
   "cell_type": "code",
   "execution_count": 1,
   "metadata": {},
   "outputs": [],
   "source": [
    "path = 'table-detection-dataset/'"
   ]
  },
  {
   "cell_type": "code",
   "execution_count": 5,
   "metadata": {},
   "outputs": [
    {
     "data": {
      "text/plain": [
       "(338, 65)"
      ]
     },
     "execution_count": 5,
     "metadata": {},
     "output_type": "execute_result"
    }
   ],
   "source": [
    "df_train = pd.read_csv(path+'train.csv', names=['filename', 'xmin', 'ymin', 'xmax' , 'ymax', 'class'])\n",
    "df_val = pd.read_csv(path+'val.csv', names=['filename', 'xmin', 'ymin', 'xmax' , 'ymax', 'class'])\n",
    "df_train[\"filename\"].nunique(), df_val[\"filename\"].nunique()"
   ]
  },
  {
   "cell_type": "code",
   "execution_count": 6,
   "metadata": {},
   "outputs": [
    {
     "data": {
      "text/html": [
       "<div>\n",
       "<style scoped>\n",
       "    .dataframe tbody tr th:only-of-type {\n",
       "        vertical-align: middle;\n",
       "    }\n",
       "\n",
       "    .dataframe tbody tr th {\n",
       "        vertical-align: top;\n",
       "    }\n",
       "\n",
       "    .dataframe thead th {\n",
       "        text-align: right;\n",
       "    }\n",
       "</style>\n",
       "<table border=\"1\" class=\"dataframe\">\n",
       "  <thead>\n",
       "    <tr style=\"text-align: right;\">\n",
       "      <th></th>\n",
       "      <th>filename</th>\n",
       "      <th>xmin</th>\n",
       "      <th>ymin</th>\n",
       "      <th>xmax</th>\n",
       "      <th>ymax</th>\n",
       "      <th>class</th>\n",
       "    </tr>\n",
       "  </thead>\n",
       "  <tbody>\n",
       "    <tr>\n",
       "      <th>0</th>\n",
       "      <td>0101_003.png</td>\n",
       "      <td>770</td>\n",
       "      <td>946</td>\n",
       "      <td>2070</td>\n",
       "      <td>2973</td>\n",
       "      <td>table</td>\n",
       "    </tr>\n",
       "    <tr>\n",
       "      <th>1</th>\n",
       "      <td>0110_099.png</td>\n",
       "      <td>270</td>\n",
       "      <td>1653</td>\n",
       "      <td>2280</td>\n",
       "      <td>2580</td>\n",
       "      <td>table</td>\n",
       "    </tr>\n",
       "    <tr>\n",
       "      <th>2</th>\n",
       "      <td>0113_013.png</td>\n",
       "      <td>303</td>\n",
       "      <td>343</td>\n",
       "      <td>2273</td>\n",
       "      <td>2953</td>\n",
       "      <td>table</td>\n",
       "    </tr>\n",
       "    <tr>\n",
       "      <th>3</th>\n",
       "      <td>0140_007.png</td>\n",
       "      <td>664</td>\n",
       "      <td>1782</td>\n",
       "      <td>1814</td>\n",
       "      <td>2076</td>\n",
       "      <td>table</td>\n",
       "    </tr>\n",
       "    <tr>\n",
       "      <th>4</th>\n",
       "      <td>0146_281.png</td>\n",
       "      <td>704</td>\n",
       "      <td>432</td>\n",
       "      <td>1744</td>\n",
       "      <td>1552</td>\n",
       "      <td>table</td>\n",
       "    </tr>\n",
       "  </tbody>\n",
       "</table>\n",
       "</div>"
      ],
      "text/plain": [
       "       filename  xmin  ymin  xmax  ymax  class\n",
       "0  0101_003.png   770   946  2070  2973  table\n",
       "1  0110_099.png   270  1653  2280  2580  table\n",
       "2  0113_013.png   303   343  2273  2953  table\n",
       "3  0140_007.png   664  1782  1814  2076  table\n",
       "4  0146_281.png   704   432  1744  1552  table"
      ]
     },
     "execution_count": 6,
     "metadata": {},
     "output_type": "execute_result"
    }
   ],
   "source": [
    "df_train.head()"
   ]
  },
  {
   "cell_type": "code",
   "execution_count": 7,
   "metadata": {},
   "outputs": [],
   "source": [
    "df_train['bbox'] = df_train[['xmin', 'ymin', 'xmax' , 'ymax']].apply(list, axis=1)\n",
    "df_val['bbox'] = df_val[['xmin', 'ymin', 'xmax' , 'ymax']].apply(list, axis=1)\n",
    "\n",
    "df_train['class'] = df_train['class'].map({'table': 1})\n",
    "df_val['class'] = df_val['class'].map({'table': 1})\n",
    "\n",
    "df_train = df_train.drop(columns=['xmin', 'ymin', 'xmax' , 'ymax']).groupby('filename', as_index=False).agg(list)\n",
    "df_val = df_val.drop(columns=['xmin', 'ymin', 'xmax' , 'ymax']).groupby('filename', as_index=False).agg(list)"
   ]
  },
  {
   "cell_type": "code",
   "execution_count": 8,
   "metadata": {},
   "outputs": [
    {
     "data": {
      "text/html": [
       "<div>\n",
       "<style scoped>\n",
       "    .dataframe tbody tr th:only-of-type {\n",
       "        vertical-align: middle;\n",
       "    }\n",
       "\n",
       "    .dataframe tbody tr th {\n",
       "        vertical-align: top;\n",
       "    }\n",
       "\n",
       "    .dataframe thead th {\n",
       "        text-align: right;\n",
       "    }\n",
       "</style>\n",
       "<table border=\"1\" class=\"dataframe\">\n",
       "  <thead>\n",
       "    <tr style=\"text-align: right;\">\n",
       "      <th></th>\n",
       "      <th>filename</th>\n",
       "      <th>class</th>\n",
       "      <th>bbox</th>\n",
       "    </tr>\n",
       "  </thead>\n",
       "  <tbody>\n",
       "    <tr>\n",
       "      <th>0</th>\n",
       "      <td>0101_003.png</td>\n",
       "      <td>[1]</td>\n",
       "      <td>[[770, 946, 2070, 2973]]</td>\n",
       "    </tr>\n",
       "    <tr>\n",
       "      <th>1</th>\n",
       "      <td>0110_099.png</td>\n",
       "      <td>[1]</td>\n",
       "      <td>[[270, 1653, 2280, 2580]]</td>\n",
       "    </tr>\n",
       "    <tr>\n",
       "      <th>2</th>\n",
       "      <td>0113_013.png</td>\n",
       "      <td>[1]</td>\n",
       "      <td>[[303, 343, 2273, 2953]]</td>\n",
       "    </tr>\n",
       "    <tr>\n",
       "      <th>3</th>\n",
       "      <td>0140_007.png</td>\n",
       "      <td>[1]</td>\n",
       "      <td>[[664, 1782, 1814, 2076]]</td>\n",
       "    </tr>\n",
       "    <tr>\n",
       "      <th>4</th>\n",
       "      <td>0146_281.png</td>\n",
       "      <td>[1, 1]</td>\n",
       "      <td>[[704, 432, 1744, 1552], [682, 1740, 1800, 2440]]</td>\n",
       "    </tr>\n",
       "  </tbody>\n",
       "</table>\n",
       "</div>"
      ],
      "text/plain": [
       "       filename   class                                               bbox\n",
       "0  0101_003.png     [1]                           [[770, 946, 2070, 2973]]\n",
       "1  0110_099.png     [1]                          [[270, 1653, 2280, 2580]]\n",
       "2  0113_013.png     [1]                           [[303, 343, 2273, 2953]]\n",
       "3  0140_007.png     [1]                          [[664, 1782, 1814, 2076]]\n",
       "4  0146_281.png  [1, 1]  [[704, 432, 1744, 1552], [682, 1740, 1800, 2440]]"
      ]
     },
     "execution_count": 8,
     "metadata": {},
     "output_type": "execute_result"
    }
   ],
   "source": [
    "df_train.head()"
   ]
  },
  {
   "cell_type": "code",
   "execution_count": 14,
   "metadata": {},
   "outputs": [
    {
     "data": {
      "image/png": "[encoded data removed]",
      "text/plain": [
       "<Figure size 640x480 with 1 Axes>"
      ]
     },
     "metadata": {},
     "output_type": "display_data"
    }
   ],
   "source": [
    "def draw_img_with_box(df_index, scale_percent=20):\n",
    "    path_to_img = os.path.join(path + 'images', df_train.loc[df_index, 'filename'])\n",
    "    img = cv2.imread(path_to_img)\n",
    "    boxes =  df_train.loc[df_index, 'bbox']\n",
    "    for box in boxes:\n",
    "        cv2.rectangle(img, \n",
    "            (int(box[0]), int(box[1])), \n",
    "            (int(box[2]), int(box[3])), \n",
    "            (255, 0, 0), 5)\n",
    "    width = int(img.shape[1] * scale_percent / 100)\n",
    "    height = int(img.shape[0] * scale_percent / 100)\n",
    "    dim = (width, height)   \n",
    "    img = cv2.resize(img, dim)\n",
    "    plt.xticks([])\n",
    "    plt.yticks([])\n",
    "    plt.imshow(img)\n",
    "\n",
    "draw_img_with_box(100)"
   ]
  },
  {
   "cell_type": "code",
   "execution_count": null,
   "metadata": {},
   "outputs": [],
   "source": [
    "class MyDataset(Dataset):  \n",
    "    def __init__(self, dataframe, img_path):\n",
    "        \n",
    "        self.df = dataframe\n",
    "        self.img_path = img_path\n",
    "\n",
    "    def __len__(self):\n",
    "        return self.df.shape[0]\n",
    "  \n",
    "    def __getitem__(self, index):\n",
    "        img_name = self.df.loc[index,'filename']\n",
    "        boxes = torch.Tensor(self.df.loc[index, 'bbox']).to(torch.float)\n",
    "        labels = torch.Tensor(self.df.loc[index, 'class']).to(torch.int64)\n",
    "\n",
    "        target = {}\n",
    "        target['boxes'] = boxes\n",
    "        target['labels'] = labels\n",
    "\n",
    "        img = cv2.imread(os.path.join(self.img_path, img_name))/255.\n",
    "        img = torch.from_numpy(img).permute(2, 0, 1).to(torch.float)\n",
    "        return img, target"
   ]
  },
  {
   "cell_type": "code",
   "execution_count": 24,
   "metadata": {},
   "outputs": [],
   "source": [
    "def create_model(num_classes, pretrained=False):\n",
    "    model = torchvision.models.detection.fasterrcnn_resnet50_fpn(weights=pretrained)\n",
    "    in_features = model.roi_heads.box_predictor.cls_score.in_features\n",
    "    model.roi_heads.box_predictor = FastRCNNPredictor(in_features, num_classes)\n",
    "    return model"
   ]
  },
  {
   "cell_type": "code",
   "execution_count": 25,
   "metadata": {},
   "outputs": [],
   "source": [
    "def collate_fn(batch):\n",
    "    return tuple(zip(*batch))"
   ]
  },
  {
   "cell_type": "code",
   "execution_count": 27,
   "metadata": {},
   "outputs": [],
   "source": [
    "device = torch.device('cuda' if torch.cuda.is_available() else 'cpu')\n",
    "model = create_model(num_classes=2, pretrained=None).to(device)\n",
    "optimizer = torch.optim.Adam(model.parameters(), lr=1e-4, weight_decay=0.0005)\n",
    "scheduler = torch.optim.lr_scheduler.StepLR(optimizer, step_size=1, gamma=0.9)\n",
    "\n",
    "train_dataset = MyDataset(df_train, '/content/table-detection-dataset/images')\n",
    "val_dataset = MyDataset(df_val, '/content/table-detection-dataset/images')\n",
    "\n",
    "train_data_loader = DataLoader(\n",
    "    train_dataset,\n",
    "    batch_size=3,\n",
    "    shuffle=True,\n",
    "    collate_fn=collate_fn\n",
    ")\n",
    "\n",
    "val_data_loader = DataLoader(\n",
    "    val_dataset,\n",
    "    batch_size=3,\n",
    "    shuffle=False,\n",
    "    collate_fn=collate_fn\n",
    ")"
   ]
  },
  {
   "cell_type": "code",
   "execution_count": 28,
   "metadata": {},
   "outputs": [],
   "source": [
    "def train(train_dataloader): \n",
    "    model.train()\n",
    "    running_loss = 0\n",
    "    for i, data in enumerate(train_dataloader):\n",
    "        optimizer.zero_grad()\n",
    "        images, targets = data[0], data[1]\n",
    "        images = list(image.to(device) for image in images)\n",
    "        targets = [{k: v.to(device) for k, v in t.items()} for t in targets]\n",
    "        loss_dict = model(images, targets)\n",
    "        loss = sum(loss for loss in loss_dict.values())\n",
    "        running_loss += loss.item()\n",
    "        loss.backward()\n",
    "        optimizer.step()\n",
    "        if i % 50 == 0:\n",
    "            print(f\"\\tИтерация #{i} loss: {loss}\")\n",
    "    train_loss = running_loss/len(train_dataloader.dataset)\n",
    "    return train_loss"
   ]
  },
  {
   "cell_type": "code",
   "execution_count": 29,
   "metadata": {},
   "outputs": [],
   "source": [
    "def val(val_dataloader):\n",
    "    running_loss = 0\n",
    "    for data in val_dataloader:\n",
    "        optimizer.zero_grad()\n",
    "        images, targets = data[0], data[1]\n",
    "        images = list(image.to(device) for image in images)\n",
    "        targets = [{k: v.to(device) for k, v in t.items()} for t in targets]\n",
    "        with torch.no_grad():\n",
    "            loss_dict = model(images, targets)\n",
    "        loss_dict = model(images, targets)\n",
    "        loss = sum(loss for loss in loss_dict.values())\n",
    "        running_loss += loss.item()\n",
    "    val_loss = running_loss/len(val_dataloader.dataset)\n",
    "    return val_loss "
   ]
  },
  {
   "cell_type": "code",
   "execution_count": null,
   "metadata": {},
   "outputs": [],
   "source": [
    "train_losses = []\n",
    "val_losses = []\n",
    "for epoch in range(20):\n",
    "        start = time.time()\n",
    "        train_loss = train(train_data_loader)\n",
    "        val_loss = val(val_data_loader)\n",
    "        scheduler.step()\n",
    "        print(f\"Epoch #{epoch} train_loss: {train_loss}, val_loss: {val_loss}\")  \n",
    "        end = time.time()\n",
    "        print(f\"{round((end - start) / 60, 1)} minutes for {epoch} epoch\")\n",
    "        train_losses.append(train_loss)\n",
    "        val_losses.append(val_loss)"
   ]
  },
  {
   "cell_type": "code",
   "execution_count": null,
   "metadata": {},
   "outputs": [],
   "source": [
    "fig, ax  = plt.subplots()\n",
    "ax.plot(train_losses, label='Train')\n",
    "ax.plot(val_losses, label='Val')\n",
    "ax.set(xlabel='Epoch', ylabel='Loss')\n",
    "ax.legend()"
   ]
  },
  {
   "cell_type": "code",
   "execution_count": null,
   "metadata": {},
   "outputs": [],
   "source": [
    "def draw_predict(df_index, iou_threshold=0.1, threshold=0.8, scale_percent=25):\n",
    "    model.eval()\n",
    "    img = cv2.imread(os.path.join('/content/table-detection-dataset/images', df_val.loc[df_index, 'filename']))\n",
    "    img_ = img / 255.\n",
    "    img_ = torch.from_numpy(img_).permute(2, 0, 1).unsqueeze(0).to(torch.float).to(device)\n",
    "    predict = model(img_)\n",
    "    ind = nms(predict[0]['boxes'], predict[0]['scores'], iou_threshold).detach().cpu().numpy()\n",
    "    for i, box in enumerate(predict[0]['boxes'][ind]):\n",
    "        if predict[0]['scores'][i] > threshold:\n",
    "            cv2.rectangle(img, \n",
    "                    (int(box[0]), int(box[1])), \n",
    "                    (int(box[2]), int(box[3])), \n",
    "                    (255, 0, 0), 5)\n",
    "    width = int(img.shape[1] * scale_percent / 100)\n",
    "    height = int(img.shape[0] * scale_percent / 100)\n",
    "    dim = (width, height)   \n",
    "    img = cv2.resize(img, dim)\n",
    "    plt.xticks([])\n",
    "    plt.yticks([])\n",
    "    plt.imshow(img)\n",
    "draw_predict(63, 0.1)"
   ]
  }
 ],
 "metadata": {
  "kernelspec": {
   "display_name": "Python 3",
   "language": "python",
   "name": "python3"
  },
  "language_info": {
   "codemirror_mode": {
    "name": "ipython",
    "version": 3
   },
   "file_extension": ".py",
   "mimetype": "text/x-python",
   "name": "python",
   "nbconvert_exporter": "python",
   "pygments_lexer": "ipython3",
   "version": "3.11.1"
  }
 },
 "nbformat": 4,
 "nbformat_minor": 2
}
