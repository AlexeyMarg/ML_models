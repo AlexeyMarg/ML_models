{
 "cells": [
  {
   "cell_type": "markdown",
   "metadata": {},
   "source": [
    "## Задача регрессии\n",
    "\n",
    "Создадим датасет в виде прямой с шумами"
   ]
  },
  {
   "cell_type": "code",
   "execution_count": 2,
   "metadata": {},
   "outputs": [
    {
     "data": {
      "text/plain": [
       "(array([[1.99567562],\n",
       "        [1.33225779],\n",
       "        [1.08555238],\n",
       "        [1.11600994],\n",
       "        [1.42545456],\n",
       "        [0.07404568],\n",
       "        [1.79562806],\n",
       "        [0.25215202],\n",
       "        [1.24139734],\n",
       "        [1.20929422]]),\n",
       " array([[9.79385558],\n",
       "        [6.41054634],\n",
       "        [5.9147169 ],\n",
       "        [9.60803741],\n",
       "        [8.76508076],\n",
       "        [3.52876521],\n",
       "        [9.67850278],\n",
       "        [5.29894564],\n",
       "        [7.46403534],\n",
       "        [6.72033312]]))"
      ]
     },
     "execution_count": 2,
     "metadata": {},
     "output_type": "execute_result"
    }
   ],
   "source": [
    "import numpy as np\n",
    "\n",
    "X = 2 * np.random.rand(1000, 1)\n",
    "X[:10]\n",
    "\n",
    "k = 3\n",
    "b = 4\n",
    "y = 4 + 3*X + np.random.randn(1000, 1)\n",
    "y[:10]\n",
    "\n",
    "X[:10], y[:10]\n"
   ]
  },
  {
   "cell_type": "code",
   "execution_count": 3,
   "metadata": {},
   "outputs": [
    {
     "data": {
      "text/plain": [
       "<matplotlib.collections.PathCollection at 0x2a2e96dcdc8>"
      ]
     },
     "execution_count": 3,
     "metadata": {},
     "output_type": "execute_result"
    },
    {
     "data": {
      "image/png": "[encoded data removed]",
      "text/plain": [
       "<Figure size 432x288 with 1 Axes>"
      ]
     },
     "metadata": {
      "needs_background": "light"
     },
     "output_type": "display_data"
    }
   ],
   "source": [
    "import matplotlib.pyplot as plt\n",
    "\n",
    "plt.scatter(X, y)"
   ]
  },
  {
   "cell_type": "code",
   "execution_count": 4,
   "metadata": {},
   "outputs": [],
   "source": [
    "from sklearn.model_selection import train_test_split\n",
    "\n",
    "X_train, X_test, y_train, y_test = train_test_split(X, y, test_size = 0.2)"
   ]
  },
  {
   "cell_type": "markdown",
   "metadata": {},
   "source": [
    "Создадим модель"
   ]
  },
  {
   "cell_type": "code",
   "execution_count": 5,
   "metadata": {},
   "outputs": [],
   "source": [
    "import tensorflow as tf\n",
    "from tensorflow import keras\n",
    "from tensorflow.keras import layers"
   ]
  },
  {
   "cell_type": "code",
   "execution_count": 7,
   "metadata": {},
   "outputs": [],
   "source": [
    "model = keras.Sequential(\n",
    "    [layers.Input(shape=(1, )),\n",
    "     layers.Dense(3, activation='relu'),\n",
    "     layers.Dense(1)     \n",
    "     ]\n",
    ")"
   ]
  },
  {
   "cell_type": "code",
   "execution_count": 12,
   "metadata": {},
   "outputs": [],
   "source": [
    "model.compile(\n",
    "    loss=keras.losses.MeanSquaredError(),\n",
    "    optimizer=keras.optimizers.SGD(),\n",
    "    metrics=['MeanSquaredError']\n",
    ")"
   ]
  },
  {
   "cell_type": "code",
   "execution_count": 13,
   "metadata": {},
   "outputs": [
    {
     "name": "stdout",
     "output_type": "stream",
     "text": [
      "Epoch 1/2\n",
      "10/10 [==============================] - 0s 10ms/step - loss: 1.2685 - mean_squared_error: 1.2685 - val_loss: 1.4039 - val_mean_squared_error: 1.4039\n",
      "Epoch 2/2\n",
      "10/10 [==============================] - 0s 2ms/step - loss: 1.2183 - mean_squared_error: 1.2183 - val_loss: 1.3518 - val_mean_squared_error: 1.3518\n",
      "7/7 - 0s - loss: 1.0739 - mean_squared_error: 1.0739\n",
      "Test loss:  1.073880672454834\n",
      "Test accuracy 1.073880672454834\n"
     ]
    }
   ],
   "source": [
    "history = model.fit(X_train, y_train, batch_size=64, epochs=2, validation_split=0.2)\n",
    "test_scores = model.evaluate(X_test, y_test, verbose=2)\n",
    "\n",
    "print('Test loss: ', test_scores[0])\n",
    "print('Test accuracy', test_scores[1])"
   ]
  },
  {
   "cell_type": "code",
   "execution_count": null,
   "metadata": {},
   "outputs": [],
   "source": []
  }
 ],
 "metadata": {
  "interpreter": {
   "hash": "e922dd073470bdcc017ae3abd31d6491d6ed7bf31c1d559806e5511bfea88b81"
  },
  "kernelspec": {
   "display_name": "Python 3.7.5 64-bit",
   "language": "python",
   "name": "python3"
  },
  "language_info": {
   "codemirror_mode": {
    "name": "ipython",
    "version": 3
   },
   "file_extension": ".py",
   "mimetype": "text/x-python",
   "name": "python",
   "nbconvert_exporter": "python",
   "pygments_lexer": "ipython3",
   "version": "3.7.5"
  },
  "orig_nbformat": 4
 },
 "nbformat": 4,
 "nbformat_minor": 2
}
