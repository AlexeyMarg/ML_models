{
 "cells": [
  {
   "attachments": {},
   "cell_type": "markdown",
   "metadata": {},
   "source": [
    "# XGBoost classifier\n",
    "http://xgboost.readthedocs.io/en/latest/python/python_api.html"
   ]
  },
  {
   "cell_type": "code",
   "execution_count": 1,
   "metadata": {},
   "outputs": [],
   "source": [
    "import numpy as np\n",
    "from numpy import loadtxt\n",
    "from xgboost import XGBClassifier\n",
    "from sklearn.model_selection import train_test_split\n",
    "from sklearn.metrics import accuracy_score"
   ]
  },
  {
   "cell_type": "code",
   "execution_count": 3,
   "metadata": {},
   "outputs": [
    {
     "data": {
      "text/plain": [
       "array([  6.   , 148.   ,  72.   ,  35.   ,   0.   ,  33.6  ,   0.627,\n",
       "        50.   ,   1.   ])"
      ]
     },
     "execution_count": 3,
     "metadata": {},
     "output_type": "execute_result"
    }
   ],
   "source": [
    "dataset = loadtxt('diabet.csv', delimiter=',')\n",
    "dataset[0]"
   ]
  },
  {
   "cell_type": "code",
   "execution_count": 5,
   "metadata": {},
   "outputs": [
    {
     "data": {
      "text/plain": [
       "((768, 8), (768,))"
      ]
     },
     "execution_count": 5,
     "metadata": {},
     "output_type": "execute_result"
    }
   ],
   "source": [
    "X = dataset[:, 0:-1]\n",
    "y = dataset[:, -1]\n",
    "X.shape, y.shape"
   ]
  },
  {
   "cell_type": "code",
   "execution_count": 6,
   "metadata": {},
   "outputs": [],
   "source": [
    "X_train, X_test, y_train, y_test = train_test_split(X, y, test_size=1/3)"
   ]
  },
  {
   "cell_type": "code",
   "execution_count": 9,
   "metadata": {},
   "outputs": [
    {
     "data": {
      "text/plain": [
       "XGBClassifier(base_score=0.5, booster='gbtree', colsample_bylevel=1,\n",
       "              colsample_bynode=1, colsample_bytree=1, enable_categorical=False,\n",
       "              eval_metric='logloss', gamma=0, gpu_id=-1, importance_type=None,\n",
       "              interaction_constraints='', learning_rate=0.300000012,\n",
       "              max_delta_step=0, max_depth=6, min_child_weight=1, missing=nan,\n",
       "              monotone_constraints='()', n_estimators=100, n_jobs=8,\n",
       "              num_parallel_tree=1, predictor='auto', random_state=0,\n",
       "              reg_alpha=0, reg_lambda=1, scale_pos_weight=1, subsample=1,\n",
       "              tree_method='exact', use_label_encoder=False,\n",
       "              validate_parameters=1, verbosity=None)"
      ]
     },
     "execution_count": 9,
     "metadata": {},
     "output_type": "execute_result"
    }
   ],
   "source": [
    "model = XGBClassifier(use_label_encoder=False, eval_metric='logloss')\n",
    "model.fit(X_train, y_train)"
   ]
  },
  {
   "cell_type": "code",
   "execution_count": 10,
   "metadata": {},
   "outputs": [
    {
     "name": "stdout",
     "output_type": "stream",
     "text": [
      "0.75\n"
     ]
    }
   ],
   "source": [
    "y_pred = model.predict(X_test)\n",
    "print(accuracy_score(y_test, y_pred))"
   ]
  },
  {
   "cell_type": "markdown",
   "metadata": {},
   "source": [
    "## Model evaluation"
   ]
  },
  {
   "cell_type": "code",
   "execution_count": 12,
   "metadata": {},
   "outputs": [
    {
     "data": {
      "text/plain": [
       "<matplotlib.axes._subplots.AxesSubplot at 0x2096efa0508>"
      ]
     },
     "execution_count": 12,
     "metadata": {},
     "output_type": "execute_result"
    },
    {
     "data": {
      "image/png": "[encoded data removed]",
      "text/plain": [
       "<Figure size 432x288 with 1 Axes>"
      ]
     },
     "metadata": {
      "needs_background": "light"
     },
     "output_type": "display_data"
    }
   ],
   "source": [
    "from xgboost import plot_tree\n",
    "\n",
    "plot_tree(model)"
   ]
  },
  {
   "cell_type": "code",
   "execution_count": 13,
   "metadata": {},
   "outputs": [
    {
     "name": "stdout",
     "output_type": "stream",
     "text": [
      "[0.07100065 0.26054224 0.08863903 0.09389706 0.0966643  0.15330279\n",
      " 0.08436987 0.1515841 ]\n"
     ]
    }
   ],
   "source": [
    "print(model.feature_importances_)"
   ]
  },
  {
   "cell_type": "code",
   "execution_count": 14,
   "metadata": {},
   "outputs": [
    {
     "data": {
      "text/plain": [
       "<matplotlib.axes._subplots.AxesSubplot at 0x2096f001548>"
      ]
     },
     "execution_count": 14,
     "metadata": {},
     "output_type": "execute_result"
    },
    {
     "data": {
      "image/png": "[encoded data removed]",
      "text/plain": [
       "<Figure size 432x288 with 1 Axes>"
      ]
     },
     "metadata": {
      "needs_background": "light"
     },
     "output_type": "display_data"
    }
   ],
   "source": [
    "from xgboost import plot_importance\n",
    "\n",
    "plot_importance(model)"
   ]
  },
  {
   "cell_type": "markdown",
   "metadata": {},
   "source": [
    "## Early stopping to prevent overfitting"
   ]
  },
  {
   "cell_type": "code",
   "execution_count": 17,
   "metadata": {},
   "outputs": [
    {
     "name": "stdout",
     "output_type": "stream",
     "text": [
      "[0]\tvalidation_0-error:0.28516\n",
      "[1]\tvalidation_0-error:0.25781\n",
      "[2]\tvalidation_0-error:0.23047\n",
      "[3]\tvalidation_0-error:0.23438\n",
      "[4]\tvalidation_0-error:0.21484\n",
      "[5]\tvalidation_0-error:0.23047\n",
      "[6]\tvalidation_0-error:0.24219\n",
      "[7]\tvalidation_0-error:0.23438\n",
      "[8]\tvalidation_0-error:0.23828\n",
      "[9]\tvalidation_0-error:0.22266\n",
      "[10]\tvalidation_0-error:0.23047\n",
      "[11]\tvalidation_0-error:0.23047\n",
      "[12]\tvalidation_0-error:0.23047\n",
      "[13]\tvalidation_0-error:0.23438\n",
      "[14]\tvalidation_0-error:0.22266\n",
      "[15]\tvalidation_0-error:0.22266\n",
      "[16]\tvalidation_0-error:0.22266\n",
      "[17]\tvalidation_0-error:0.22266\n",
      "[18]\tvalidation_0-error:0.21484\n",
      "[19]\tvalidation_0-error:0.22266\n",
      "[20]\tvalidation_0-error:0.21875\n",
      "[21]\tvalidation_0-error:0.23047\n",
      "[22]\tvalidation_0-error:0.23047\n",
      "[23]\tvalidation_0-error:0.23047\n",
      "[24]\tvalidation_0-error:0.23047\n",
      "[25]\tvalidation_0-error:0.23047\n",
      "[26]\tvalidation_0-error:0.22656\n",
      "[27]\tvalidation_0-error:0.22656\n",
      "[28]\tvalidation_0-error:0.23438\n",
      "[29]\tvalidation_0-error:0.23438\n",
      "[30]\tvalidation_0-error:0.23438\n",
      "[31]\tvalidation_0-error:0.23438\n",
      "[32]\tvalidation_0-error:0.24219\n"
     ]
    },
    {
     "name": "stderr",
     "output_type": "stream",
     "text": [
      "c:\\python\\lib\\site-packages\\xgboost\\sklearn.py:1224: UserWarning: The use of label encoder in XGBClassifier is deprecated and will be removed in a future release. To remove this warning, do the following: 1) Pass option use_label_encoder=False when constructing XGBClassifier object; and 2) Encode your labels (y) as integers starting with 0, i.e. 0, 1, 2, ..., [num_class - 1].\n",
      "  warnings.warn(label_encoder_deprecation_msg, UserWarning)\n"
     ]
    },
    {
     "name": "stdout",
     "output_type": "stream",
     "text": [
      "[33]\tvalidation_0-error:0.23828\n",
      "[34]\tvalidation_0-error:0.24219\n",
      "[35]\tvalidation_0-error:0.24219\n",
      "[36]\tvalidation_0-error:0.23828\n",
      "[37]\tvalidation_0-error:0.23828\n",
      "[38]\tvalidation_0-error:0.23438\n",
      "[39]\tvalidation_0-error:0.23438\n",
      "[40]\tvalidation_0-error:0.23047\n",
      "[41]\tvalidation_0-error:0.23438\n",
      "[42]\tvalidation_0-error:0.24219\n",
      "[43]\tvalidation_0-error:0.24609\n",
      "[44]\tvalidation_0-error:0.24609\n",
      "[45]\tvalidation_0-error:0.24219\n",
      "[46]\tvalidation_0-error:0.24219\n",
      "[47]\tvalidation_0-error:0.23438\n",
      "[48]\tvalidation_0-error:0.23438\n",
      "[49]\tvalidation_0-error:0.24219\n",
      "[50]\tvalidation_0-error:0.23438\n",
      "[51]\tvalidation_0-error:0.24219\n",
      "[52]\tvalidation_0-error:0.23828\n",
      "[53]\tvalidation_0-error:0.23828\n",
      "[54]\tvalidation_0-error:0.23828\n",
      "[55]\tvalidation_0-error:0.23438\n",
      "[56]\tvalidation_0-error:0.23438\n",
      "[57]\tvalidation_0-error:0.23828\n",
      "[58]\tvalidation_0-error:0.23828\n",
      "[59]\tvalidation_0-error:0.23438\n",
      "[60]\tvalidation_0-error:0.23828\n",
      "[61]\tvalidation_0-error:0.24219\n",
      "[62]\tvalidation_0-error:0.23828\n",
      "[63]\tvalidation_0-error:0.23828\n",
      "[64]\tvalidation_0-error:0.23047\n",
      "[65]\tvalidation_0-error:0.23828\n",
      "[66]\tvalidation_0-error:0.23828\n",
      "[67]\tvalidation_0-error:0.23828\n",
      "[68]\tvalidation_0-error:0.24219\n",
      "[69]\tvalidation_0-error:0.25000\n",
      "[70]\tvalidation_0-error:0.23828\n",
      "[71]\tvalidation_0-error:0.24219\n",
      "[72]\tvalidation_0-error:0.24219\n",
      "[73]\tvalidation_0-error:0.24219\n",
      "[74]\tvalidation_0-error:0.24219\n",
      "[75]\tvalidation_0-error:0.24219\n",
      "[76]\tvalidation_0-error:0.24219\n",
      "[77]\tvalidation_0-error:0.24219\n",
      "[78]\tvalidation_0-error:0.23828\n",
      "[79]\tvalidation_0-error:0.24219\n",
      "[80]\tvalidation_0-error:0.23828\n",
      "[81]\tvalidation_0-error:0.23438\n",
      "[82]\tvalidation_0-error:0.23828\n",
      "[83]\tvalidation_0-error:0.23828\n",
      "[84]\tvalidation_0-error:0.24219\n",
      "[85]\tvalidation_0-error:0.23438\n",
      "[86]\tvalidation_0-error:0.23438\n",
      "[87]\tvalidation_0-error:0.23047\n",
      "[88]\tvalidation_0-error:0.23438\n",
      "[89]\tvalidation_0-error:0.23828\n",
      "[90]\tvalidation_0-error:0.24609\n",
      "[91]\tvalidation_0-error:0.24609\n",
      "[92]\tvalidation_0-error:0.24219\n",
      "[93]\tvalidation_0-error:0.23828\n",
      "[94]\tvalidation_0-error:0.24609\n",
      "[95]\tvalidation_0-error:0.24219\n",
      "[96]\tvalidation_0-error:0.23828\n",
      "[97]\tvalidation_0-error:0.24219\n",
      "[98]\tvalidation_0-error:0.24609\n",
      "[99]\tvalidation_0-error:0.25000\n",
      "Accuracy: 75.00%\n"
     ]
    }
   ],
   "source": [
    "model = XGBClassifier()\n",
    "eval_set = [(X_test, y_test)]\n",
    "model.fit(X_train, y_train, eval_metric=\"error\", eval_set=eval_set, verbose=True)\n",
    "# make predictions for test data\n",
    "y_pred = model.predict(X_test)\n",
    "predictions = [round(value) for value in y_pred]\n",
    "# evaluate predictions\n",
    "accuracy = accuracy_score(y_test, predictions)\n",
    "print(\"Accuracy: %.2f%%\" % (accuracy * 100.0))"
   ]
  },
  {
   "attachments": {},
   "cell_type": "markdown",
   "metadata": {},
   "source": [
    "## Evaluate XGBoost Models With Learning Curves"
   ]
  },
  {
   "cell_type": "code",
   "execution_count": 19,
   "metadata": {},
   "outputs": [
    {
     "name": "stdout",
     "output_type": "stream",
     "text": [
      "[0]\tvalidation_0-error:0.14844\tvalidation_0-logloss:0.55537\tvalidation_1-error:0.28516\tvalidation_1-logloss:0.60655\n",
      "[1]\tvalidation_0-error:0.12695\tvalidation_0-logloss:0.47064\tvalidation_1-error:0.25781\tvalidation_1-logloss:0.56701\n",
      "[2]\tvalidation_0-error:0.09961\tvalidation_0-logloss:0.41033\tvalidation_1-error:0.23047\tvalidation_1-logloss:0.53854\n",
      "[3]\tvalidation_0-error:0.09766\tvalidation_0-logloss:0.36684\tvalidation_1-error:0.23438\tvalidation_1-logloss:0.51664\n",
      "[4]\tvalidation_0-error:0.08789\tvalidation_0-logloss:0.33898\tvalidation_1-error:0.21484\tvalidation_1-logloss:0.50189\n",
      "[5]\tvalidation_0-error:0.08008\tvalidation_0-logloss:0.30874\tvalidation_1-error:0.23047\tvalidation_1-logloss:0.49558\n",
      "[6]\tvalidation_0-error:0.07422\tvalidation_0-logloss:0.28684\tvalidation_1-error:0.24219\tvalidation_1-logloss:0.48856\n",
      "[7]\tvalidation_0-error:0.06641\tvalidation_0-logloss:0.26620\tvalidation_1-error:0.23438\tvalidation_1-logloss:0.48681\n",
      "[8]\tvalidation_0-error:0.06445\tvalidation_0-logloss:0.25176\tvalidation_1-error:0.23828\tvalidation_1-logloss:0.48508\n",
      "[9]\tvalidation_0-error:0.05859\tvalidation_0-logloss:0.23752\tvalidation_1-error:0.22266\tvalidation_1-logloss:0.48974\n",
      "[10]\tvalidation_0-error:0.06055\tvalidation_0-logloss:0.22778\tvalidation_1-error:0.23047\tvalidation_1-logloss:0.49168\n",
      "[11]\tvalidation_0-error:0.04492\tvalidation_0-logloss:0.21099\tvalidation_1-error:0.23047\tvalidation_1-logloss:0.49426\n",
      "[12]\tvalidation_0-error:0.03711\tvalidation_0-logloss:0.20315\tvalidation_1-error:0.23047\tvalidation_1-logloss:0.50140\n",
      "[13]\tvalidation_0-error:0.02734\tvalidation_0-logloss:0.19595\tvalidation_1-error:0.23438\tvalidation_1-logloss:0.50214\n",
      "[14]\tvalidation_0-error:0.01758\tvalidation_0-logloss:0.18418\tvalidation_1-error:0.22266\tvalidation_1-logloss:0.50851\n",
      "[15]\tvalidation_0-error:0.01758\tvalidation_0-logloss:0.17728\tvalidation_1-error:0.22266\tvalidation_1-logloss:0.51476\n",
      "[16]\tvalidation_0-error:0.01758\tvalidation_0-logloss:0.16836\tvalidation_1-error:0.22266\tvalidation_1-logloss:0.51572\n",
      "[17]\tvalidation_0-error:0.01367\tvalidation_0-logloss:0.16138\tvalidation_1-error:0.22266\tvalidation_1-logloss:0.52141\n",
      "[18]\tvalidation_0-error:0.01172\tvalidation_0-logloss:0.15624\tvalidation_1-error:0.21484\tvalidation_1-logloss:0.52392\n",
      "[19]\tvalidation_0-error:0.00781\tvalidation_0-logloss:0.15189\tvalidation_1-error:0.22266\tvalidation_1-logloss:0.52969\n",
      "[20]\tvalidation_0-error:0.00586\tvalidation_0-logloss:0.14876\tvalidation_1-error:0.21875\tvalidation_1-logloss:0.53021\n",
      "[21]\tvalidation_0-error:0.00586\tvalidation_0-logloss:0.14192\tvalidation_1-error:0.23047\tvalidation_1-logloss:0.53992\n",
      "[22]\tvalidation_0-error:0.00391\tvalidation_0-logloss:0.13366\tvalidation_1-error:0.23047\tvalidation_1-logloss:0.54061\n",
      "[23]\tvalidation_0-error:0.00391\tvalidation_0-logloss:0.12720\tvalidation_1-error:0.23047\tvalidation_1-logloss:0.54639\n",
      "[24]\tvalidation_0-error:0.00391\tvalidation_0-logloss:0.12206\tvalidation_1-error:0.23047\tvalidation_1-logloss:0.55210\n",
      "[25]\tvalidation_0-error:0.00391\tvalidation_0-logloss:0.11805\tvalidation_1-error:0.23047\tvalidation_1-logloss:0.55744\n",
      "[26]\tvalidation_0-error:0.00195\tvalidation_0-logloss:0.11565\tvalidation_1-error:0.22656\tvalidation_1-logloss:0.55850\n",
      "[27]\tvalidation_0-error:0.00195\tvalidation_0-logloss:0.11299\tvalidation_1-error:0.22656\tvalidation_1-logloss:0.56606\n",
      "[28]\tvalidation_0-error:0.00391\tvalidation_0-logloss:0.10821\tvalidation_1-error:0.23438\tvalidation_1-logloss:0.56995\n",
      "[29]\tvalidation_0-error:0.00391\tvalidation_0-logloss:0.10619\tvalidation_1-error:0.23438\tvalidation_1-logloss:0.57185\n",
      "[30]\tvalidation_0-error:0.00391\tvalidation_0-logloss:0.10373\tvalidation_1-error:0.23438\tvalidation_1-logloss:0.57529\n",
      "[31]\tvalidation_0-error:0.00195\tvalidation_0-logloss:0.09901\tvalidation_1-error:0.23438\tvalidation_1-logloss:0.58253\n",
      "[32]\tvalidation_0-error:0.00195\tvalidation_0-logloss:0.09537\tvalidation_1-error:0.24219\tvalidation_1-logloss:0.58345\n",
      "[33]\tvalidation_0-error:0.00195\tvalidation_0-logloss:0.09212\tvalidation_1-error:0.23828\tvalidation_1-logloss:0.58793\n",
      "[34]\tvalidation_0-error:0.00000\tvalidation_0-logloss:0.08931\tvalidation_1-error:0.24219\tvalidation_1-logloss:0.59024\n",
      "[35]\tvalidation_0-error:0.00000\tvalidation_0-logloss:0.08526\tvalidation_1-error:0.24219\tvalidation_1-logloss:0.59481\n",
      "[36]\tvalidation_0-error:0.00000\tvalidation_0-logloss:0.08416\tvalidation_1-error:0.23828\tvalidation_1-logloss:0.59460\n",
      "[37]\tvalidation_0-error:0.00000\tvalidation_0-logloss:0.08189\tvalidation_1-error:0.23828\tvalidation_1-logloss:0.59884\n",
      "[38]\tvalidation_0-error:0.00000\tvalidation_0-logloss:0.07999\tvalidation_1-error:0.23438\tvalidation_1-logloss:0.60062\n",
      "[39]\tvalidation_0-error:0.00000\tvalidation_0-logloss:0.07770\tvalidation_1-error:0.23438\tvalidation_1-logloss:0.60057\n",
      "[40]\tvalidation_0-error:0.00000\tvalidation_0-logloss:0.07495\tvalidation_1-error:0.23047\tvalidation_1-logloss:0.60271\n",
      "[41]\tvalidation_0-error:0.00000\tvalidation_0-logloss:0.07350\tvalidation_1-error:0.23438\tvalidation_1-logloss:0.60797\n",
      "[42]\tvalidation_0-error:0.00000\tvalidation_0-logloss:0.07113\tvalidation_1-error:0.24219\tvalidation_1-logloss:0.61003\n",
      "[43]\tvalidation_0-error:0.00000\tvalidation_0-logloss:0.06942\tvalidation_1-error:0.24609\tvalidation_1-logloss:0.61145\n",
      "[44]\tvalidation_0-error:0.00000\tvalidation_0-logloss:0.06686\tvalidation_1-error:0.24609\tvalidation_1-logloss:0.61479\n",
      "[45]\tvalidation_0-error:0.00000\tvalidation_0-logloss:0.06515\tvalidation_1-error:0.24219\tvalidation_1-logloss:0.61516\n",
      "[46]\tvalidation_0-error:0.00000\tvalidation_0-logloss:0.06413\tvalidation_1-error:0.24219\tvalidation_1-logloss:0.61861\n",
      "[47]\tvalidation_0-error:0.00000\tvalidation_0-logloss:0.06270\tvalidation_1-error:0.23438\tvalidation_1-logloss:0.62156\n",
      "[48]\tvalidation_0-error:0.00000\tvalidation_0-logloss:0.06197\tvalidation_1-error:0.23438\tvalidation_1-logloss:0.62069\n",
      "[49]\tvalidation_0-error:0.00000\tvalidation_0-logloss:0.06088\tvalidation_1-error:0.24219\tvalidation_1-logloss:0.62098\n",
      "[50]\tvalidation_0-error:0.00000\tvalidation_0-logloss:0.06030\tvalidation_1-error:0.23438\tvalidation_1-logloss:0.62228\n",
      "[51]\tvalidation_0-error:0.00000\tvalidation_0-logloss:0.05951\tvalidation_1-error:0.24219\tvalidation_1-logloss:0.62165\n",
      "[52]\tvalidation_0-error:0.00000\tvalidation_0-logloss:0.05872\tvalidation_1-error:0.23828\tvalidation_1-logloss:0.62185\n",
      "[53]\tvalidation_0-error:0.00000\tvalidation_0-logloss:0.05747\tvalidation_1-error:0.23828\tvalidation_1-logloss:0.62764\n",
      "[54]\tvalidation_0-error:0.00000\tvalidation_0-logloss:0.05622\tvalidation_1-error:0.23828\tvalidation_1-logloss:0.63324\n",
      "[55]\tvalidation_0-error:0.00000\tvalidation_0-logloss:0.05499\tvalidation_1-error:0.23438\tvalidation_1-logloss:0.63223\n",
      "[56]\tvalidation_0-error:0.00000\tvalidation_0-logloss:0.05426\tvalidation_1-error:0.23438\tvalidation_1-logloss:0.63689\n",
      "[57]\tvalidation_0-error:0.00000\tvalidation_0-logloss:0.05283\tvalidation_1-error:0.23828\tvalidation_1-logloss:0.63920\n",
      "[58]\tvalidation_0-error:0.00000\tvalidation_0-logloss:0.05237\tvalidation_1-error:0.23828\tvalidation_1-logloss:0.63858\n",
      "[59]\tvalidation_0-error:0.00000\tvalidation_0-logloss:0.05099\tvalidation_1-error:0.23438\tvalidation_1-logloss:0.64189\n",
      "[60]\tvalidation_0-error:0.00000\tvalidation_0-logloss:0.04995\tvalidation_1-error:0.23828\tvalidation_1-logloss:0.64546\n",
      "[61]\tvalidation_0-error:0.00000\tvalidation_0-logloss:0.04892\tvalidation_1-error:0.24219\tvalidation_1-logloss:0.64574\n",
      "[62]\tvalidation_0-error:0.00000\tvalidation_0-logloss:0.04823\tvalidation_1-error:0.23828\tvalidation_1-logloss:0.64903\n",
      "[63]\tvalidation_0-error:0.00000\tvalidation_0-logloss:0.04761\tvalidation_1-error:0.23828\tvalidation_1-logloss:0.65030\n",
      "[64]\tvalidation_0-error:0.00000\tvalidation_0-logloss:0.04690\tvalidation_1-error:0.23047\tvalidation_1-logloss:0.65466\n",
      "[65]\tvalidation_0-error:0.00000\tvalidation_0-logloss:0.04593\tvalidation_1-error:0.23828\tvalidation_1-logloss:0.65727\n",
      "[66]\tvalidation_0-error:0.00000\tvalidation_0-logloss:0.04524\tvalidation_1-error:0.23828\tvalidation_1-logloss:0.65907\n",
      "[67]\tvalidation_0-error:0.00000\tvalidation_0-logloss:0.04457\tvalidation_1-error:0.23828\tvalidation_1-logloss:0.66019\n",
      "[68]\tvalidation_0-error:0.00000\tvalidation_0-logloss:0.04408\tvalidation_1-error:0.24219\tvalidation_1-logloss:0.66383\n",
      "[69]\tvalidation_0-error:0.00000\tvalidation_0-logloss:0.04326\tvalidation_1-error:0.25000\tvalidation_1-logloss:0.66945\n",
      "[70]\tvalidation_0-error:0.00000\tvalidation_0-logloss:0.04263\tvalidation_1-error:0.23828\tvalidation_1-logloss:0.67080\n",
      "[71]\tvalidation_0-error:0.00000\tvalidation_0-logloss:0.04187\tvalidation_1-error:0.24219\tvalidation_1-logloss:0.67161\n",
      "[72]\tvalidation_0-error:0.00000\tvalidation_0-logloss:0.04118\tvalidation_1-error:0.24219\tvalidation_1-logloss:0.67629\n",
      "[73]\tvalidation_0-error:0.00000\tvalidation_0-logloss:0.04081\tvalidation_1-error:0.24219\tvalidation_1-logloss:0.67676\n",
      "[74]\tvalidation_0-error:0.00000\tvalidation_0-logloss:0.04022\tvalidation_1-error:0.24219\tvalidation_1-logloss:0.68122\n",
      "[75]\tvalidation_0-error:0.00000\tvalidation_0-logloss:0.03955\tvalidation_1-error:0.24219\tvalidation_1-logloss:0.68192\n",
      "[76]\tvalidation_0-error:0.00000\tvalidation_0-logloss:0.03898\tvalidation_1-error:0.24219\tvalidation_1-logloss:0.68468\n",
      "[77]\tvalidation_0-error:0.00000\tvalidation_0-logloss:0.03842\tvalidation_1-error:0.24219\tvalidation_1-logloss:0.68629\n",
      "[78]\tvalidation_0-error:0.00000\tvalidation_0-logloss:0.03783\tvalidation_1-error:0.23828\tvalidation_1-logloss:0.68812\n",
      "[79]\tvalidation_0-error:0.00000\tvalidation_0-logloss:0.03724\tvalidation_1-error:0.24219\tvalidation_1-logloss:0.68931\n",
      "[80]\tvalidation_0-error:0.00000\tvalidation_0-logloss:0.03677\tvalidation_1-error:0.23828\tvalidation_1-logloss:0.68889\n",
      "[81]\tvalidation_0-error:0.00000\tvalidation_0-logloss:0.03613\tvalidation_1-error:0.23438\tvalidation_1-logloss:0.69078\n",
      "[82]\tvalidation_0-error:0.00000\tvalidation_0-logloss:0.03576\tvalidation_1-error:0.23828\tvalidation_1-logloss:0.69425\n",
      "[83]\tvalidation_0-error:0.00000\tvalidation_0-logloss:0.03537\tvalidation_1-error:0.23828\tvalidation_1-logloss:0.69423\n",
      "[84]\tvalidation_0-error:0.00000\tvalidation_0-logloss:0.03491\tvalidation_1-error:0.24219\tvalidation_1-logloss:0.69713\n",
      "[85]\tvalidation_0-error:0.00000\tvalidation_0-logloss:0.03440\tvalidation_1-error:0.23438\tvalidation_1-logloss:0.69942\n",
      "[86]\tvalidation_0-error:0.00000\tvalidation_0-logloss:0.03412\tvalidation_1-error:0.23438\tvalidation_1-logloss:0.69854\n",
      "[87]\tvalidation_0-error:0.00000\tvalidation_0-logloss:0.03379\tvalidation_1-error:0.23047\tvalidation_1-logloss:0.70118\n",
      "[88]\tvalidation_0-error:0.00000\tvalidation_0-logloss:0.03340\tvalidation_1-error:0.23438\tvalidation_1-logloss:0.69997\n",
      "[89]\tvalidation_0-error:0.00000\tvalidation_0-logloss:0.03303\tvalidation_1-error:0.23828\tvalidation_1-logloss:0.69976\n",
      "[90]\tvalidation_0-error:0.00000\tvalidation_0-logloss:0.03254\tvalidation_1-error:0.24609\tvalidation_1-logloss:0.70216\n",
      "[91]\tvalidation_0-error:0.00000\tvalidation_0-logloss:0.03222\tvalidation_1-error:0.24609\tvalidation_1-logloss:0.70309\n",
      "[92]\tvalidation_0-error:0.00000\tvalidation_0-logloss:0.03180\tvalidation_1-error:0.24219\tvalidation_1-logloss:0.70288\n",
      "[93]\tvalidation_0-error:0.00000\tvalidation_0-logloss:0.03149\tvalidation_1-error:0.23828\tvalidation_1-logloss:0.70824\n",
      "[94]\tvalidation_0-error:0.00000\tvalidation_0-logloss:0.03120\tvalidation_1-error:0.24609\tvalidation_1-logloss:0.70823\n",
      "[95]\tvalidation_0-error:0.00000\tvalidation_0-logloss:0.03088\tvalidation_1-error:0.24219\tvalidation_1-logloss:0.70972\n",
      "[96]\tvalidation_0-error:0.00000\tvalidation_0-logloss:0.03060\tvalidation_1-error:0.23828\tvalidation_1-logloss:0.71284\n",
      "[97]\tvalidation_0-error:0.00000\tvalidation_0-logloss:0.03024\tvalidation_1-error:0.24219\tvalidation_1-logloss:0.71271\n",
      "[98]\tvalidation_0-error:0.00000\tvalidation_0-logloss:0.02998\tvalidation_1-error:0.24609\tvalidation_1-logloss:0.71510\n",
      "[99]\tvalidation_0-error:0.00000\tvalidation_0-logloss:0.02959\tvalidation_1-error:0.25000\tvalidation_1-logloss:0.71737\n",
      "Accuracy: 75.00%\n"
     ]
    },
    {
     "data": {
      "image/png": "[encoded data removed]",
      "text/plain": [
       "<Figure size 432x288 with 1 Axes>"
      ]
     },
     "metadata": {
      "needs_background": "light"
     },
     "output_type": "display_data"
    },
    {
     "data": {
      "text/plain": [
       "Text(0.5, 1.0, 'XGBoost Classification Error')"
      ]
     },
     "execution_count": 19,
     "metadata": {},
     "output_type": "execute_result"
    },
    {
     "data": {
      "image/png": "[encoded data removed]",
      "text/plain": [
       "<Figure size 432x288 with 1 Axes>"
      ]
     },
     "metadata": {
      "needs_background": "light"
     },
     "output_type": "display_data"
    }
   ],
   "source": [
    "from matplotlib import pyplot\n",
    "\n",
    "model = XGBClassifier()\n",
    "eval_set = [(X_train, y_train), (X_test, y_test)]\n",
    "model.fit(X_train, y_train, eval_metric=[\"error\", \"logloss\"], eval_set=eval_set, verbose=True)\n",
    "# make predictions for test data\n",
    "y_pred = model.predict(X_test)\n",
    "predictions = [round(value) for value in y_pred]\n",
    "# evaluate predictions\n",
    "accuracy = accuracy_score(y_test, predictions)\n",
    "print(\"Accuracy: %.2f%%\" % (accuracy * 100.0))\n",
    "# retrieve performance metrics\n",
    "results = model.evals_result()\n",
    "epochs = len(results['validation_0']['error'])\n",
    "x_axis = range(0, epochs)\n",
    "# plot log loss\n",
    "fig, ax = pyplot.subplots()\n",
    "ax.plot(x_axis, results['validation_0']['logloss'], label='Train')\n",
    "ax.plot(x_axis, results['validation_1']['logloss'], label='Test')\n",
    "ax.legend()\n",
    "pyplot.ylabel('Log Loss')\n",
    "pyplot.title('XGBoost Log Loss')\n",
    "pyplot.show()\n",
    "# plot classification error\n",
    "fig, ax = pyplot.subplots()\n",
    "ax.plot(x_axis, results['validation_0']['error'], label='Train')\n",
    "ax.plot(x_axis, results['validation_1']['error'], label='Test')\n",
    "ax.legend()\n",
    "pyplot.ylabel('Classification Error')\n",
    "pyplot.title('XGBoost Classification Error')\n"
   ]
  },
  {
   "cell_type": "markdown",
   "metadata": {},
   "source": [
    "## Early stopping"
   ]
  },
  {
   "cell_type": "code",
   "execution_count": 20,
   "metadata": {},
   "outputs": [
    {
     "name": "stdout",
     "output_type": "stream",
     "text": [
      "[0]\tvalidation_0-logloss:0.60655\n",
      "[1]\tvalidation_0-logloss:0.56701\n",
      "[2]\tvalidation_0-logloss:0.53854\n",
      "[3]\tvalidation_0-logloss:0.51664\n",
      "[4]\tvalidation_0-logloss:0.50189\n",
      "[5]\tvalidation_0-logloss:0.49558\n",
      "[6]\tvalidation_0-logloss:0.48856\n",
      "[7]\tvalidation_0-logloss:0.48681\n",
      "[8]\tvalidation_0-logloss:0.48508\n",
      "[9]\tvalidation_0-logloss:0.48974\n",
      "[10]\tvalidation_0-logloss:0.49168\n",
      "[11]\tvalidation_0-logloss:0.49426\n",
      "[12]\tvalidation_0-logloss:0.50140\n",
      "[13]\tvalidation_0-logloss:0.50214\n",
      "[14]\tvalidation_0-logloss:0.50851\n",
      "[15]\tvalidation_0-logloss:0.51476\n",
      "[16]\tvalidation_0-logloss:0.51572\n",
      "[17]\tvalidation_0-logloss:0.52141\n",
      "[18]\tvalidation_0-logloss:0.52392\n",
      "Accuracy: 76.17%\n"
     ]
    },
    {
     "name": "stderr",
     "output_type": "stream",
     "text": [
      "c:\\python\\lib\\site-packages\\xgboost\\sklearn.py:1224: UserWarning: The use of label encoder in XGBClassifier is deprecated and will be removed in a future release. To remove this warning, do the following: 1) Pass option use_label_encoder=False when constructing XGBClassifier object; and 2) Encode your labels (y) as integers starting with 0, i.e. 0, 1, 2, ..., [num_class - 1].\n",
      "  warnings.warn(label_encoder_deprecation_msg, UserWarning)\n"
     ]
    }
   ],
   "source": [
    "model = XGBClassifier()\n",
    "eval_set = [(X_test, y_test)]\n",
    "model.fit(X_train, y_train, early_stopping_rounds=10, eval_metric=\"logloss\", eval_set=eval_set, verbose=True)\n",
    "# make predictions for test data\n",
    "y_pred = model.predict(X_test)\n",
    "predictions = [round(value) for value in y_pred]\n",
    "# evaluate predictions\n",
    "accuracy = accuracy_score(y_test, predictions)\n",
    "print(\"Accuracy: %.2f%%\" % (accuracy * 100.0))"
   ]
  },
  {
   "attachments": {},
   "cell_type": "markdown",
   "metadata": {},
   "source": [
    "## Multithreading Support for XGBoost"
   ]
  },
  {
   "cell_type": "code",
   "execution_count": 24,
   "metadata": {},
   "outputs": [
    {
     "name": "stderr",
     "output_type": "stream",
     "text": [
      "c:\\python\\lib\\site-packages\\xgboost\\sklearn.py:1224: UserWarning: The use of label encoder in XGBClassifier is deprecated and will be removed in a future release. To remove this warning, do the following: 1) Pass option use_label_encoder=False when constructing XGBClassifier object; and 2) Encode your labels (y) as integers starting with 0, i.e. 0, 1, 2, ..., [num_class - 1].\n",
      "  warnings.warn(label_encoder_deprecation_msg, UserWarning)\n"
     ]
    },
    {
     "name": "stdout",
     "output_type": "stream",
     "text": [
      "1 0.1932520866394043\n",
      "2 0.18500590324401855\n",
      "3 0.21499228477478027\n",
      "4 0.25499749183654785\n"
     ]
    },
    {
     "data": {
      "text/plain": [
       "Text(0.5, 1.0, 'XGBoost Training Speed vs Number of Threads')"
      ]
     },
     "execution_count": 24,
     "metadata": {},
     "output_type": "execute_result"
    },
    {
     "data": {
      "image/png": "[encoded data removed]",
      "text/plain": [
       "<Figure size 432x288 with 1 Axes>"
      ]
     },
     "metadata": {
      "needs_background": "light"
     },
     "output_type": "display_data"
    }
   ],
   "source": [
    "import time\n",
    "\n",
    "results = []\n",
    "num_threads = [1, 2, 3, 4]\n",
    "for n in num_threads:\n",
    " start = time.time()\n",
    " model = XGBClassifier(nthread=n, eval_metric='error')\n",
    " model.fit(X_train, y_train)\n",
    " elapsed = time.time() - start\n",
    " print(n, elapsed)\n",
    " results.append(elapsed)\n",
    "# plot results\n",
    "pyplot.plot(num_threads, results)\n",
    "pyplot.ylabel('Speed (seconds)')\n",
    "pyplot.xlabel('Number of Threads')\n",
    "pyplot.title('XGBoost Training Speed vs Number of Threads')\n",
    "\n"
   ]
  },
  {
   "attachments": {},
   "cell_type": "markdown",
   "metadata": {},
   "source": [
    "## Tune the Number of Decision Trees"
   ]
  },
  {
   "cell_type": "code",
   "execution_count": 25,
   "metadata": {},
   "outputs": [
    {
     "name": "stdout",
     "output_type": "stream",
     "text": [
      "[12:12:05] WARNING: C:/Users/Administrator/workspace/xgboost-win64_release_1.5.1/src/learner.cc:1115: Starting in XGBoost 1.3.0, the default evaluation metric used with the objective 'binary:logistic' was changed from 'error' to 'logloss'. Explicitly set eval_metric if you'd like to restore the old behavior.\n",
      "Best: -0.680005 using {'n_estimators': 50}\n",
      "-0.680005 (0.095550) with: {'n_estimators': 50}\n",
      "-0.794099 (0.114600) with: {'n_estimators': 100}\n",
      "-0.855984 (0.123852) with: {'n_estimators': 150}\n",
      "-0.889420 (0.123638) with: {'n_estimators': 200}\n",
      "-0.914452 (0.127086) with: {'n_estimators': 250}\n",
      "-0.934681 (0.130575) with: {'n_estimators': 300}\n",
      "-0.949324 (0.131390) with: {'n_estimators': 350}\n"
     ]
    },
    {
     "name": "stderr",
     "output_type": "stream",
     "text": [
      "c:\\python\\lib\\site-packages\\xgboost\\sklearn.py:1224: UserWarning: The use of label encoder in XGBClassifier is deprecated and will be removed in a future release. To remove this warning, do the following: 1) Pass option use_label_encoder=False when constructing XGBClassifier object; and 2) Encode your labels (y) as integers starting with 0, i.e. 0, 1, 2, ..., [num_class - 1].\n",
      "  warnings.warn(label_encoder_deprecation_msg, UserWarning)\n"
     ]
    },
    {
     "data": {
      "text/plain": [
       "Text(0, 0.5, 'Log Loss')"
      ]
     },
     "execution_count": 25,
     "metadata": {},
     "output_type": "execute_result"
    },
    {
     "data": {
      "image/png": "[encoded data removed]",
      "text/plain": [
       "<Figure size 432x288 with 1 Axes>"
      ]
     },
     "metadata": {
      "needs_background": "light"
     },
     "output_type": "display_data"
    }
   ],
   "source": [
    "from sklearn.model_selection import StratifiedKFold, GridSearchCV\n",
    "\n",
    "model = XGBClassifier()\n",
    "n_estimators = range(50, 400, 50)\n",
    "param_grid = dict(n_estimators=n_estimators)\n",
    "kfold = StratifiedKFold(n_splits=5)\n",
    "grid_search = GridSearchCV(model, param_grid, scoring=\"neg_log_loss\", n_jobs=-1, cv=kfold)\n",
    "grid_result = grid_search.fit(X_train, y_train)\n",
    "\n",
    "print(\"Best: %f using %s\" % (grid_result.best_score_, grid_result.best_params_))\n",
    "means = grid_result.cv_results_['mean_test_score']\n",
    "stds = grid_result.cv_results_['std_test_score']\n",
    "params = grid_result.cv_results_['params']\n",
    "for mean, stdev, param in zip(means, stds, params):\n",
    " print(\"%f (%f) with: %r\" % (mean, stdev, param))\n",
    "# plot\n",
    "pyplot.errorbar(n_estimators, means, yerr=stds)\n",
    "pyplot.title(\"XGBoost n_estimators vs Log Loss\")\n",
    "pyplot.xlabel('n_estimators')\n",
    "pyplot.ylabel('Log Loss')\n"
   ]
  },
  {
   "cell_type": "code",
   "execution_count": null,
   "metadata": {},
   "outputs": [],
   "source": []
  }
 ],
 "metadata": {
  "kernelspec": {
   "display_name": "Python 3",
   "language": "python",
   "name": "python3"
  },
  "language_info": {
   "codemirror_mode": {
    "name": "ipython",
    "version": 3
   },
   "file_extension": ".py",
   "mimetype": "text/x-python",
   "name": "python",
   "nbconvert_exporter": "python",
   "pygments_lexer": "ipython3",
   "version": "3.7.5"
  },
  "orig_nbformat": 4,
  "vscode": {
   "interpreter": {
    "hash": "fbe58ca63fe33f9eeae9e71d10368d2b4a57f2b1b395836210cc60d362c66949"
   }
  }
 },
 "nbformat": 4,
 "nbformat_minor": 2
}
