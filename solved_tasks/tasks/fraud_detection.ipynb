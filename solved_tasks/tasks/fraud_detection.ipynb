{
 "cells": [
  {
   "attachments": {},
   "cell_type": "markdown",
   "metadata": {},
   "source": [
    "# Credit card fraud detection\n",
    "\n",
    "Dataset https://drive.google.com/file/d/1CTAlmlREFRaEN3NoHHitewpqAtWS5cVQ/view"
   ]
  },
  {
   "cell_type": "code",
   "execution_count": 33,
   "metadata": {},
   "outputs": [],
   "source": [
    "import numpy as np\n",
    "import pandas as pd\n",
    "from sklearn.preprocessing import StandardScaler\n",
    "from sklearn.model_selection import train_test_split, GridSearchCV\n",
    "from sklearn.linear_model import LogisticRegression\n",
    "from sklearn.metrics import f1_score\n",
    "import matplotlib.pyplot as plt\n",
    "from sklearn.metrics import confusion_matrix"
   ]
  },
  {
   "attachments": {},
   "cell_type": "markdown",
   "metadata": {},
   "source": [
    "## Load data"
   ]
  },
  {
   "cell_type": "code",
   "execution_count": 3,
   "metadata": {},
   "outputs": [
    {
     "data": {
      "text/html": [
       "<div>\n",
       "<style scoped>\n",
       "    .dataframe tbody tr th:only-of-type {\n",
       "        vertical-align: middle;\n",
       "    }\n",
       "\n",
       "    .dataframe tbody tr th {\n",
       "        vertical-align: top;\n",
       "    }\n",
       "\n",
       "    .dataframe thead th {\n",
       "        text-align: right;\n",
       "    }\n",
       "</style>\n",
       "<table border=\"1\" class=\"dataframe\">\n",
       "  <thead>\n",
       "    <tr style=\"text-align: right;\">\n",
       "      <th></th>\n",
       "      <th>Time</th>\n",
       "      <th>V1</th>\n",
       "      <th>V2</th>\n",
       "      <th>V3</th>\n",
       "      <th>V4</th>\n",
       "      <th>V5</th>\n",
       "      <th>V6</th>\n",
       "      <th>V7</th>\n",
       "      <th>V8</th>\n",
       "      <th>V9</th>\n",
       "      <th>...</th>\n",
       "      <th>V21</th>\n",
       "      <th>V22</th>\n",
       "      <th>V23</th>\n",
       "      <th>V24</th>\n",
       "      <th>V25</th>\n",
       "      <th>V26</th>\n",
       "      <th>V27</th>\n",
       "      <th>V28</th>\n",
       "      <th>Amount</th>\n",
       "      <th>Class</th>\n",
       "    </tr>\n",
       "  </thead>\n",
       "  <tbody>\n",
       "    <tr>\n",
       "      <th>0</th>\n",
       "      <td>0.0</td>\n",
       "      <td>-1.359807</td>\n",
       "      <td>-0.072781</td>\n",
       "      <td>2.536347</td>\n",
       "      <td>1.378155</td>\n",
       "      <td>-0.338321</td>\n",
       "      <td>0.462388</td>\n",
       "      <td>0.239599</td>\n",
       "      <td>0.098698</td>\n",
       "      <td>0.363787</td>\n",
       "      <td>...</td>\n",
       "      <td>-0.018307</td>\n",
       "      <td>0.277838</td>\n",
       "      <td>-0.110474</td>\n",
       "      <td>0.066928</td>\n",
       "      <td>0.128539</td>\n",
       "      <td>-0.189115</td>\n",
       "      <td>0.133558</td>\n",
       "      <td>-0.021053</td>\n",
       "      <td>149.62</td>\n",
       "      <td>0</td>\n",
       "    </tr>\n",
       "    <tr>\n",
       "      <th>1</th>\n",
       "      <td>0.0</td>\n",
       "      <td>1.191857</td>\n",
       "      <td>0.266151</td>\n",
       "      <td>0.166480</td>\n",
       "      <td>0.448154</td>\n",
       "      <td>0.060018</td>\n",
       "      <td>-0.082361</td>\n",
       "      <td>-0.078803</td>\n",
       "      <td>0.085102</td>\n",
       "      <td>-0.255425</td>\n",
       "      <td>...</td>\n",
       "      <td>-0.225775</td>\n",
       "      <td>-0.638672</td>\n",
       "      <td>0.101288</td>\n",
       "      <td>-0.339846</td>\n",
       "      <td>0.167170</td>\n",
       "      <td>0.125895</td>\n",
       "      <td>-0.008983</td>\n",
       "      <td>0.014724</td>\n",
       "      <td>2.69</td>\n",
       "      <td>0</td>\n",
       "    </tr>\n",
       "    <tr>\n",
       "      <th>2</th>\n",
       "      <td>1.0</td>\n",
       "      <td>-1.358354</td>\n",
       "      <td>-1.340163</td>\n",
       "      <td>1.773209</td>\n",
       "      <td>0.379780</td>\n",
       "      <td>-0.503198</td>\n",
       "      <td>1.800499</td>\n",
       "      <td>0.791461</td>\n",
       "      <td>0.247676</td>\n",
       "      <td>-1.514654</td>\n",
       "      <td>...</td>\n",
       "      <td>0.247998</td>\n",
       "      <td>0.771679</td>\n",
       "      <td>0.909412</td>\n",
       "      <td>-0.689281</td>\n",
       "      <td>-0.327642</td>\n",
       "      <td>-0.139097</td>\n",
       "      <td>-0.055353</td>\n",
       "      <td>-0.059752</td>\n",
       "      <td>378.66</td>\n",
       "      <td>0</td>\n",
       "    </tr>\n",
       "    <tr>\n",
       "      <th>3</th>\n",
       "      <td>1.0</td>\n",
       "      <td>-0.966272</td>\n",
       "      <td>-0.185226</td>\n",
       "      <td>1.792993</td>\n",
       "      <td>-0.863291</td>\n",
       "      <td>-0.010309</td>\n",
       "      <td>1.247203</td>\n",
       "      <td>0.237609</td>\n",
       "      <td>0.377436</td>\n",
       "      <td>-1.387024</td>\n",
       "      <td>...</td>\n",
       "      <td>-0.108300</td>\n",
       "      <td>0.005274</td>\n",
       "      <td>-0.190321</td>\n",
       "      <td>-1.175575</td>\n",
       "      <td>0.647376</td>\n",
       "      <td>-0.221929</td>\n",
       "      <td>0.062723</td>\n",
       "      <td>0.061458</td>\n",
       "      <td>123.50</td>\n",
       "      <td>0</td>\n",
       "    </tr>\n",
       "    <tr>\n",
       "      <th>4</th>\n",
       "      <td>2.0</td>\n",
       "      <td>-1.158233</td>\n",
       "      <td>0.877737</td>\n",
       "      <td>1.548718</td>\n",
       "      <td>0.403034</td>\n",
       "      <td>-0.407193</td>\n",
       "      <td>0.095921</td>\n",
       "      <td>0.592941</td>\n",
       "      <td>-0.270533</td>\n",
       "      <td>0.817739</td>\n",
       "      <td>...</td>\n",
       "      <td>-0.009431</td>\n",
       "      <td>0.798278</td>\n",
       "      <td>-0.137458</td>\n",
       "      <td>0.141267</td>\n",
       "      <td>-0.206010</td>\n",
       "      <td>0.502292</td>\n",
       "      <td>0.219422</td>\n",
       "      <td>0.215153</td>\n",
       "      <td>69.99</td>\n",
       "      <td>0</td>\n",
       "    </tr>\n",
       "  </tbody>\n",
       "</table>\n",
       "<p>5 rows × 31 columns</p>\n",
       "</div>"
      ],
      "text/plain": [
       "   Time        V1        V2        V3        V4        V5        V6        V7  \\\n",
       "0   0.0 -1.359807 -0.072781  2.536347  1.378155 -0.338321  0.462388  0.239599   \n",
       "1   0.0  1.191857  0.266151  0.166480  0.448154  0.060018 -0.082361 -0.078803   \n",
       "2   1.0 -1.358354 -1.340163  1.773209  0.379780 -0.503198  1.800499  0.791461   \n",
       "3   1.0 -0.966272 -0.185226  1.792993 -0.863291 -0.010309  1.247203  0.237609   \n",
       "4   2.0 -1.158233  0.877737  1.548718  0.403034 -0.407193  0.095921  0.592941   \n",
       "\n",
       "         V8        V9  ...       V21       V22       V23       V24       V25  \\\n",
       "0  0.098698  0.363787  ... -0.018307  0.277838 -0.110474  0.066928  0.128539   \n",
       "1  0.085102 -0.255425  ... -0.225775 -0.638672  0.101288 -0.339846  0.167170   \n",
       "2  0.247676 -1.514654  ...  0.247998  0.771679  0.909412 -0.689281 -0.327642   \n",
       "3  0.377436 -1.387024  ... -0.108300  0.005274 -0.190321 -1.175575  0.647376   \n",
       "4 -0.270533  0.817739  ... -0.009431  0.798278 -0.137458  0.141267 -0.206010   \n",
       "\n",
       "        V26       V27       V28  Amount  Class  \n",
       "0 -0.189115  0.133558 -0.021053  149.62      0  \n",
       "1  0.125895 -0.008983  0.014724    2.69      0  \n",
       "2 -0.139097 -0.055353 -0.059752  378.66      0  \n",
       "3 -0.221929  0.062723  0.061458  123.50      0  \n",
       "4  0.502292  0.219422  0.215153   69.99      0  \n",
       "\n",
       "[5 rows x 31 columns]"
      ]
     },
     "execution_count": 3,
     "metadata": {},
     "output_type": "execute_result"
    }
   ],
   "source": [
    "df = pd.read_csv('creditcard.csv')\n",
    "df.head()"
   ]
  },
  {
   "cell_type": "code",
   "execution_count": 4,
   "metadata": {},
   "outputs": [
    {
     "name": "stdout",
     "output_type": "stream",
     "text": [
      "<class 'pandas.core.frame.DataFrame'>\n",
      "RangeIndex: 284807 entries, 0 to 284806\n",
      "Data columns (total 31 columns):\n",
      " #   Column  Non-Null Count   Dtype  \n",
      "---  ------  --------------   -----  \n",
      " 0   Time    284807 non-null  float64\n",
      " 1   V1      284807 non-null  float64\n",
      " 2   V2      284807 non-null  float64\n",
      " 3   V3      284807 non-null  float64\n",
      " 4   V4      284807 non-null  float64\n",
      " 5   V5      284807 non-null  float64\n",
      " 6   V6      284807 non-null  float64\n",
      " 7   V7      284807 non-null  float64\n",
      " 8   V8      284807 non-null  float64\n",
      " 9   V9      284807 non-null  float64\n",
      " 10  V10     284807 non-null  float64\n",
      " 11  V11     284807 non-null  float64\n",
      " 12  V12     284807 non-null  float64\n",
      " 13  V13     284807 non-null  float64\n",
      " 14  V14     284807 non-null  float64\n",
      " 15  V15     284807 non-null  float64\n",
      " 16  V16     284807 non-null  float64\n",
      " 17  V17     284807 non-null  float64\n",
      " 18  V18     284807 non-null  float64\n",
      " 19  V19     284807 non-null  float64\n",
      " 20  V20     284807 non-null  float64\n",
      " 21  V21     284807 non-null  float64\n",
      " 22  V22     284807 non-null  float64\n",
      " 23  V23     284807 non-null  float64\n",
      " 24  V24     284807 non-null  float64\n",
      " 25  V25     284807 non-null  float64\n",
      " 26  V26     284807 non-null  float64\n",
      " 27  V27     284807 non-null  float64\n",
      " 28  V28     284807 non-null  float64\n",
      " 29  Amount  284807 non-null  float64\n",
      " 30  Class   284807 non-null  int64  \n",
      "dtypes: float64(30), int64(1)\n",
      "memory usage: 67.4 MB\n"
     ]
    }
   ],
   "source": [
    "df.info()"
   ]
  },
  {
   "cell_type": "code",
   "execution_count": 5,
   "metadata": {},
   "outputs": [
    {
     "data": {
      "text/html": [
       "<div>\n",
       "<style scoped>\n",
       "    .dataframe tbody tr th:only-of-type {\n",
       "        vertical-align: middle;\n",
       "    }\n",
       "\n",
       "    .dataframe tbody tr th {\n",
       "        vertical-align: top;\n",
       "    }\n",
       "\n",
       "    .dataframe thead th {\n",
       "        text-align: right;\n",
       "    }\n",
       "</style>\n",
       "<table border=\"1\" class=\"dataframe\">\n",
       "  <thead>\n",
       "    <tr style=\"text-align: right;\">\n",
       "      <th></th>\n",
       "      <th>Time</th>\n",
       "      <th>V1</th>\n",
       "      <th>V2</th>\n",
       "      <th>V3</th>\n",
       "      <th>V4</th>\n",
       "      <th>V5</th>\n",
       "      <th>V6</th>\n",
       "      <th>V7</th>\n",
       "      <th>V8</th>\n",
       "      <th>V9</th>\n",
       "      <th>...</th>\n",
       "      <th>V21</th>\n",
       "      <th>V22</th>\n",
       "      <th>V23</th>\n",
       "      <th>V24</th>\n",
       "      <th>V25</th>\n",
       "      <th>V26</th>\n",
       "      <th>V27</th>\n",
       "      <th>V28</th>\n",
       "      <th>Amount</th>\n",
       "      <th>Class</th>\n",
       "    </tr>\n",
       "  </thead>\n",
       "  <tbody>\n",
       "    <tr>\n",
       "      <th>count</th>\n",
       "      <td>284807.000000</td>\n",
       "      <td>2.848070e+05</td>\n",
       "      <td>2.848070e+05</td>\n",
       "      <td>2.848070e+05</td>\n",
       "      <td>2.848070e+05</td>\n",
       "      <td>2.848070e+05</td>\n",
       "      <td>2.848070e+05</td>\n",
       "      <td>2.848070e+05</td>\n",
       "      <td>2.848070e+05</td>\n",
       "      <td>2.848070e+05</td>\n",
       "      <td>...</td>\n",
       "      <td>2.848070e+05</td>\n",
       "      <td>2.848070e+05</td>\n",
       "      <td>2.848070e+05</td>\n",
       "      <td>2.848070e+05</td>\n",
       "      <td>2.848070e+05</td>\n",
       "      <td>2.848070e+05</td>\n",
       "      <td>2.848070e+05</td>\n",
       "      <td>2.848070e+05</td>\n",
       "      <td>284807.000000</td>\n",
       "      <td>284807.000000</td>\n",
       "    </tr>\n",
       "    <tr>\n",
       "      <th>mean</th>\n",
       "      <td>94813.859575</td>\n",
       "      <td>1.168375e-15</td>\n",
       "      <td>3.416908e-16</td>\n",
       "      <td>-1.379537e-15</td>\n",
       "      <td>2.074095e-15</td>\n",
       "      <td>9.604066e-16</td>\n",
       "      <td>1.487313e-15</td>\n",
       "      <td>-5.556467e-16</td>\n",
       "      <td>1.213481e-16</td>\n",
       "      <td>-2.406331e-15</td>\n",
       "      <td>...</td>\n",
       "      <td>1.654067e-16</td>\n",
       "      <td>-3.568593e-16</td>\n",
       "      <td>2.578648e-16</td>\n",
       "      <td>4.473266e-15</td>\n",
       "      <td>5.340915e-16</td>\n",
       "      <td>1.683437e-15</td>\n",
       "      <td>-3.660091e-16</td>\n",
       "      <td>-1.227390e-16</td>\n",
       "      <td>88.349619</td>\n",
       "      <td>0.001727</td>\n",
       "    </tr>\n",
       "    <tr>\n",
       "      <th>std</th>\n",
       "      <td>47488.145955</td>\n",
       "      <td>1.958696e+00</td>\n",
       "      <td>1.651309e+00</td>\n",
       "      <td>1.516255e+00</td>\n",
       "      <td>1.415869e+00</td>\n",
       "      <td>1.380247e+00</td>\n",
       "      <td>1.332271e+00</td>\n",
       "      <td>1.237094e+00</td>\n",
       "      <td>1.194353e+00</td>\n",
       "      <td>1.098632e+00</td>\n",
       "      <td>...</td>\n",
       "      <td>7.345240e-01</td>\n",
       "      <td>7.257016e-01</td>\n",
       "      <td>6.244603e-01</td>\n",
       "      <td>6.056471e-01</td>\n",
       "      <td>5.212781e-01</td>\n",
       "      <td>4.822270e-01</td>\n",
       "      <td>4.036325e-01</td>\n",
       "      <td>3.300833e-01</td>\n",
       "      <td>250.120109</td>\n",
       "      <td>0.041527</td>\n",
       "    </tr>\n",
       "    <tr>\n",
       "      <th>min</th>\n",
       "      <td>0.000000</td>\n",
       "      <td>-5.640751e+01</td>\n",
       "      <td>-7.271573e+01</td>\n",
       "      <td>-4.832559e+01</td>\n",
       "      <td>-5.683171e+00</td>\n",
       "      <td>-1.137433e+02</td>\n",
       "      <td>-2.616051e+01</td>\n",
       "      <td>-4.355724e+01</td>\n",
       "      <td>-7.321672e+01</td>\n",
       "      <td>-1.343407e+01</td>\n",
       "      <td>...</td>\n",
       "      <td>-3.483038e+01</td>\n",
       "      <td>-1.093314e+01</td>\n",
       "      <td>-4.480774e+01</td>\n",
       "      <td>-2.836627e+00</td>\n",
       "      <td>-1.029540e+01</td>\n",
       "      <td>-2.604551e+00</td>\n",
       "      <td>-2.256568e+01</td>\n",
       "      <td>-1.543008e+01</td>\n",
       "      <td>0.000000</td>\n",
       "      <td>0.000000</td>\n",
       "    </tr>\n",
       "    <tr>\n",
       "      <th>25%</th>\n",
       "      <td>54201.500000</td>\n",
       "      <td>-9.203734e-01</td>\n",
       "      <td>-5.985499e-01</td>\n",
       "      <td>-8.903648e-01</td>\n",
       "      <td>-8.486401e-01</td>\n",
       "      <td>-6.915971e-01</td>\n",
       "      <td>-7.682956e-01</td>\n",
       "      <td>-5.540759e-01</td>\n",
       "      <td>-2.086297e-01</td>\n",
       "      <td>-6.430976e-01</td>\n",
       "      <td>...</td>\n",
       "      <td>-2.283949e-01</td>\n",
       "      <td>-5.423504e-01</td>\n",
       "      <td>-1.618463e-01</td>\n",
       "      <td>-3.545861e-01</td>\n",
       "      <td>-3.171451e-01</td>\n",
       "      <td>-3.269839e-01</td>\n",
       "      <td>-7.083953e-02</td>\n",
       "      <td>-5.295979e-02</td>\n",
       "      <td>5.600000</td>\n",
       "      <td>0.000000</td>\n",
       "    </tr>\n",
       "    <tr>\n",
       "      <th>50%</th>\n",
       "      <td>84692.000000</td>\n",
       "      <td>1.810880e-02</td>\n",
       "      <td>6.548556e-02</td>\n",
       "      <td>1.798463e-01</td>\n",
       "      <td>-1.984653e-02</td>\n",
       "      <td>-5.433583e-02</td>\n",
       "      <td>-2.741871e-01</td>\n",
       "      <td>4.010308e-02</td>\n",
       "      <td>2.235804e-02</td>\n",
       "      <td>-5.142873e-02</td>\n",
       "      <td>...</td>\n",
       "      <td>-2.945017e-02</td>\n",
       "      <td>6.781943e-03</td>\n",
       "      <td>-1.119293e-02</td>\n",
       "      <td>4.097606e-02</td>\n",
       "      <td>1.659350e-02</td>\n",
       "      <td>-5.213911e-02</td>\n",
       "      <td>1.342146e-03</td>\n",
       "      <td>1.124383e-02</td>\n",
       "      <td>22.000000</td>\n",
       "      <td>0.000000</td>\n",
       "    </tr>\n",
       "    <tr>\n",
       "      <th>75%</th>\n",
       "      <td>139320.500000</td>\n",
       "      <td>1.315642e+00</td>\n",
       "      <td>8.037239e-01</td>\n",
       "      <td>1.027196e+00</td>\n",
       "      <td>7.433413e-01</td>\n",
       "      <td>6.119264e-01</td>\n",
       "      <td>3.985649e-01</td>\n",
       "      <td>5.704361e-01</td>\n",
       "      <td>3.273459e-01</td>\n",
       "      <td>5.971390e-01</td>\n",
       "      <td>...</td>\n",
       "      <td>1.863772e-01</td>\n",
       "      <td>5.285536e-01</td>\n",
       "      <td>1.476421e-01</td>\n",
       "      <td>4.395266e-01</td>\n",
       "      <td>3.507156e-01</td>\n",
       "      <td>2.409522e-01</td>\n",
       "      <td>9.104512e-02</td>\n",
       "      <td>7.827995e-02</td>\n",
       "      <td>77.165000</td>\n",
       "      <td>0.000000</td>\n",
       "    </tr>\n",
       "    <tr>\n",
       "      <th>max</th>\n",
       "      <td>172792.000000</td>\n",
       "      <td>2.454930e+00</td>\n",
       "      <td>2.205773e+01</td>\n",
       "      <td>9.382558e+00</td>\n",
       "      <td>1.687534e+01</td>\n",
       "      <td>3.480167e+01</td>\n",
       "      <td>7.330163e+01</td>\n",
       "      <td>1.205895e+02</td>\n",
       "      <td>2.000721e+01</td>\n",
       "      <td>1.559499e+01</td>\n",
       "      <td>...</td>\n",
       "      <td>2.720284e+01</td>\n",
       "      <td>1.050309e+01</td>\n",
       "      <td>2.252841e+01</td>\n",
       "      <td>4.584549e+00</td>\n",
       "      <td>7.519589e+00</td>\n",
       "      <td>3.517346e+00</td>\n",
       "      <td>3.161220e+01</td>\n",
       "      <td>3.384781e+01</td>\n",
       "      <td>25691.160000</td>\n",
       "      <td>1.000000</td>\n",
       "    </tr>\n",
       "  </tbody>\n",
       "</table>\n",
       "<p>8 rows × 31 columns</p>\n",
       "</div>"
      ],
      "text/plain": [
       "                Time            V1            V2            V3            V4  \\\n",
       "count  284807.000000  2.848070e+05  2.848070e+05  2.848070e+05  2.848070e+05   \n",
       "mean    94813.859575  1.168375e-15  3.416908e-16 -1.379537e-15  2.074095e-15   \n",
       "std     47488.145955  1.958696e+00  1.651309e+00  1.516255e+00  1.415869e+00   \n",
       "min         0.000000 -5.640751e+01 -7.271573e+01 -4.832559e+01 -5.683171e+00   \n",
       "25%     54201.500000 -9.203734e-01 -5.985499e-01 -8.903648e-01 -8.486401e-01   \n",
       "50%     84692.000000  1.810880e-02  6.548556e-02  1.798463e-01 -1.984653e-02   \n",
       "75%    139320.500000  1.315642e+00  8.037239e-01  1.027196e+00  7.433413e-01   \n",
       "max    172792.000000  2.454930e+00  2.205773e+01  9.382558e+00  1.687534e+01   \n",
       "\n",
       "                 V5            V6            V7            V8            V9  \\\n",
       "count  2.848070e+05  2.848070e+05  2.848070e+05  2.848070e+05  2.848070e+05   \n",
       "mean   9.604066e-16  1.487313e-15 -5.556467e-16  1.213481e-16 -2.406331e-15   \n",
       "std    1.380247e+00  1.332271e+00  1.237094e+00  1.194353e+00  1.098632e+00   \n",
       "min   -1.137433e+02 -2.616051e+01 -4.355724e+01 -7.321672e+01 -1.343407e+01   \n",
       "25%   -6.915971e-01 -7.682956e-01 -5.540759e-01 -2.086297e-01 -6.430976e-01   \n",
       "50%   -5.433583e-02 -2.741871e-01  4.010308e-02  2.235804e-02 -5.142873e-02   \n",
       "75%    6.119264e-01  3.985649e-01  5.704361e-01  3.273459e-01  5.971390e-01   \n",
       "max    3.480167e+01  7.330163e+01  1.205895e+02  2.000721e+01  1.559499e+01   \n",
       "\n",
       "       ...           V21           V22           V23           V24  \\\n",
       "count  ...  2.848070e+05  2.848070e+05  2.848070e+05  2.848070e+05   \n",
       "mean   ...  1.654067e-16 -3.568593e-16  2.578648e-16  4.473266e-15   \n",
       "std    ...  7.345240e-01  7.257016e-01  6.244603e-01  6.056471e-01   \n",
       "min    ... -3.483038e+01 -1.093314e+01 -4.480774e+01 -2.836627e+00   \n",
       "25%    ... -2.283949e-01 -5.423504e-01 -1.618463e-01 -3.545861e-01   \n",
       "50%    ... -2.945017e-02  6.781943e-03 -1.119293e-02  4.097606e-02   \n",
       "75%    ...  1.863772e-01  5.285536e-01  1.476421e-01  4.395266e-01   \n",
       "max    ...  2.720284e+01  1.050309e+01  2.252841e+01  4.584549e+00   \n",
       "\n",
       "                V25           V26           V27           V28         Amount  \\\n",
       "count  2.848070e+05  2.848070e+05  2.848070e+05  2.848070e+05  284807.000000   \n",
       "mean   5.340915e-16  1.683437e-15 -3.660091e-16 -1.227390e-16      88.349619   \n",
       "std    5.212781e-01  4.822270e-01  4.036325e-01  3.300833e-01     250.120109   \n",
       "min   -1.029540e+01 -2.604551e+00 -2.256568e+01 -1.543008e+01       0.000000   \n",
       "25%   -3.171451e-01 -3.269839e-01 -7.083953e-02 -5.295979e-02       5.600000   \n",
       "50%    1.659350e-02 -5.213911e-02  1.342146e-03  1.124383e-02      22.000000   \n",
       "75%    3.507156e-01  2.409522e-01  9.104512e-02  7.827995e-02      77.165000   \n",
       "max    7.519589e+00  3.517346e+00  3.161220e+01  3.384781e+01   25691.160000   \n",
       "\n",
       "               Class  \n",
       "count  284807.000000  \n",
       "mean        0.001727  \n",
       "std         0.041527  \n",
       "min         0.000000  \n",
       "25%         0.000000  \n",
       "50%         0.000000  \n",
       "75%         0.000000  \n",
       "max         1.000000  \n",
       "\n",
       "[8 rows x 31 columns]"
      ]
     },
     "execution_count": 5,
     "metadata": {},
     "output_type": "execute_result"
    }
   ],
   "source": [
    "df.describe()"
   ]
  },
  {
   "cell_type": "code",
   "execution_count": 6,
   "metadata": {},
   "outputs": [
    {
     "data": {
      "text/plain": [
       "0    284315\n",
       "1       492\n",
       "Name: Class, dtype: int64"
      ]
     },
     "execution_count": 6,
     "metadata": {},
     "output_type": "execute_result"
    }
   ],
   "source": [
    "df['Class'].value_counts()"
   ]
  },
  {
   "attachments": {},
   "cell_type": "markdown",
   "metadata": {},
   "source": [
    "## Data preprocesisng"
   ]
  },
  {
   "cell_type": "code",
   "execution_count": 7,
   "metadata": {},
   "outputs": [
    {
     "data": {
      "text/plain": [
       "(284807, 30)"
      ]
     },
     "execution_count": 7,
     "metadata": {},
     "output_type": "execute_result"
    }
   ],
   "source": [
    "scaler = StandardScaler()\n",
    "df_scaled = df.drop(['Class'], axis=1)\n",
    "df_scaled = scaler.fit_transform(df_scaled)\n",
    "\n",
    "df_scaled.shape"
   ]
  },
  {
   "cell_type": "code",
   "execution_count": 8,
   "metadata": {},
   "outputs": [],
   "source": [
    "X = df_scaled\n",
    "y = df['Class']"
   ]
  },
  {
   "cell_type": "code",
   "execution_count": 9,
   "metadata": {},
   "outputs": [
    {
     "data": {
      "text/plain": [
       "((227845, 30), (227845,))"
      ]
     },
     "execution_count": 9,
     "metadata": {},
     "output_type": "execute_result"
    }
   ],
   "source": [
    "X_train_val, X_test, y_train_val, y_test = train_test_split(X, y, stratify=y, test_size=0.2)\n",
    "X_train_val.shape, y_train_val.shape"
   ]
  },
  {
   "cell_type": "code",
   "execution_count": 10,
   "metadata": {},
   "outputs": [],
   "source": [
    "X_train, X_val, y_train, y_val = train_test_split(X_train_val, y_train_val, stratify=y_train_val, test_size=0.2)"
   ]
  },
  {
   "cell_type": "code",
   "execution_count": 11,
   "metadata": {},
   "outputs": [],
   "source": [
    "X_train, X_test, X_val = np.array(X_train), np.array(X_test), np.array(X_val)\n",
    "y_train, y_test, y_val = np.array(y_train).ravel(), np.array(y_test).ravel(), np.array(y_val).ravel()"
   ]
  },
  {
   "cell_type": "markdown",
   "metadata": {},
   "source": [
    "## Logistic Regression"
   ]
  },
  {
   "cell_type": "code",
   "execution_count": 122,
   "metadata": {},
   "outputs": [
    {
     "name": "stderr",
     "output_type": "stream",
     "text": [
      "c:\\python\\python39\\lib\\site-packages\\sklearn\\linear_model\\_sag.py:350: ConvergenceWarning: The max_iter was reached which means the coef_ did not converge\n",
      "  warnings.warn(\n",
      "c:\\python\\python39\\lib\\site-packages\\sklearn\\linear_model\\_sag.py:350: ConvergenceWarning: The max_iter was reached which means the coef_ did not converge\n",
      "  warnings.warn(\n",
      "c:\\python\\python39\\lib\\site-packages\\sklearn\\linear_model\\_sag.py:350: ConvergenceWarning: The max_iter was reached which means the coef_ did not converge\n",
      "  warnings.warn(\n",
      "c:\\python\\python39\\lib\\site-packages\\sklearn\\linear_model\\_sag.py:350: ConvergenceWarning: The max_iter was reached which means the coef_ did not converge\n",
      "  warnings.warn(\n",
      "c:\\python\\python39\\lib\\site-packages\\sklearn\\linear_model\\_sag.py:350: ConvergenceWarning: The max_iter was reached which means the coef_ did not converge\n",
      "  warnings.warn(\n",
      "c:\\python\\python39\\lib\\site-packages\\sklearn\\linear_model\\_sag.py:350: ConvergenceWarning: The max_iter was reached which means the coef_ did not converge\n",
      "  warnings.warn(\n",
      "c:\\python\\python39\\lib\\site-packages\\sklearn\\linear_model\\_sag.py:350: ConvergenceWarning: The max_iter was reached which means the coef_ did not converge\n",
      "  warnings.warn(\n",
      "c:\\python\\python39\\lib\\site-packages\\sklearn\\linear_model\\_sag.py:350: ConvergenceWarning: The max_iter was reached which means the coef_ did not converge\n",
      "  warnings.warn(\n",
      "c:\\python\\python39\\lib\\site-packages\\sklearn\\linear_model\\_sag.py:350: ConvergenceWarning: The max_iter was reached which means the coef_ did not converge\n",
      "  warnings.warn(\n",
      "c:\\python\\python39\\lib\\site-packages\\sklearn\\linear_model\\_sag.py:350: ConvergenceWarning: The max_iter was reached which means the coef_ did not converge\n",
      "  warnings.warn(\n",
      "c:\\python\\python39\\lib\\site-packages\\sklearn\\linear_model\\_sag.py:350: ConvergenceWarning: The max_iter was reached which means the coef_ did not converge\n",
      "  warnings.warn(\n",
      "c:\\python\\python39\\lib\\site-packages\\sklearn\\linear_model\\_sag.py:350: ConvergenceWarning: The max_iter was reached which means the coef_ did not converge\n",
      "  warnings.warn(\n",
      "c:\\python\\python39\\lib\\site-packages\\sklearn\\linear_model\\_sag.py:350: ConvergenceWarning: The max_iter was reached which means the coef_ did not converge\n",
      "  warnings.warn(\n"
     ]
    },
    {
     "data": {
      "text/plain": [
       "Text(0.5, 0, 'C')"
      ]
     },
     "execution_count": 122,
     "metadata": {},
     "output_type": "execute_result"
    },
    {
     "data": {
      "image/png": "[encoded data removed]",
      "text/plain": [
       "<Figure size 432x288 with 1 Axes>"
      ]
     },
     "metadata": {
      "needs_background": "light"
     },
     "output_type": "display_data"
    }
   ],
   "source": [
    "# l1 penalty\n",
    "C_list = [0.01, 0.05, 0.1, 0.5, 1, 2, 5, 7, 10, 15, 20, 22, 25]\n",
    "train_scores = []\n",
    "val_scores = []\n",
    "for C in C_list:\n",
    "    log_reg = LogisticRegression(penalty='l1', C=C, class_weight='balanced', solver='saga', n_jobs=8)\n",
    "    log_reg.fit(X_train, y_train)\n",
    "    predictions = log_reg.predict(X_train)\n",
    "    train_scores.append(f1_score(y_train, predictions))\n",
    "    predictions = log_reg.predict(X_val)\n",
    "    val_scores.append(f1_score(y_val, predictions))\n",
    "\n",
    "plt.plot(C_list, train_scores, c='b')\n",
    "plt.plot(C_list, val_scores, c='r')\n",
    "plt.xlabel('C')"
   ]
  },
  {
   "cell_type": "code",
   "execution_count": 123,
   "metadata": {},
   "outputs": [
    {
     "name": "stderr",
     "output_type": "stream",
     "text": [
      "c:\\python\\python39\\lib\\site-packages\\sklearn\\linear_model\\_sag.py:350: ConvergenceWarning: The max_iter was reached which means the coef_ did not converge\n",
      "  warnings.warn(\n",
      "c:\\python\\python39\\lib\\site-packages\\sklearn\\linear_model\\_sag.py:350: ConvergenceWarning: The max_iter was reached which means the coef_ did not converge\n",
      "  warnings.warn(\n",
      "c:\\python\\python39\\lib\\site-packages\\sklearn\\linear_model\\_sag.py:350: ConvergenceWarning: The max_iter was reached which means the coef_ did not converge\n",
      "  warnings.warn(\n",
      "c:\\python\\python39\\lib\\site-packages\\sklearn\\linear_model\\_sag.py:350: ConvergenceWarning: The max_iter was reached which means the coef_ did not converge\n",
      "  warnings.warn(\n",
      "c:\\python\\python39\\lib\\site-packages\\sklearn\\linear_model\\_sag.py:350: ConvergenceWarning: The max_iter was reached which means the coef_ did not converge\n",
      "  warnings.warn(\n",
      "c:\\python\\python39\\lib\\site-packages\\sklearn\\linear_model\\_sag.py:350: ConvergenceWarning: The max_iter was reached which means the coef_ did not converge\n",
      "  warnings.warn(\n",
      "c:\\python\\python39\\lib\\site-packages\\sklearn\\linear_model\\_sag.py:350: ConvergenceWarning: The max_iter was reached which means the coef_ did not converge\n",
      "  warnings.warn(\n",
      "c:\\python\\python39\\lib\\site-packages\\sklearn\\linear_model\\_sag.py:350: ConvergenceWarning: The max_iter was reached which means the coef_ did not converge\n",
      "  warnings.warn(\n",
      "c:\\python\\python39\\lib\\site-packages\\sklearn\\linear_model\\_sag.py:350: ConvergenceWarning: The max_iter was reached which means the coef_ did not converge\n",
      "  warnings.warn(\n",
      "c:\\python\\python39\\lib\\site-packages\\sklearn\\linear_model\\_sag.py:350: ConvergenceWarning: The max_iter was reached which means the coef_ did not converge\n",
      "  warnings.warn(\n"
     ]
    },
    {
     "data": {
      "text/plain": [
       "Text(0.5, 0, 'C')"
      ]
     },
     "execution_count": 123,
     "metadata": {},
     "output_type": "execute_result"
    },
    {
     "data": {
      "image/png": "[encoded data removed]",
      "text/plain": [
       "<Figure size 432x288 with 1 Axes>"
      ]
     },
     "metadata": {
      "needs_background": "light"
     },
     "output_type": "display_data"
    }
   ],
   "source": [
    "C_list = np.linspace(2, 4, 10)\n",
    "train_scores = []\n",
    "val_scores = []\n",
    "for C in C_list:\n",
    "    log_reg = LogisticRegression(penalty='l1', C=C, class_weight='balanced', solver='saga', n_jobs=8)\n",
    "    log_reg.fit(X_train, y_train)\n",
    "    predictions = log_reg.predict(X_train)\n",
    "    train_scores.append(f1_score(y_train, predictions))\n",
    "    predictions = log_reg.predict(X_val)\n",
    "    val_scores.append(f1_score(y_val, predictions))\n",
    "\n",
    "plt.scatter(C_list, train_scores, c='b')\n",
    "plt.scatter(C_list, val_scores, c='r')\n",
    "plt.xlabel('C')"
   ]
  },
  {
   "cell_type": "code",
   "execution_count": 124,
   "metadata": {},
   "outputs": [
    {
     "data": {
      "text/plain": [
       "2.0"
      ]
     },
     "execution_count": 124,
     "metadata": {},
     "output_type": "execute_result"
    }
   ],
   "source": [
    "C_l1 = C_list[np.argmax(val_scores)]\n",
    "C_l1"
   ]
  },
  {
   "cell_type": "code",
   "execution_count": 125,
   "metadata": {},
   "outputs": [
    {
     "name": "stdout",
     "output_type": "stream",
     "text": [
      "[[55666  1198]\n",
      " [    7    91]]\n"
     ]
    },
    {
     "name": "stderr",
     "output_type": "stream",
     "text": [
      "c:\\python\\python39\\lib\\site-packages\\sklearn\\linear_model\\_sag.py:350: ConvergenceWarning: The max_iter was reached which means the coef_ did not converge\n",
      "  warnings.warn(\n"
     ]
    }
   ],
   "source": [
    "from sklearn.metrics import confusion_matrix\n",
    "\n",
    "log_reg = LogisticRegression(penalty='l1', C=C_l1, class_weight='balanced', solver='saga', n_jobs=8)\n",
    "log_reg.fit(X_train, y_train)\n",
    "predictions = log_reg.predict(X_test)\n",
    "print(confusion_matrix(y_test, predictions))"
   ]
  },
  {
   "attachments": {},
   "cell_type": "markdown",
   "metadata": {},
   "source": [
    "### L2 penalty"
   ]
  },
  {
   "cell_type": "code",
   "execution_count": 126,
   "metadata": {},
   "outputs": [
    {
     "name": "stderr",
     "output_type": "stream",
     "text": [
      "c:\\python\\python39\\lib\\site-packages\\sklearn\\linear_model\\_sag.py:350: ConvergenceWarning: The max_iter was reached which means the coef_ did not converge\n",
      "  warnings.warn(\n",
      "c:\\python\\python39\\lib\\site-packages\\sklearn\\linear_model\\_sag.py:350: ConvergenceWarning: The max_iter was reached which means the coef_ did not converge\n",
      "  warnings.warn(\n",
      "c:\\python\\python39\\lib\\site-packages\\sklearn\\linear_model\\_sag.py:350: ConvergenceWarning: The max_iter was reached which means the coef_ did not converge\n",
      "  warnings.warn(\n",
      "c:\\python\\python39\\lib\\site-packages\\sklearn\\linear_model\\_sag.py:350: ConvergenceWarning: The max_iter was reached which means the coef_ did not converge\n",
      "  warnings.warn(\n",
      "c:\\python\\python39\\lib\\site-packages\\sklearn\\linear_model\\_sag.py:350: ConvergenceWarning: The max_iter was reached which means the coef_ did not converge\n",
      "  warnings.warn(\n",
      "c:\\python\\python39\\lib\\site-packages\\sklearn\\linear_model\\_sag.py:350: ConvergenceWarning: The max_iter was reached which means the coef_ did not converge\n",
      "  warnings.warn(\n",
      "c:\\python\\python39\\lib\\site-packages\\sklearn\\linear_model\\_sag.py:350: ConvergenceWarning: The max_iter was reached which means the coef_ did not converge\n",
      "  warnings.warn(\n",
      "c:\\python\\python39\\lib\\site-packages\\sklearn\\linear_model\\_sag.py:350: ConvergenceWarning: The max_iter was reached which means the coef_ did not converge\n",
      "  warnings.warn(\n",
      "c:\\python\\python39\\lib\\site-packages\\sklearn\\linear_model\\_sag.py:350: ConvergenceWarning: The max_iter was reached which means the coef_ did not converge\n",
      "  warnings.warn(\n"
     ]
    },
    {
     "data": {
      "text/plain": [
       "Text(0.5, 0, 'C')"
      ]
     },
     "execution_count": 126,
     "metadata": {},
     "output_type": "execute_result"
    },
    {
     "data": {
      "image/png": "[encoded data removed]",
      "text/plain": [
       "<Figure size 432x288 with 1 Axes>"
      ]
     },
     "metadata": {
      "needs_background": "light"
     },
     "output_type": "display_data"
    }
   ],
   "source": [
    "C_list = [1, 2, 5, 7, 10, 15, 20, 25, 30]\n",
    "train_scores = []\n",
    "val_scores = []\n",
    "for C in C_list:\n",
    "    log_reg = LogisticRegression(penalty='l2', C=C, class_weight='balanced', solver='saga', n_jobs=8)\n",
    "    log_reg.fit(X_train, y_train)\n",
    "    predictions = log_reg.predict(X_train)\n",
    "    train_scores.append(f1_score(y_train, predictions))\n",
    "    predictions = log_reg.predict(X_val)\n",
    "    val_scores.append(f1_score(y_val, predictions))\n",
    "plt.plot(C_list, train_scores, c='b', )\n",
    "plt.plot(C_list, val_scores, c='r')\n",
    "plt.xlabel('C')"
   ]
  },
  {
   "cell_type": "code",
   "execution_count": 127,
   "metadata": {},
   "outputs": [
    {
     "data": {
      "text/plain": [
       "20"
      ]
     },
     "execution_count": 127,
     "metadata": {},
     "output_type": "execute_result"
    }
   ],
   "source": [
    "C_l2 = C_list[np.argmax(val_scores)]\n",
    "C_l2"
   ]
  },
  {
   "cell_type": "code",
   "execution_count": 128,
   "metadata": {},
   "outputs": [
    {
     "name": "stderr",
     "output_type": "stream",
     "text": [
      "c:\\python\\python39\\lib\\site-packages\\sklearn\\linear_model\\_sag.py:350: ConvergenceWarning: The max_iter was reached which means the coef_ did not converge\n",
      "  warnings.warn(\n",
      "c:\\python\\python39\\lib\\site-packages\\sklearn\\linear_model\\_sag.py:350: ConvergenceWarning: The max_iter was reached which means the coef_ did not converge\n",
      "  warnings.warn(\n",
      "c:\\python\\python39\\lib\\site-packages\\sklearn\\linear_model\\_sag.py:350: ConvergenceWarning: The max_iter was reached which means the coef_ did not converge\n",
      "  warnings.warn(\n",
      "c:\\python\\python39\\lib\\site-packages\\sklearn\\linear_model\\_sag.py:350: ConvergenceWarning: The max_iter was reached which means the coef_ did not converge\n",
      "  warnings.warn(\n",
      "c:\\python\\python39\\lib\\site-packages\\sklearn\\linear_model\\_sag.py:350: ConvergenceWarning: The max_iter was reached which means the coef_ did not converge\n",
      "  warnings.warn(\n",
      "c:\\python\\python39\\lib\\site-packages\\sklearn\\linear_model\\_sag.py:350: ConvergenceWarning: The max_iter was reached which means the coef_ did not converge\n",
      "  warnings.warn(\n",
      "c:\\python\\python39\\lib\\site-packages\\sklearn\\linear_model\\_sag.py:350: ConvergenceWarning: The max_iter was reached which means the coef_ did not converge\n",
      "  warnings.warn(\n",
      "c:\\python\\python39\\lib\\site-packages\\sklearn\\linear_model\\_sag.py:350: ConvergenceWarning: The max_iter was reached which means the coef_ did not converge\n",
      "  warnings.warn(\n",
      "c:\\python\\python39\\lib\\site-packages\\sklearn\\linear_model\\_sag.py:350: ConvergenceWarning: The max_iter was reached which means the coef_ did not converge\n",
      "  warnings.warn(\n",
      "c:\\python\\python39\\lib\\site-packages\\sklearn\\linear_model\\_sag.py:350: ConvergenceWarning: The max_iter was reached which means the coef_ did not converge\n",
      "  warnings.warn(\n",
      "c:\\python\\python39\\lib\\site-packages\\sklearn\\linear_model\\_sag.py:350: ConvergenceWarning: The max_iter was reached which means the coef_ did not converge\n",
      "  warnings.warn(\n",
      "c:\\python\\python39\\lib\\site-packages\\sklearn\\linear_model\\_sag.py:350: ConvergenceWarning: The max_iter was reached which means the coef_ did not converge\n",
      "  warnings.warn(\n",
      "c:\\python\\python39\\lib\\site-packages\\sklearn\\linear_model\\_sag.py:350: ConvergenceWarning: The max_iter was reached which means the coef_ did not converge\n",
      "  warnings.warn(\n",
      "c:\\python\\python39\\lib\\site-packages\\sklearn\\linear_model\\_sag.py:350: ConvergenceWarning: The max_iter was reached which means the coef_ did not converge\n",
      "  warnings.warn(\n",
      "c:\\python\\python39\\lib\\site-packages\\sklearn\\linear_model\\_sag.py:350: ConvergenceWarning: The max_iter was reached which means the coef_ did not converge\n",
      "  warnings.warn(\n",
      "c:\\python\\python39\\lib\\site-packages\\sklearn\\linear_model\\_sag.py:350: ConvergenceWarning: The max_iter was reached which means the coef_ did not converge\n",
      "  warnings.warn(\n",
      "c:\\python\\python39\\lib\\site-packages\\sklearn\\linear_model\\_sag.py:350: ConvergenceWarning: The max_iter was reached which means the coef_ did not converge\n",
      "  warnings.warn(\n",
      "c:\\python\\python39\\lib\\site-packages\\sklearn\\linear_model\\_sag.py:350: ConvergenceWarning: The max_iter was reached which means the coef_ did not converge\n",
      "  warnings.warn(\n",
      "c:\\python\\python39\\lib\\site-packages\\sklearn\\linear_model\\_sag.py:350: ConvergenceWarning: The max_iter was reached which means the coef_ did not converge\n",
      "  warnings.warn(\n",
      "c:\\python\\python39\\lib\\site-packages\\sklearn\\linear_model\\_sag.py:350: ConvergenceWarning: The max_iter was reached which means the coef_ did not converge\n",
      "  warnings.warn(\n"
     ]
    },
    {
     "data": {
      "text/plain": [
       "Text(0.5, 0, 'C')"
      ]
     },
     "execution_count": 128,
     "metadata": {},
     "output_type": "execute_result"
    },
    {
     "data": {
      "image/png": "[encoded data removed]",
      "text/plain": [
       "<Figure size 432x288 with 1 Axes>"
      ]
     },
     "metadata": {
      "needs_background": "light"
     },
     "output_type": "display_data"
    }
   ],
   "source": [
    "C_list = np.linspace(18, 22, 20)\n",
    "train_scores = []\n",
    "val_scores = []\n",
    "for C in C_list:\n",
    "    log_reg = LogisticRegression(penalty='l2', C=C, class_weight='balanced', solver='saga', n_jobs=8)\n",
    "    log_reg.fit(X_train, y_train)\n",
    "    predictions = log_reg.predict(X_train)\n",
    "    train_scores.append(f1_score(y_train, predictions))\n",
    "    predictions = log_reg.predict(X_val)\n",
    "    val_scores.append(f1_score(y_val, predictions))\n",
    "plt.plot(C_list, train_scores, c='b', )\n",
    "plt.plot(C_list, val_scores, c='r')\n",
    "plt.xlabel('C')"
   ]
  },
  {
   "cell_type": "code",
   "execution_count": 131,
   "metadata": {},
   "outputs": [
    {
     "data": {
      "text/plain": [
       "20.105263157894736"
      ]
     },
     "execution_count": 131,
     "metadata": {},
     "output_type": "execute_result"
    }
   ],
   "source": [
    "C_l2 = C_list[np.argmax(val_scores)]\n",
    "C_l2"
   ]
  },
  {
   "cell_type": "code",
   "execution_count": 132,
   "metadata": {},
   "outputs": [
    {
     "name": "stdout",
     "output_type": "stream",
     "text": [
      "0.13150289017341038\n",
      "[[55669  1195]\n",
      " [    7    91]]\n"
     ]
    },
    {
     "name": "stderr",
     "output_type": "stream",
     "text": [
      "c:\\python\\python39\\lib\\site-packages\\sklearn\\linear_model\\_sag.py:350: ConvergenceWarning: The max_iter was reached which means the coef_ did not converge\n",
      "  warnings.warn(\n"
     ]
    }
   ],
   "source": [
    "log_reg = LogisticRegression(penalty='l2', C=C_l2, class_weight='balanced', solver='saga', n_jobs=8)\n",
    "log_reg.fit(X_train, y_train)\n",
    "predictions = log_reg.predict(X_test)\n",
    "print(f1_score(y_test, predictions))\n",
    "print(confusion_matrix(y_test, predictions))"
   ]
  },
  {
   "attachments": {},
   "cell_type": "markdown",
   "metadata": {},
   "source": [
    "### Elastic net "
   ]
  },
  {
   "cell_type": "code",
   "execution_count": 133,
   "metadata": {},
   "outputs": [
    {
     "name": "stderr",
     "output_type": "stream",
     "text": [
      "c:\\python\\python39\\lib\\site-packages\\sklearn\\linear_model\\_sag.py:350: ConvergenceWarning: The max_iter was reached which means the coef_ did not converge\n",
      "  warnings.warn(\n",
      "c:\\python\\python39\\lib\\site-packages\\sklearn\\linear_model\\_sag.py:350: ConvergenceWarning: The max_iter was reached which means the coef_ did not converge\n",
      "  warnings.warn(\n",
      "c:\\python\\python39\\lib\\site-packages\\sklearn\\linear_model\\_sag.py:350: ConvergenceWarning: The max_iter was reached which means the coef_ did not converge\n",
      "  warnings.warn(\n",
      "c:\\python\\python39\\lib\\site-packages\\sklearn\\linear_model\\_sag.py:350: ConvergenceWarning: The max_iter was reached which means the coef_ did not converge\n",
      "  warnings.warn(\n",
      "c:\\python\\python39\\lib\\site-packages\\sklearn\\linear_model\\_sag.py:350: ConvergenceWarning: The max_iter was reached which means the coef_ did not converge\n",
      "  warnings.warn(\n",
      "c:\\python\\python39\\lib\\site-packages\\sklearn\\linear_model\\_sag.py:350: ConvergenceWarning: The max_iter was reached which means the coef_ did not converge\n",
      "  warnings.warn(\n",
      "c:\\python\\python39\\lib\\site-packages\\sklearn\\linear_model\\_sag.py:350: ConvergenceWarning: The max_iter was reached which means the coef_ did not converge\n",
      "  warnings.warn(\n",
      "c:\\python\\python39\\lib\\site-packages\\sklearn\\linear_model\\_sag.py:350: ConvergenceWarning: The max_iter was reached which means the coef_ did not converge\n",
      "  warnings.warn(\n",
      "c:\\python\\python39\\lib\\site-packages\\sklearn\\linear_model\\_sag.py:350: ConvergenceWarning: The max_iter was reached which means the coef_ did not converge\n",
      "  warnings.warn(\n",
      "c:\\python\\python39\\lib\\site-packages\\sklearn\\linear_model\\_sag.py:350: ConvergenceWarning: The max_iter was reached which means the coef_ did not converge\n",
      "  warnings.warn(\n",
      "c:\\python\\python39\\lib\\site-packages\\sklearn\\linear_model\\_sag.py:350: ConvergenceWarning: The max_iter was reached which means the coef_ did not converge\n",
      "  warnings.warn(\n",
      "c:\\python\\python39\\lib\\site-packages\\sklearn\\linear_model\\_sag.py:350: ConvergenceWarning: The max_iter was reached which means the coef_ did not converge\n",
      "  warnings.warn(\n",
      "c:\\python\\python39\\lib\\site-packages\\sklearn\\linear_model\\_sag.py:350: ConvergenceWarning: The max_iter was reached which means the coef_ did not converge\n",
      "  warnings.warn(\n",
      "c:\\python\\python39\\lib\\site-packages\\sklearn\\linear_model\\_sag.py:350: ConvergenceWarning: The max_iter was reached which means the coef_ did not converge\n",
      "  warnings.warn(\n",
      "c:\\python\\python39\\lib\\site-packages\\sklearn\\linear_model\\_sag.py:350: ConvergenceWarning: The max_iter was reached which means the coef_ did not converge\n",
      "  warnings.warn(\n",
      "c:\\python\\python39\\lib\\site-packages\\sklearn\\linear_model\\_sag.py:350: ConvergenceWarning: The max_iter was reached which means the coef_ did not converge\n",
      "  warnings.warn(\n",
      "c:\\python\\python39\\lib\\site-packages\\sklearn\\linear_model\\_sag.py:350: ConvergenceWarning: The max_iter was reached which means the coef_ did not converge\n",
      "  warnings.warn(\n",
      "c:\\python\\python39\\lib\\site-packages\\sklearn\\linear_model\\_sag.py:350: ConvergenceWarning: The max_iter was reached which means the coef_ did not converge\n",
      "  warnings.warn(\n",
      "c:\\python\\python39\\lib\\site-packages\\sklearn\\linear_model\\_sag.py:350: ConvergenceWarning: The max_iter was reached which means the coef_ did not converge\n",
      "  warnings.warn(\n",
      "c:\\python\\python39\\lib\\site-packages\\sklearn\\linear_model\\_sag.py:350: ConvergenceWarning: The max_iter was reached which means the coef_ did not converge\n",
      "  warnings.warn(\n",
      "c:\\python\\python39\\lib\\site-packages\\sklearn\\linear_model\\_sag.py:350: ConvergenceWarning: The max_iter was reached which means the coef_ did not converge\n",
      "  warnings.warn(\n",
      "c:\\python\\python39\\lib\\site-packages\\sklearn\\linear_model\\_sag.py:350: ConvergenceWarning: The max_iter was reached which means the coef_ did not converge\n",
      "  warnings.warn(\n",
      "c:\\python\\python39\\lib\\site-packages\\sklearn\\linear_model\\_sag.py:350: ConvergenceWarning: The max_iter was reached which means the coef_ did not converge\n",
      "  warnings.warn(\n",
      "c:\\python\\python39\\lib\\site-packages\\sklearn\\linear_model\\_sag.py:350: ConvergenceWarning: The max_iter was reached which means the coef_ did not converge\n",
      "  warnings.warn(\n",
      "c:\\python\\python39\\lib\\site-packages\\sklearn\\linear_model\\_sag.py:350: ConvergenceWarning: The max_iter was reached which means the coef_ did not converge\n",
      "  warnings.warn(\n",
      "c:\\python\\python39\\lib\\site-packages\\sklearn\\linear_model\\_sag.py:350: ConvergenceWarning: The max_iter was reached which means the coef_ did not converge\n",
      "  warnings.warn(\n",
      "c:\\python\\python39\\lib\\site-packages\\sklearn\\linear_model\\_sag.py:350: ConvergenceWarning: The max_iter was reached which means the coef_ did not converge\n",
      "  warnings.warn(\n",
      "c:\\python\\python39\\lib\\site-packages\\sklearn\\linear_model\\_sag.py:350: ConvergenceWarning: The max_iter was reached which means the coef_ did not converge\n",
      "  warnings.warn(\n",
      "c:\\python\\python39\\lib\\site-packages\\sklearn\\linear_model\\_sag.py:350: ConvergenceWarning: The max_iter was reached which means the coef_ did not converge\n",
      "  warnings.warn(\n",
      "c:\\python\\python39\\lib\\site-packages\\sklearn\\linear_model\\_sag.py:350: ConvergenceWarning: The max_iter was reached which means the coef_ did not converge\n",
      "  warnings.warn(\n",
      "c:\\python\\python39\\lib\\site-packages\\sklearn\\linear_model\\_sag.py:350: ConvergenceWarning: The max_iter was reached which means the coef_ did not converge\n",
      "  warnings.warn(\n",
      "c:\\python\\python39\\lib\\site-packages\\sklearn\\linear_model\\_sag.py:350: ConvergenceWarning: The max_iter was reached which means the coef_ did not converge\n",
      "  warnings.warn(\n",
      "c:\\python\\python39\\lib\\site-packages\\sklearn\\linear_model\\_sag.py:350: ConvergenceWarning: The max_iter was reached which means the coef_ did not converge\n",
      "  warnings.warn(\n",
      "c:\\python\\python39\\lib\\site-packages\\sklearn\\linear_model\\_sag.py:350: ConvergenceWarning: The max_iter was reached which means the coef_ did not converge\n",
      "  warnings.warn(\n",
      "c:\\python\\python39\\lib\\site-packages\\sklearn\\linear_model\\_sag.py:350: ConvergenceWarning: The max_iter was reached which means the coef_ did not converge\n",
      "  warnings.warn(\n",
      "c:\\python\\python39\\lib\\site-packages\\sklearn\\linear_model\\_sag.py:350: ConvergenceWarning: The max_iter was reached which means the coef_ did not converge\n",
      "  warnings.warn(\n",
      "c:\\python\\python39\\lib\\site-packages\\sklearn\\linear_model\\_sag.py:350: ConvergenceWarning: The max_iter was reached which means the coef_ did not converge\n",
      "  warnings.warn(\n",
      "c:\\python\\python39\\lib\\site-packages\\sklearn\\linear_model\\_sag.py:350: ConvergenceWarning: The max_iter was reached which means the coef_ did not converge\n",
      "  warnings.warn(\n",
      "c:\\python\\python39\\lib\\site-packages\\sklearn\\linear_model\\_sag.py:350: ConvergenceWarning: The max_iter was reached which means the coef_ did not converge\n",
      "  warnings.warn(\n",
      "c:\\python\\python39\\lib\\site-packages\\sklearn\\linear_model\\_sag.py:350: ConvergenceWarning: The max_iter was reached which means the coef_ did not converge\n",
      "  warnings.warn(\n",
      "c:\\python\\python39\\lib\\site-packages\\sklearn\\linear_model\\_sag.py:350: ConvergenceWarning: The max_iter was reached which means the coef_ did not converge\n",
      "  warnings.warn(\n",
      "c:\\python\\python39\\lib\\site-packages\\sklearn\\linear_model\\_sag.py:350: ConvergenceWarning: The max_iter was reached which means the coef_ did not converge\n",
      "  warnings.warn(\n",
      "c:\\python\\python39\\lib\\site-packages\\sklearn\\linear_model\\_sag.py:350: ConvergenceWarning: The max_iter was reached which means the coef_ did not converge\n",
      "  warnings.warn(\n",
      "c:\\python\\python39\\lib\\site-packages\\sklearn\\linear_model\\_sag.py:350: ConvergenceWarning: The max_iter was reached which means the coef_ did not converge\n",
      "  warnings.warn(\n",
      "c:\\python\\python39\\lib\\site-packages\\sklearn\\linear_model\\_sag.py:350: ConvergenceWarning: The max_iter was reached which means the coef_ did not converge\n",
      "  warnings.warn(\n",
      "c:\\python\\python39\\lib\\site-packages\\sklearn\\linear_model\\_sag.py:350: ConvergenceWarning: The max_iter was reached which means the coef_ did not converge\n",
      "  warnings.warn(\n",
      "c:\\python\\python39\\lib\\site-packages\\sklearn\\linear_model\\_sag.py:350: ConvergenceWarning: The max_iter was reached which means the coef_ did not converge\n",
      "  warnings.warn(\n",
      "c:\\python\\python39\\lib\\site-packages\\sklearn\\linear_model\\_sag.py:350: ConvergenceWarning: The max_iter was reached which means the coef_ did not converge\n",
      "  warnings.warn(\n",
      "c:\\python\\python39\\lib\\site-packages\\sklearn\\linear_model\\_sag.py:350: ConvergenceWarning: The max_iter was reached which means the coef_ did not converge\n",
      "  warnings.warn(\n",
      "c:\\python\\python39\\lib\\site-packages\\sklearn\\linear_model\\_sag.py:350: ConvergenceWarning: The max_iter was reached which means the coef_ did not converge\n",
      "  warnings.warn(\n",
      "c:\\python\\python39\\lib\\site-packages\\sklearn\\linear_model\\_sag.py:350: ConvergenceWarning: The max_iter was reached which means the coef_ did not converge\n",
      "  warnings.warn(\n",
      "c:\\python\\python39\\lib\\site-packages\\sklearn\\linear_model\\_sag.py:350: ConvergenceWarning: The max_iter was reached which means the coef_ did not converge\n",
      "  warnings.warn(\n",
      "c:\\python\\python39\\lib\\site-packages\\sklearn\\linear_model\\_sag.py:350: ConvergenceWarning: The max_iter was reached which means the coef_ did not converge\n",
      "  warnings.warn(\n",
      "c:\\python\\python39\\lib\\site-packages\\sklearn\\linear_model\\_sag.py:350: ConvergenceWarning: The max_iter was reached which means the coef_ did not converge\n",
      "  warnings.warn(\n",
      "c:\\python\\python39\\lib\\site-packages\\sklearn\\linear_model\\_sag.py:350: ConvergenceWarning: The max_iter was reached which means the coef_ did not converge\n",
      "  warnings.warn(\n",
      "c:\\python\\python39\\lib\\site-packages\\sklearn\\linear_model\\_sag.py:350: ConvergenceWarning: The max_iter was reached which means the coef_ did not converge\n",
      "  warnings.warn(\n",
      "c:\\python\\python39\\lib\\site-packages\\sklearn\\linear_model\\_sag.py:350: ConvergenceWarning: The max_iter was reached which means the coef_ did not converge\n",
      "  warnings.warn(\n",
      "c:\\python\\python39\\lib\\site-packages\\sklearn\\linear_model\\_sag.py:350: ConvergenceWarning: The max_iter was reached which means the coef_ did not converge\n",
      "  warnings.warn(\n",
      "c:\\python\\python39\\lib\\site-packages\\sklearn\\linear_model\\_sag.py:350: ConvergenceWarning: The max_iter was reached which means the coef_ did not converge\n",
      "  warnings.warn(\n",
      "c:\\python\\python39\\lib\\site-packages\\sklearn\\linear_model\\_sag.py:350: ConvergenceWarning: The max_iter was reached which means the coef_ did not converge\n",
      "  warnings.warn(\n",
      "c:\\python\\python39\\lib\\site-packages\\sklearn\\linear_model\\_sag.py:350: ConvergenceWarning: The max_iter was reached which means the coef_ did not converge\n",
      "  warnings.warn(\n",
      "c:\\python\\python39\\lib\\site-packages\\sklearn\\linear_model\\_sag.py:350: ConvergenceWarning: The max_iter was reached which means the coef_ did not converge\n",
      "  warnings.warn(\n",
      "c:\\python\\python39\\lib\\site-packages\\sklearn\\linear_model\\_sag.py:350: ConvergenceWarning: The max_iter was reached which means the coef_ did not converge\n",
      "  warnings.warn(\n",
      "c:\\python\\python39\\lib\\site-packages\\sklearn\\linear_model\\_sag.py:350: ConvergenceWarning: The max_iter was reached which means the coef_ did not converge\n",
      "  warnings.warn(\n",
      "c:\\python\\python39\\lib\\site-packages\\sklearn\\linear_model\\_sag.py:350: ConvergenceWarning: The max_iter was reached which means the coef_ did not converge\n",
      "  warnings.warn(\n",
      "c:\\python\\python39\\lib\\site-packages\\sklearn\\linear_model\\_sag.py:350: ConvergenceWarning: The max_iter was reached which means the coef_ did not converge\n",
      "  warnings.warn(\n",
      "c:\\python\\python39\\lib\\site-packages\\sklearn\\linear_model\\_sag.py:350: ConvergenceWarning: The max_iter was reached which means the coef_ did not converge\n",
      "  warnings.warn(\n",
      "c:\\python\\python39\\lib\\site-packages\\sklearn\\linear_model\\_sag.py:350: ConvergenceWarning: The max_iter was reached which means the coef_ did not converge\n",
      "  warnings.warn(\n",
      "c:\\python\\python39\\lib\\site-packages\\sklearn\\linear_model\\_sag.py:350: ConvergenceWarning: The max_iter was reached which means the coef_ did not converge\n",
      "  warnings.warn(\n",
      "c:\\python\\python39\\lib\\site-packages\\sklearn\\linear_model\\_sag.py:350: ConvergenceWarning: The max_iter was reached which means the coef_ did not converge\n",
      "  warnings.warn(\n",
      "c:\\python\\python39\\lib\\site-packages\\sklearn\\linear_model\\_sag.py:350: ConvergenceWarning: The max_iter was reached which means the coef_ did not converge\n",
      "  warnings.warn(\n",
      "c:\\python\\python39\\lib\\site-packages\\sklearn\\linear_model\\_sag.py:350: ConvergenceWarning: The max_iter was reached which means the coef_ did not converge\n",
      "  warnings.warn(\n",
      "c:\\python\\python39\\lib\\site-packages\\sklearn\\linear_model\\_sag.py:350: ConvergenceWarning: The max_iter was reached which means the coef_ did not converge\n",
      "  warnings.warn(\n",
      "c:\\python\\python39\\lib\\site-packages\\sklearn\\linear_model\\_sag.py:350: ConvergenceWarning: The max_iter was reached which means the coef_ did not converge\n",
      "  warnings.warn(\n",
      "c:\\python\\python39\\lib\\site-packages\\sklearn\\linear_model\\_sag.py:350: ConvergenceWarning: The max_iter was reached which means the coef_ did not converge\n",
      "  warnings.warn(\n",
      "c:\\python\\python39\\lib\\site-packages\\sklearn\\linear_model\\_sag.py:350: ConvergenceWarning: The max_iter was reached which means the coef_ did not converge\n",
      "  warnings.warn(\n",
      "c:\\python\\python39\\lib\\site-packages\\sklearn\\linear_model\\_sag.py:350: ConvergenceWarning: The max_iter was reached which means the coef_ did not converge\n",
      "  warnings.warn(\n",
      "c:\\python\\python39\\lib\\site-packages\\sklearn\\linear_model\\_sag.py:350: ConvergenceWarning: The max_iter was reached which means the coef_ did not converge\n",
      "  warnings.warn(\n",
      "c:\\python\\python39\\lib\\site-packages\\sklearn\\linear_model\\_sag.py:350: ConvergenceWarning: The max_iter was reached which means the coef_ did not converge\n",
      "  warnings.warn(\n",
      "c:\\python\\python39\\lib\\site-packages\\sklearn\\linear_model\\_sag.py:350: ConvergenceWarning: The max_iter was reached which means the coef_ did not converge\n",
      "  warnings.warn(\n",
      "c:\\python\\python39\\lib\\site-packages\\sklearn\\linear_model\\_sag.py:350: ConvergenceWarning: The max_iter was reached which means the coef_ did not converge\n",
      "  warnings.warn(\n",
      "c:\\python\\python39\\lib\\site-packages\\sklearn\\linear_model\\_sag.py:350: ConvergenceWarning: The max_iter was reached which means the coef_ did not converge\n",
      "  warnings.warn(\n",
      "c:\\python\\python39\\lib\\site-packages\\sklearn\\linear_model\\_sag.py:350: ConvergenceWarning: The max_iter was reached which means the coef_ did not converge\n",
      "  warnings.warn(\n",
      "c:\\python\\python39\\lib\\site-packages\\sklearn\\linear_model\\_sag.py:350: ConvergenceWarning: The max_iter was reached which means the coef_ did not converge\n",
      "  warnings.warn(\n",
      "c:\\python\\python39\\lib\\site-packages\\sklearn\\linear_model\\_sag.py:350: ConvergenceWarning: The max_iter was reached which means the coef_ did not converge\n",
      "  warnings.warn(\n",
      "c:\\python\\python39\\lib\\site-packages\\sklearn\\linear_model\\_sag.py:350: ConvergenceWarning: The max_iter was reached which means the coef_ did not converge\n",
      "  warnings.warn(\n",
      "c:\\python\\python39\\lib\\site-packages\\sklearn\\linear_model\\_sag.py:350: ConvergenceWarning: The max_iter was reached which means the coef_ did not converge\n",
      "  warnings.warn(\n",
      "c:\\python\\python39\\lib\\site-packages\\sklearn\\linear_model\\_sag.py:350: ConvergenceWarning: The max_iter was reached which means the coef_ did not converge\n",
      "  warnings.warn(\n",
      "c:\\python\\python39\\lib\\site-packages\\sklearn\\linear_model\\_sag.py:350: ConvergenceWarning: The max_iter was reached which means the coef_ did not converge\n",
      "  warnings.warn(\n",
      "c:\\python\\python39\\lib\\site-packages\\sklearn\\linear_model\\_sag.py:350: ConvergenceWarning: The max_iter was reached which means the coef_ did not converge\n",
      "  warnings.warn(\n",
      "c:\\python\\python39\\lib\\site-packages\\sklearn\\linear_model\\_sag.py:350: ConvergenceWarning: The max_iter was reached which means the coef_ did not converge\n",
      "  warnings.warn(\n",
      "c:\\python\\python39\\lib\\site-packages\\sklearn\\linear_model\\_sag.py:350: ConvergenceWarning: The max_iter was reached which means the coef_ did not converge\n",
      "  warnings.warn(\n",
      "c:\\python\\python39\\lib\\site-packages\\sklearn\\linear_model\\_sag.py:350: ConvergenceWarning: The max_iter was reached which means the coef_ did not converge\n",
      "  warnings.warn(\n",
      "c:\\python\\python39\\lib\\site-packages\\sklearn\\linear_model\\_sag.py:350: ConvergenceWarning: The max_iter was reached which means the coef_ did not converge\n",
      "  warnings.warn(\n",
      "c:\\python\\python39\\lib\\site-packages\\sklearn\\linear_model\\_sag.py:350: ConvergenceWarning: The max_iter was reached which means the coef_ did not converge\n",
      "  warnings.warn(\n",
      "c:\\python\\python39\\lib\\site-packages\\sklearn\\linear_model\\_sag.py:350: ConvergenceWarning: The max_iter was reached which means the coef_ did not converge\n",
      "  warnings.warn(\n",
      "c:\\python\\python39\\lib\\site-packages\\sklearn\\linear_model\\_sag.py:350: ConvergenceWarning: The max_iter was reached which means the coef_ did not converge\n",
      "  warnings.warn(\n",
      "c:\\python\\python39\\lib\\site-packages\\sklearn\\linear_model\\_sag.py:350: ConvergenceWarning: The max_iter was reached which means the coef_ did not converge\n",
      "  warnings.warn(\n",
      "c:\\python\\python39\\lib\\site-packages\\sklearn\\linear_model\\_sag.py:350: ConvergenceWarning: The max_iter was reached which means the coef_ did not converge\n",
      "  warnings.warn(\n",
      "c:\\python\\python39\\lib\\site-packages\\sklearn\\linear_model\\_sag.py:350: ConvergenceWarning: The max_iter was reached which means the coef_ did not converge\n",
      "  warnings.warn(\n",
      "c:\\python\\python39\\lib\\site-packages\\sklearn\\linear_model\\_sag.py:350: ConvergenceWarning: The max_iter was reached which means the coef_ did not converge\n",
      "  warnings.warn(\n",
      "c:\\python\\python39\\lib\\site-packages\\sklearn\\linear_model\\_sag.py:350: ConvergenceWarning: The max_iter was reached which means the coef_ did not converge\n",
      "  warnings.warn(\n",
      "c:\\python\\python39\\lib\\site-packages\\sklearn\\linear_model\\_sag.py:350: ConvergenceWarning: The max_iter was reached which means the coef_ did not converge\n",
      "  warnings.warn(\n",
      "c:\\python\\python39\\lib\\site-packages\\sklearn\\linear_model\\_sag.py:350: ConvergenceWarning: The max_iter was reached which means the coef_ did not converge\n",
      "  warnings.warn(\n",
      "c:\\python\\python39\\lib\\site-packages\\sklearn\\linear_model\\_sag.py:350: ConvergenceWarning: The max_iter was reached which means the coef_ did not converge\n",
      "  warnings.warn(\n",
      "c:\\python\\python39\\lib\\site-packages\\sklearn\\linear_model\\_sag.py:350: ConvergenceWarning: The max_iter was reached which means the coef_ did not converge\n",
      "  warnings.warn(\n",
      "c:\\python\\python39\\lib\\site-packages\\sklearn\\linear_model\\_sag.py:350: ConvergenceWarning: The max_iter was reached which means the coef_ did not converge\n",
      "  warnings.warn(\n",
      "c:\\python\\python39\\lib\\site-packages\\sklearn\\linear_model\\_sag.py:350: ConvergenceWarning: The max_iter was reached which means the coef_ did not converge\n",
      "  warnings.warn(\n",
      "c:\\python\\python39\\lib\\site-packages\\sklearn\\linear_model\\_sag.py:350: ConvergenceWarning: The max_iter was reached which means the coef_ did not converge\n",
      "  warnings.warn(\n",
      "c:\\python\\python39\\lib\\site-packages\\sklearn\\linear_model\\_sag.py:350: ConvergenceWarning: The max_iter was reached which means the coef_ did not converge\n",
      "  warnings.warn(\n"
     ]
    },
    {
     "data": {
      "text/plain": [
       "(0.1348155156102176, 0.01, 0.67)"
      ]
     },
     "execution_count": 133,
     "metadata": {},
     "output_type": "execute_result"
    }
   ],
   "source": [
    "C_list = [0.01, 0.05, 0.1, 0.5, 1, 2, 5, 7, 10, 15, 20]\n",
    "l1_ratio_list = np.linspace(0.01, 1, 10)\n",
    "best_scores = 0\n",
    "\n",
    "for C in C_list:\n",
    "    for l1_ratio in l1_ratio_list:\n",
    "        log_reg = LogisticRegression(penalty='elasticnet', C=C, l1_ratio=l1_ratio, class_weight='balanced', solver='saga', n_jobs=8)\n",
    "        log_reg.fit(X_train, y_train)\n",
    "        predictions = log_reg.predict(X_train)\n",
    "        scores = f1_score(y_train, predictions)\n",
    "        if scores > best_scores:\n",
    "            best_scores = scores\n",
    "            C_elastic = C\n",
    "            l1_ratio_elastic = l1_ratio\n",
    "            best_log_reg = log_reg\n",
    "\n",
    "best_scores, C_elastic, l1_ratio_elastic"
   ]
  },
  {
   "cell_type": "code",
   "execution_count": 135,
   "metadata": {},
   "outputs": [
    {
     "name": "stdout",
     "output_type": "stream",
     "text": [
      "0.1375661375661376\n",
      "[[55730  1134]\n",
      " [    7    91]]\n"
     ]
    }
   ],
   "source": [
    "predictions = best_log_reg.predict(X_test)\n",
    "print(f1_score(y_test, predictions))\n",
    "print(confusion_matrix(y_test, predictions))"
   ]
  },
  {
   "attachments": {},
   "cell_type": "markdown",
   "metadata": {},
   "source": [
    "## Random forrest"
   ]
  },
  {
   "cell_type": "code",
   "execution_count": 136,
   "metadata": {},
   "outputs": [],
   "source": [
    "from sklearn.ensemble import RandomForestClassifier\n",
    "from sklearn.model_selection import GridSearchCV"
   ]
  },
  {
   "cell_type": "code",
   "execution_count": 137,
   "metadata": {},
   "outputs": [
    {
     "data": {
      "text/plain": [
       "Text(0.5, 0, 'N estimators')"
      ]
     },
     "execution_count": 137,
     "metadata": {},
     "output_type": "execute_result"
    },
    {
     "data": {
      "image/png": "[encoded data removed]",
      "text/plain": [
       "<Figure size 432x288 with 1 Axes>"
      ]
     },
     "metadata": {
      "needs_background": "light"
     },
     "output_type": "display_data"
    }
   ],
   "source": [
    "n_estimators_list = [50, 100, 200, 300, 500]\n",
    "train_scores = []\n",
    "val_scores = []\n",
    "for n_esimators in n_estimators_list:\n",
    "    rf_clf = RandomForestClassifier(n_estimators=n_esimators, n_jobs=8)\n",
    "    rf_clf.fit(X_train, y_train)\n",
    "    predictions = rf_clf.predict(X_train)\n",
    "    train_scores.append(f1_score(y_train, predictions))\n",
    "    predictions = rf_clf.predict(X_val)\n",
    "    val_scores.append(f1_score(y_val, predictions))\n",
    "plt.plot(n_estimators_list, train_scores, c='b', )\n",
    "plt.plot(n_estimators_list, val_scores, c='r')\n",
    "plt.xlabel('N estimators')"
   ]
  },
  {
   "cell_type": "code",
   "execution_count": 138,
   "metadata": {},
   "outputs": [
    {
     "data": {
      "text/plain": [
       "Text(0.5, 0, 'N estimators')"
      ]
     },
     "execution_count": 138,
     "metadata": {},
     "output_type": "execute_result"
    },
    {
     "data": {
      "image/png": "[encoded data removed]",
      "text/plain": [
       "<Figure size 432x288 with 1 Axes>"
      ]
     },
     "metadata": {
      "needs_background": "light"
     },
     "output_type": "display_data"
    }
   ],
   "source": [
    "n_estimators_list = range(90, 110)\n",
    "train_scores = []\n",
    "val_scores = []\n",
    "for n_esimators in n_estimators_list:\n",
    "    rf_clf = RandomForestClassifier(n_estimators=n_esimators, n_jobs=8)\n",
    "    rf_clf.fit(X_train, y_train)\n",
    "    predictions = rf_clf.predict(X_train)\n",
    "    train_scores.append(f1_score(y_train, predictions))\n",
    "    predictions = rf_clf.predict(X_val)\n",
    "    val_scores.append(f1_score(y_val, predictions))\n",
    "plt.plot(n_estimators_list, train_scores, c='b', )\n",
    "plt.plot(n_estimators_list, val_scores, c='r')\n",
    "plt.xlabel('N estimators')"
   ]
  },
  {
   "cell_type": "code",
   "execution_count": 139,
   "metadata": {},
   "outputs": [
    {
     "data": {
      "text/plain": [
       "93"
      ]
     },
     "execution_count": 139,
     "metadata": {},
     "output_type": "execute_result"
    }
   ],
   "source": [
    "n_esimators = n_estimators_list[np.argmax(val_scores)]\n",
    "n_esimators"
   ]
  },
  {
   "cell_type": "code",
   "execution_count": 140,
   "metadata": {},
   "outputs": [
    {
     "data": {
      "text/plain": [
       "Text(0.5, 0, 'Max depth')"
      ]
     },
     "execution_count": 140,
     "metadata": {},
     "output_type": "execute_result"
    },
    {
     "data": {
      "image/png": "[encoded data removed]",
      "text/plain": [
       "<Figure size 432x288 with 1 Axes>"
      ]
     },
     "metadata": {
      "needs_background": "light"
     },
     "output_type": "display_data"
    }
   ],
   "source": [
    "max_depth_list = range(3, 16)\n",
    "train_scores = []\n",
    "val_scores = []\n",
    "for max_depth in max_depth_list:\n",
    "    rf_clf = RandomForestClassifier(n_estimators=n_esimators, max_depth=max_depth, n_jobs=8)\n",
    "    rf_clf.fit(X_train, y_train)\n",
    "    predictions = rf_clf.predict(X_train)\n",
    "    train_scores.append(f1_score(y_train, predictions))\n",
    "    predictions = rf_clf.predict(X_val)\n",
    "    val_scores.append(f1_score(y_val, predictions))\n",
    "plt.plot(max_depth_list, train_scores, c='b', )\n",
    "plt.plot(max_depth_list, val_scores, c='r')\n",
    "plt.xlabel('Max depth')"
   ]
  },
  {
   "cell_type": "code",
   "execution_count": 141,
   "metadata": {},
   "outputs": [
    {
     "data": {
      "text/plain": [
       "12"
      ]
     },
     "execution_count": 141,
     "metadata": {},
     "output_type": "execute_result"
    }
   ],
   "source": [
    "max_depth = max_depth_list[np.argmax(val_scores)]\n",
    "max_depth"
   ]
  },
  {
   "cell_type": "code",
   "execution_count": 142,
   "metadata": {},
   "outputs": [
    {
     "data": {
      "text/plain": [
       "Text(0.5, 0, 'Min samples split')"
      ]
     },
     "execution_count": 142,
     "metadata": {},
     "output_type": "execute_result"
    },
    {
     "data": {
      "image/png": "[encoded data removed]",
      "text/plain": [
       "<Figure size 432x288 with 1 Axes>"
      ]
     },
     "metadata": {
      "needs_background": "light"
     },
     "output_type": "display_data"
    }
   ],
   "source": [
    "min_samples_split_list = range(1, 40, 5)\n",
    "train_scores = []\n",
    "val_scores = []\n",
    "for min_samples_split in min_samples_split_list:\n",
    "    rf_clf = RandomForestClassifier(n_estimators=n_esimators, max_depth=max_depth, min_samples_split=min_samples_split, n_jobs=8)\n",
    "    rf_clf.fit(X_train, y_train)\n",
    "    predictions = rf_clf.predict(X_train)\n",
    "    train_scores.append(f1_score(y_train, predictions))\n",
    "    predictions = rf_clf.predict(X_val)\n",
    "    val_scores.append(f1_score(y_val, predictions))\n",
    "plt.plot(min_samples_split_list, train_scores, c='b', )\n",
    "plt.plot(min_samples_split_list, val_scores, c='r')\n",
    "plt.xlabel('Min samples split')"
   ]
  },
  {
   "cell_type": "code",
   "execution_count": 143,
   "metadata": {},
   "outputs": [
    {
     "data": {
      "text/plain": [
       "Text(0.5, 0, 'Min samples split')"
      ]
     },
     "execution_count": 143,
     "metadata": {},
     "output_type": "execute_result"
    },
    {
     "data": {
      "image/png": "[encoded data removed]",
      "text/plain": [
       "<Figure size 432x288 with 1 Axes>"
      ]
     },
     "metadata": {
      "needs_background": "light"
     },
     "output_type": "display_data"
    }
   ],
   "source": [
    "min_samples_split_list = range(8, 15)\n",
    "train_scores = []\n",
    "val_scores = []\n",
    "for min_samples_split in min_samples_split_list:\n",
    "    rf_clf = RandomForestClassifier(n_estimators=n_esimators, max_depth=max_depth, min_samples_split=min_samples_split, n_jobs=8)\n",
    "    rf_clf.fit(X_train, y_train)\n",
    "    predictions = rf_clf.predict(X_train)\n",
    "    train_scores.append(f1_score(y_train, predictions))\n",
    "    predictions = rf_clf.predict(X_val)\n",
    "    val_scores.append(f1_score(y_val, predictions))\n",
    "plt.plot(min_samples_split_list, train_scores, c='b', )\n",
    "plt.plot(min_samples_split_list, val_scores, c='r')\n",
    "plt.xlabel('Min samples split')"
   ]
  },
  {
   "cell_type": "code",
   "execution_count": 144,
   "metadata": {},
   "outputs": [
    {
     "data": {
      "text/plain": [
       "9"
      ]
     },
     "execution_count": 144,
     "metadata": {},
     "output_type": "execute_result"
    }
   ],
   "source": [
    "min_samples_split = min_samples_split_list[np.argmax(val_scores)]\n",
    "min_samples_split"
   ]
  },
  {
   "cell_type": "code",
   "execution_count": 145,
   "metadata": {},
   "outputs": [
    {
     "data": {
      "text/plain": [
       "Text(0.5, 0, 'Min samples leaf')"
      ]
     },
     "execution_count": 145,
     "metadata": {},
     "output_type": "execute_result"
    },
    {
     "data": {
      "image/png": "[encoded data removed]",
      "text/plain": [
       "<Figure size 432x288 with 1 Axes>"
      ]
     },
     "metadata": {
      "needs_background": "light"
     },
     "output_type": "display_data"
    }
   ],
   "source": [
    "min_samples_leaf_list = range(1,15)\n",
    "train_scores = []\n",
    "val_scores = []\n",
    "for min_samples_leaf in min_samples_leaf_list:\n",
    "    rf_clf = RandomForestClassifier(n_estimators=n_esimators, \n",
    "                                    max_depth=max_depth, \n",
    "                                    min_samples_split=min_samples_split,\n",
    "                                    min_samples_leaf=min_samples_leaf,\n",
    "                                    n_jobs=8)\n",
    "    rf_clf.fit(X_train, y_train)\n",
    "    predictions = rf_clf.predict(X_train)\n",
    "    train_scores.append(f1_score(y_train, predictions))\n",
    "    predictions = rf_clf.predict(X_val)\n",
    "    val_scores.append(f1_score(y_val, predictions))\n",
    "plt.plot(min_samples_leaf_list, train_scores, c='b', )\n",
    "plt.plot(min_samples_leaf_list, val_scores, c='r')\n",
    "plt.xlabel('Min samples leaf')"
   ]
  },
  {
   "cell_type": "code",
   "execution_count": 146,
   "metadata": {},
   "outputs": [
    {
     "data": {
      "text/plain": [
       "1"
      ]
     },
     "execution_count": 146,
     "metadata": {},
     "output_type": "execute_result"
    }
   ],
   "source": [
    "min_samples_leaf = min_samples_leaf_list[np.argmax(val_scores)]\n",
    "min_samples_leaf"
   ]
  },
  {
   "cell_type": "code",
   "execution_count": 148,
   "metadata": {},
   "outputs": [
    {
     "name": "stdout",
     "output_type": "stream",
     "text": [
      "0.8539325842696629\n",
      "[[56860     4]\n",
      " [   22    76]]\n"
     ]
    }
   ],
   "source": [
    "rf_clf = RandomForestClassifier(n_estimators=n_esimators, \n",
    "                                    max_depth=max_depth, \n",
    "                                    min_samples_split=min_samples_split,\n",
    "                                    min_samples_leaf=min_samples_leaf,\n",
    "                                    n_jobs=8,\n",
    "                                    )\n",
    "rf_clf.fit(X_train, y_train)\n",
    "predictions = rf_clf.predict(X_test)\n",
    "print(f1_score(y_test, predictions))\n",
    "print(confusion_matrix(y_test, predictions))"
   ]
  },
  {
   "attachments": {},
   "cell_type": "markdown",
   "metadata": {},
   "source": [
    "## Neural network "
   ]
  },
  {
   "cell_type": "code",
   "execution_count": 12,
   "metadata": {},
   "outputs": [],
   "source": [
    "import tensorflow as tf\n",
    "from tensorflow import keras\n",
    "from tensorflow.keras.layers import Dense, Dropout\n",
    "from tensorflow.keras.models import Sequential"
   ]
  },
  {
   "cell_type": "code",
   "execution_count": 13,
   "metadata": {},
   "outputs": [
    {
     "data": {
      "text/plain": [
       "(5.495683140892829e-06, 0.0031746031746031746)"
      ]
     },
     "execution_count": 13,
     "metadata": {},
     "output_type": "execute_result"
    }
   ],
   "source": [
    "counts = np.bincount(y_train)\n",
    "weight_for_0 = 1.0 / counts[0]\n",
    "weight_for_1 = 1.0 / counts[1]\n",
    "weight_for_0, weight_for_1"
   ]
  },
  {
   "cell_type": "code",
   "execution_count": 14,
   "metadata": {},
   "outputs": [
    {
     "name": "stdout",
     "output_type": "stream",
     "text": [
      "Model: \"sequential\"\n",
      "_________________________________________________________________\n",
      " Layer (type)                Output Shape              Param #   \n",
      "=================================================================\n",
      " dense (Dense)               (None, 256)               7936      \n",
      "                                                                 \n",
      " dense_1 (Dense)             (None, 256)               65792     \n",
      "                                                                 \n",
      " dropout (Dropout)           (None, 256)               0         \n",
      "                                                                 \n",
      " dense_2 (Dense)             (None, 256)               65792     \n",
      "                                                                 \n",
      " dropout_1 (Dropout)         (None, 256)               0         \n",
      "                                                                 \n",
      " dense_3 (Dense)             (None, 1)                 257       \n",
      "                                                                 \n",
      "=================================================================\n",
      "Total params: 139,777\n",
      "Trainable params: 139,777\n",
      "Non-trainable params: 0\n",
      "_________________________________________________________________\n"
     ]
    }
   ],
   "source": [
    "def get_model():\n",
    "    model = keras.Sequential(\n",
    "        [\n",
    "            keras.layers.Dense(\n",
    "                256, activation=\"relu\", input_shape=(X_train.shape[-1],)\n",
    "            ),\n",
    "            keras.layers.Dense(256, activation=\"relu\"),\n",
    "            keras.layers.Dropout(0.3),\n",
    "            keras.layers.Dense(256, activation=\"relu\"),\n",
    "            keras.layers.Dropout(0.3),\n",
    "            keras.layers.Dense(1, activation=\"sigmoid\"),\n",
    "        ]\n",
    "    )\n",
    "    return model\n",
    "\n",
    "model = get_model()\n",
    "model.summary()"
   ]
  },
  {
   "cell_type": "code",
   "execution_count": 15,
   "metadata": {},
   "outputs": [],
   "source": [
    "model = get_model()\n",
    "model.compile(\n",
    "    optimizer=keras.optimizers.Adam(1e-2), \n",
    "    loss=\"binary_crossentropy\", \n",
    "    metrics=[keras.metrics.Precision(), keras.metrics.Recall()]\n",
    ")"
   ]
  },
  {
   "cell_type": "code",
   "execution_count": 16,
   "metadata": {},
   "outputs": [
    {
     "name": "stdout",
     "output_type": "stream",
     "text": [
      "Epoch 1/100\n",
      "90/90 - 4s - loss: 2.8085e-06 - precision: 0.0138 - recall: 0.8889 - val_loss: 0.0721 - val_precision: 0.1895 - val_recall: 0.9114 - 4s/epoch - 40ms/step\n",
      "Epoch 2/100\n",
      "90/90 - 2s - loss: 1.9969e-06 - precision: 0.0426 - recall: 0.9175 - val_loss: 0.1858 - val_precision: 0.0266 - val_recall: 0.9620 - 2s/epoch - 26ms/step\n",
      "Epoch 3/100\n",
      "90/90 - 2s - loss: 2.1452e-06 - precision: 0.0286 - recall: 0.9206 - val_loss: 0.1022 - val_precision: 0.0611 - val_recall: 0.9494 - 2s/epoch - 26ms/step\n",
      "Epoch 4/100\n",
      "90/90 - 2s - loss: 1.4901e-06 - precision: 0.0411 - recall: 0.9429 - val_loss: 0.1504 - val_precision: 0.0447 - val_recall: 0.9494 - 2s/epoch - 26ms/step\n",
      "Epoch 5/100\n",
      "90/90 - 2s - loss: 1.3555e-06 - precision: 0.0424 - recall: 0.9460 - val_loss: 0.0965 - val_precision: 0.0696 - val_recall: 0.9241 - 2s/epoch - 26ms/step\n",
      "Epoch 6/100\n",
      "90/90 - 2s - loss: 1.4360e-06 - precision: 0.0504 - recall: 0.9302 - val_loss: 0.1068 - val_precision: 0.0406 - val_recall: 0.9367 - 2s/epoch - 26ms/step\n",
      "Epoch 7/100\n",
      "90/90 - 2s - loss: 7.8615e-07 - precision: 0.0662 - recall: 0.9683 - val_loss: 0.0746 - val_precision: 0.0526 - val_recall: 0.9114 - 2s/epoch - 25ms/step\n",
      "Epoch 8/100\n",
      "90/90 - 2s - loss: 6.9243e-07 - precision: 0.0629 - recall: 0.9810 - val_loss: 0.0613 - val_precision: 0.0530 - val_recall: 0.9241 - 2s/epoch - 26ms/step\n",
      "Epoch 9/100\n",
      "90/90 - 2s - loss: 6.0744e-07 - precision: 0.0637 - recall: 0.9778 - val_loss: 0.0831 - val_precision: 0.0379 - val_recall: 0.9114 - 2s/epoch - 28ms/step\n",
      "Epoch 10/100\n",
      "90/90 - 2s - loss: 9.1131e-07 - precision: 0.0518 - recall: 0.9714 - val_loss: 0.0947 - val_precision: 0.0400 - val_recall: 0.9241 - 2s/epoch - 27ms/step\n",
      "Epoch 11/100\n",
      "90/90 - 2s - loss: 6.5643e-07 - precision: 0.0587 - recall: 0.9841 - val_loss: 0.0361 - val_precision: 0.1079 - val_recall: 0.8987 - 2s/epoch - 26ms/step\n",
      "Epoch 12/100\n",
      "90/90 - 2s - loss: 9.2879e-07 - precision: 0.0385 - recall: 0.9683 - val_loss: 0.0504 - val_precision: 0.0773 - val_recall: 0.9114 - 2s/epoch - 26ms/step\n",
      "Epoch 13/100\n",
      "90/90 - 2s - loss: 8.0230e-07 - precision: 0.0503 - recall: 0.9778 - val_loss: 0.0974 - val_precision: 0.0408 - val_recall: 0.9241 - 2s/epoch - 25ms/step\n",
      "Epoch 14/100\n",
      "90/90 - 3s - loss: 9.2541e-07 - precision: 0.0437 - recall: 0.9746 - val_loss: 0.0375 - val_precision: 0.1955 - val_recall: 0.8734 - 3s/epoch - 29ms/step\n",
      "Epoch 15/100\n",
      "90/90 - 3s - loss: 7.5076e-07 - precision: 0.0644 - recall: 0.9778 - val_loss: 0.0448 - val_precision: 0.0994 - val_recall: 0.9114 - 3s/epoch - 31ms/step\n",
      "Epoch 16/100\n",
      "90/90 - 3s - loss: 5.4417e-07 - precision: 0.0734 - recall: 0.9873 - val_loss: 0.0464 - val_precision: 0.1009 - val_recall: 0.9494 - 3s/epoch - 29ms/step\n",
      "Epoch 17/100\n",
      "90/90 - 3s - loss: 4.1925e-07 - precision: 0.0928 - recall: 0.9873 - val_loss: 0.0624 - val_precision: 0.0694 - val_recall: 0.9241 - 3s/epoch - 29ms/step\n",
      "Epoch 18/100\n",
      "90/90 - 3s - loss: 3.3663e-07 - precision: 0.1118 - recall: 0.9968 - val_loss: 0.0724 - val_precision: 0.0652 - val_recall: 0.9241 - 3s/epoch - 30ms/step\n",
      "Epoch 19/100\n",
      "90/90 - 3s - loss: 4.7326e-07 - precision: 0.0856 - recall: 0.9937 - val_loss: 0.0409 - val_precision: 0.1004 - val_recall: 0.9114 - 3s/epoch - 34ms/step\n",
      "Epoch 20/100\n",
      "90/90 - 3s - loss: 3.5292e-07 - precision: 0.0930 - recall: 0.9937 - val_loss: 0.0277 - val_precision: 0.1200 - val_recall: 0.9114 - 3s/epoch - 33ms/step\n",
      "Epoch 21/100\n",
      "90/90 - 3s - loss: 3.3770e-07 - precision: 0.1225 - recall: 0.9873 - val_loss: 0.0498 - val_precision: 0.0833 - val_recall: 0.9114 - 3s/epoch - 35ms/step\n",
      "Epoch 22/100\n",
      "90/90 - 3s - loss: 3.3600e-07 - precision: 0.0968 - recall: 0.9968 - val_loss: 0.0360 - val_precision: 0.1003 - val_recall: 0.9241 - 3s/epoch - 33ms/step\n",
      "Epoch 23/100\n",
      "90/90 - 3s - loss: 5.4335e-07 - precision: 0.0831 - recall: 0.9873 - val_loss: 0.1643 - val_precision: 0.0373 - val_recall: 0.9494 - 3s/epoch - 30ms/step\n",
      "Epoch 24/100\n",
      "90/90 - 3s - loss: 9.5961e-07 - precision: 0.0450 - recall: 0.9746 - val_loss: 0.1715 - val_precision: 0.0218 - val_recall: 0.9620 - 3s/epoch - 30ms/step\n",
      "Epoch 25/100\n",
      "90/90 - 3s - loss: 4.8359e-07 - precision: 0.0756 - recall: 1.0000 - val_loss: 0.0350 - val_precision: 0.1248 - val_recall: 0.9114 - 3s/epoch - 35ms/step\n",
      "Epoch 26/100\n",
      "90/90 - 3s - loss: 6.3965e-07 - precision: 0.0755 - recall: 0.9873 - val_loss: 0.0609 - val_precision: 0.0811 - val_recall: 0.9241 - 3s/epoch - 34ms/step\n",
      "Epoch 27/100\n",
      "90/90 - 3s - loss: 4.9564e-07 - precision: 0.0779 - recall: 0.9937 - val_loss: 0.0280 - val_precision: 0.1603 - val_recall: 0.8987 - 3s/epoch - 33ms/step\n",
      "Epoch 28/100\n",
      "90/90 - 3s - loss: 2.0939e-07 - precision: 0.1972 - recall: 0.9937 - val_loss: 0.0253 - val_precision: 0.1880 - val_recall: 0.9114 - 3s/epoch - 37ms/step\n",
      "Epoch 29/100\n",
      "90/90 - 3s - loss: 1.8698e-07 - precision: 0.2122 - recall: 0.9968 - val_loss: 0.0451 - val_precision: 0.1146 - val_recall: 0.9241 - 3s/epoch - 36ms/step\n",
      "Epoch 30/100\n",
      "90/90 - 3s - loss: 3.9248e-07 - precision: 0.1156 - recall: 0.9905 - val_loss: 0.1659 - val_precision: 0.0351 - val_recall: 0.9494 - 3s/epoch - 31ms/step\n",
      "Epoch 31/100\n",
      "90/90 - 3s - loss: 5.8328e-07 - precision: 0.0781 - recall: 0.9905 - val_loss: 0.0335 - val_precision: 0.1040 - val_recall: 0.8987 - 3s/epoch - 31ms/step\n",
      "Epoch 32/100\n",
      "90/90 - 3s - loss: 2.7534e-07 - precision: 0.1266 - recall: 0.9968 - val_loss: 0.0561 - val_precision: 0.0744 - val_recall: 0.9114 - 3s/epoch - 30ms/step\n",
      "Epoch 33/100\n",
      "90/90 - 3s - loss: 3.5946e-07 - precision: 0.0949 - recall: 0.9937 - val_loss: 0.0371 - val_precision: 0.0900 - val_recall: 0.8987 - 3s/epoch - 30ms/step\n",
      "Epoch 34/100\n",
      "90/90 - 3s - loss: 2.5295e-07 - precision: 0.1306 - recall: 1.0000 - val_loss: 0.0251 - val_precision: 0.1695 - val_recall: 0.8987 - 3s/epoch - 37ms/step\n",
      "Epoch 35/100\n",
      "90/90 - 3s - loss: 1.4383e-07 - precision: 0.2284 - recall: 1.0000 - val_loss: 0.0202 - val_precision: 0.2483 - val_recall: 0.8987 - 3s/epoch - 35ms/step\n",
      "Epoch 36/100\n",
      "90/90 - 3s - loss: 1.5047e-07 - precision: 0.2427 - recall: 1.0000 - val_loss: 0.0307 - val_precision: 0.1506 - val_recall: 0.9114 - 3s/epoch - 34ms/step\n",
      "Epoch 37/100\n",
      "90/90 - 3s - loss: 1.7106e-07 - precision: 0.1975 - recall: 1.0000 - val_loss: 0.0201 - val_precision: 0.2130 - val_recall: 0.9114 - 3s/epoch - 33ms/step\n",
      "Epoch 38/100\n",
      "90/90 - 3s - loss: 3.3521e-07 - precision: 0.1257 - recall: 0.9968 - val_loss: 0.0207 - val_precision: 0.1955 - val_recall: 0.8734 - 3s/epoch - 31ms/step\n",
      "Epoch 39/100\n",
      "90/90 - 3s - loss: 5.9800e-07 - precision: 0.0659 - recall: 0.9905 - val_loss: 0.0307 - val_precision: 0.0886 - val_recall: 0.9241 - 3s/epoch - 29ms/step\n",
      "Epoch 40/100\n",
      "90/90 - 3s - loss: 3.3424e-07 - precision: 0.0941 - recall: 0.9968 - val_loss: 0.0328 - val_precision: 0.1143 - val_recall: 0.9114 - 3s/epoch - 31ms/step\n",
      "Epoch 41/100\n",
      "90/90 - 3s - loss: 1.0184e-06 - precision: 0.0696 - recall: 0.9841 - val_loss: 0.3281 - val_precision: 0.0409 - val_recall: 0.9494 - 3s/epoch - 30ms/step\n",
      "Epoch 42/100\n",
      "90/90 - 3s - loss: 1.4076e-06 - precision: 0.0613 - recall: 0.9810 - val_loss: 0.1392 - val_precision: 0.0695 - val_recall: 0.9241 - 3s/epoch - 30ms/step\n",
      "Epoch 43/100\n",
      "90/90 - 3s - loss: 1.0075e-06 - precision: 0.0854 - recall: 0.9841 - val_loss: 0.0654 - val_precision: 0.1197 - val_recall: 0.8987 - 3s/epoch - 30ms/step\n",
      "Epoch 44/100\n",
      "90/90 - 3s - loss: 3.8744e-07 - precision: 0.1245 - recall: 0.9968 - val_loss: 0.0804 - val_precision: 0.0712 - val_recall: 0.9114 - 3s/epoch - 29ms/step\n",
      "Epoch 45/100\n",
      "90/90 - 3s - loss: 7.0599e-07 - precision: 0.1014 - recall: 0.9937 - val_loss: 0.1021 - val_precision: 0.0716 - val_recall: 0.9241 - 3s/epoch - 30ms/step\n",
      "Epoch 46/100\n",
      "90/90 - 3s - loss: 6.3323e-07 - precision: 0.1190 - recall: 0.9905 - val_loss: 0.0962 - val_precision: 0.1596 - val_recall: 0.9114 - 3s/epoch - 30ms/step\n",
      "Epoch 47/100\n",
      "90/90 - 3s - loss: 6.3658e-07 - precision: 0.1165 - recall: 0.9905 - val_loss: 0.0550 - val_precision: 0.1423 - val_recall: 0.8987 - 3s/epoch - 29ms/step\n",
      "Epoch 48/100\n",
      "90/90 - 3s - loss: 1.2789e-06 - precision: 0.0873 - recall: 0.9810 - val_loss: 0.0655 - val_precision: 0.0854 - val_recall: 0.8987 - 3s/epoch - 29ms/step\n",
      "Epoch 49/100\n",
      "90/90 - 3s - loss: 7.7889e-07 - precision: 0.0726 - recall: 0.9778 - val_loss: 0.0363 - val_precision: 0.1396 - val_recall: 0.9241 - 3s/epoch - 32ms/step\n",
      "Epoch 50/100\n",
      "90/90 - 3s - loss: 6.0659e-07 - precision: 0.0827 - recall: 0.9905 - val_loss: 0.0412 - val_precision: 0.1354 - val_recall: 0.9241 - 3s/epoch - 32ms/step\n",
      "Epoch 51/100\n",
      "90/90 - 3s - loss: 4.6122e-07 - precision: 0.1014 - recall: 0.9873 - val_loss: 0.0201 - val_precision: 0.2620 - val_recall: 0.8987 - 3s/epoch - 31ms/step\n",
      "Epoch 52/100\n",
      "90/90 - 3s - loss: 2.0127e-06 - precision: 0.1359 - recall: 0.9905 - val_loss: 0.0427 - val_precision: 0.1538 - val_recall: 0.9367 - 3s/epoch - 32ms/step\n",
      "Epoch 53/100\n",
      "90/90 - 3s - loss: 2.6282e-07 - precision: 0.1676 - recall: 0.9968 - val_loss: 0.0250 - val_precision: 0.1759 - val_recall: 0.8861 - 3s/epoch - 33ms/step\n",
      "Epoch 54/100\n",
      "90/90 - 3s - loss: 2.1867e-07 - precision: 0.1916 - recall: 1.0000 - val_loss: 0.0347 - val_precision: 0.1460 - val_recall: 0.9114 - 3s/epoch - 32ms/step\n",
      "Epoch 55/100\n",
      "90/90 - 3s - loss: 2.6392e-07 - precision: 0.1910 - recall: 1.0000 - val_loss: 0.0261 - val_precision: 0.2500 - val_recall: 0.8987 - 3s/epoch - 33ms/step\n",
      "Epoch 56/100\n",
      "90/90 - 3s - loss: 2.5322e-07 - precision: 0.2109 - recall: 0.9937 - val_loss: 0.0332 - val_precision: 0.1603 - val_recall: 0.8987 - 3s/epoch - 33ms/step\n",
      "Epoch 57/100\n",
      "90/90 - 3s - loss: 1.9156e-07 - precision: 0.2373 - recall: 0.9968 - val_loss: 0.0191 - val_precision: 0.2752 - val_recall: 0.8987 - 3s/epoch - 33ms/step\n",
      "Epoch 58/100\n",
      "90/90 - 3s - loss: 1.2166e-07 - precision: 0.2623 - recall: 1.0000 - val_loss: 0.0183 - val_precision: 0.3013 - val_recall: 0.9114 - 3s/epoch - 31ms/step\n",
      "Epoch 59/100\n",
      "90/90 - 3s - loss: 9.4304e-07 - precision: 0.2834 - recall: 0.9968 - val_loss: 0.0363 - val_precision: 0.3286 - val_recall: 0.8734 - 3s/epoch - 29ms/step\n",
      "Epoch 60/100\n",
      "90/90 - 3s - loss: 4.7001e-07 - precision: 0.1778 - recall: 0.9937 - val_loss: 0.1343 - val_precision: 0.1011 - val_recall: 0.9114 - 3s/epoch - 30ms/step\n",
      "Epoch 61/100\n",
      "90/90 - 3s - loss: 4.3551e-07 - precision: 0.1710 - recall: 0.9968 - val_loss: 0.0179 - val_precision: 0.2093 - val_recall: 0.9114 - 3s/epoch - 31ms/step\n",
      "Epoch 62/100\n",
      "90/90 - 3s - loss: 1.3789e-07 - precision: 0.2732 - recall: 1.0000 - val_loss: 0.0149 - val_precision: 0.3077 - val_recall: 0.9114 - 3s/epoch - 30ms/step\n",
      "Epoch 63/100\n",
      "90/90 - 3s - loss: 1.5051e-07 - precision: 0.3088 - recall: 0.9968 - val_loss: 0.0447 - val_precision: 0.1910 - val_recall: 0.9114 - 3s/epoch - 29ms/step\n",
      "Epoch 64/100\n",
      "90/90 - 3s - loss: 6.9035e-07 - precision: 0.2705 - recall: 0.9968 - val_loss: 0.0528 - val_precision: 0.3864 - val_recall: 0.8608 - 3s/epoch - 29ms/step\n",
      "Epoch 65/100\n",
      "90/90 - 3s - loss: 3.8447e-07 - precision: 0.1682 - recall: 0.9937 - val_loss: 0.0762 - val_precision: 0.0858 - val_recall: 0.9241 - 3s/epoch - 29ms/step\n",
      "Epoch 66/100\n",
      "90/90 - 3s - loss: 1.0749e-06 - precision: 0.1031 - recall: 0.9937 - val_loss: 0.3468 - val_precision: 0.1227 - val_recall: 0.9114 - 3s/epoch - 31ms/step\n",
      "Epoch 67/100\n",
      "90/90 - 3s - loss: 1.3472e-06 - precision: 0.0838 - recall: 0.9810 - val_loss: 0.0800 - val_precision: 0.1093 - val_recall: 0.9114 - 3s/epoch - 30ms/step\n",
      "Epoch 68/100\n",
      "90/90 - 3s - loss: 1.1866e-06 - precision: 0.1024 - recall: 0.9905 - val_loss: 0.1038 - val_precision: 0.1714 - val_recall: 0.9114 - 3s/epoch - 29ms/step\n",
      "Epoch 69/100\n",
      "90/90 - 3s - loss: 4.9632e-07 - precision: 0.1493 - recall: 0.9937 - val_loss: 0.0606 - val_precision: 0.1111 - val_recall: 0.9114 - 3s/epoch - 29ms/step\n",
      "Epoch 70/100\n",
      "90/90 - 3s - loss: 3.0443e-06 - precision: 0.1371 - recall: 0.9873 - val_loss: 0.1233 - val_precision: 0.1786 - val_recall: 0.8861 - 3s/epoch - 30ms/step\n",
      "Epoch 71/100\n",
      "90/90 - 3s - loss: 6.1423e-07 - precision: 0.1047 - recall: 0.9905 - val_loss: 0.0368 - val_precision: 0.1896 - val_recall: 0.8734 - 3s/epoch - 30ms/step\n",
      "Epoch 72/100\n",
      "90/90 - 3s - loss: 1.2498e-06 - precision: 0.0921 - recall: 0.9873 - val_loss: 0.1908 - val_precision: 0.1457 - val_recall: 0.9114 - 3s/epoch - 30ms/step\n",
      "Epoch 73/100\n",
      "90/90 - 3s - loss: 1.7907e-06 - precision: 0.0941 - recall: 0.9810 - val_loss: 0.6933 - val_precision: 0.0648 - val_recall: 0.9241 - 3s/epoch - 29ms/step\n",
      "Epoch 74/100\n",
      "90/90 - 3s - loss: 1.7784e-06 - precision: 0.1196 - recall: 0.9873 - val_loss: 0.1926 - val_precision: 0.0750 - val_recall: 0.9241 - 3s/epoch - 29ms/step\n",
      "Epoch 75/100\n",
      "90/90 - 3s - loss: 2.0103e-06 - precision: 0.0957 - recall: 0.9873 - val_loss: 0.3694 - val_precision: 0.1047 - val_recall: 0.9114 - 3s/epoch - 30ms/step\n",
      "Epoch 76/100\n",
      "90/90 - 3s - loss: 9.8520e-07 - precision: 0.1645 - recall: 0.9968 - val_loss: 0.1263 - val_precision: 0.2290 - val_recall: 0.8987 - 3s/epoch - 29ms/step\n",
      "Epoch 77/100\n",
      "90/90 - 3s - loss: 1.9196e-06 - precision: 0.1660 - recall: 0.9873 - val_loss: 0.1874 - val_precision: 0.3416 - val_recall: 0.8734 - 3s/epoch - 30ms/step\n",
      "Epoch 78/100\n",
      "90/90 - 3s - loss: 1.7953e-06 - precision: 0.1006 - recall: 0.9873 - val_loss: 0.0938 - val_precision: 0.2278 - val_recall: 0.9114 - 3s/epoch - 30ms/step\n",
      "Epoch 79/100\n",
      "90/90 - 3s - loss: 6.0654e-07 - precision: 0.1899 - recall: 0.9937 - val_loss: 0.0260 - val_precision: 0.2034 - val_recall: 0.9114 - 3s/epoch - 29ms/step\n",
      "Epoch 80/100\n",
      "90/90 - 3s - loss: 1.0247e-06 - precision: 0.1652 - recall: 0.9841 - val_loss: 0.0684 - val_precision: 0.2045 - val_recall: 0.9114 - 3s/epoch - 29ms/step\n",
      "Epoch 81/100\n",
      "90/90 - 3s - loss: 4.8954e-07 - precision: 0.1401 - recall: 0.9968 - val_loss: 0.0210 - val_precision: 0.2971 - val_recall: 0.8987 - 3s/epoch - 29ms/step\n",
      "Epoch 82/100\n",
      "90/90 - 3s - loss: 2.5538e-07 - precision: 0.1875 - recall: 0.9937 - val_loss: 0.0236 - val_precision: 0.1818 - val_recall: 0.9114 - 3s/epoch - 30ms/step\n",
      "Epoch 83/100\n",
      "90/90 - 3s - loss: 2.4284e-07 - precision: 0.1927 - recall: 0.9937 - val_loss: 0.0316 - val_precision: 0.1488 - val_recall: 0.9114 - 3s/epoch - 31ms/step\n",
      "Epoch 84/100\n",
      "90/90 - 3s - loss: 2.0248e-07 - precision: 0.2116 - recall: 0.9968 - val_loss: 0.0241 - val_precision: 0.2247 - val_recall: 0.8987 - 3s/epoch - 30ms/step\n",
      "Epoch 85/100\n",
      "90/90 - 3s - loss: 1.5458e-07 - precision: 0.2593 - recall: 0.9968 - val_loss: 0.0277 - val_precision: 0.1919 - val_recall: 0.8987 - 3s/epoch - 30ms/step\n",
      "Epoch 86/100\n",
      "90/90 - 3s - loss: 1.7174e-07 - precision: 0.2364 - recall: 0.9968 - val_loss: 0.0279 - val_precision: 0.2006 - val_recall: 0.9114 - 3s/epoch - 30ms/step\n",
      "Epoch 87/100\n",
      "90/90 - 3s - loss: 1.5761e-07 - precision: 0.2463 - recall: 0.9968 - val_loss: 0.0225 - val_precision: 0.2441 - val_recall: 0.9114 - 3s/epoch - 29ms/step\n",
      "Epoch 88/100\n",
      "90/90 - 3s - loss: 1.2721e-07 - precision: 0.2800 - recall: 1.0000 - val_loss: 0.0175 - val_precision: 0.3445 - val_recall: 0.9114 - 3s/epoch - 30ms/step\n",
      "Epoch 89/100\n",
      "90/90 - 3s - loss: 9.2347e-08 - precision: 0.3987 - recall: 1.0000 - val_loss: 0.0143 - val_precision: 0.3989 - val_recall: 0.8987 - 3s/epoch - 29ms/step\n",
      "Epoch 90/100\n",
      "90/90 - 3s - loss: 1.1389e-07 - precision: 0.3879 - recall: 1.0000 - val_loss: 0.0301 - val_precision: 0.2323 - val_recall: 0.9114 - 3s/epoch - 30ms/step\n",
      "Epoch 91/100\n",
      "90/90 - 3s - loss: 1.3962e-07 - precision: 0.3003 - recall: 1.0000 - val_loss: 0.0225 - val_precision: 0.2553 - val_recall: 0.9114 - 3s/epoch - 29ms/step\n",
      "Epoch 92/100\n",
      "90/90 - 3s - loss: 3.1694e-07 - precision: 0.1870 - recall: 0.9968 - val_loss: 0.0224 - val_precision: 0.2971 - val_recall: 0.8987 - 3s/epoch - 30ms/step\n",
      "Epoch 93/100\n",
      "90/90 - 3s - loss: 2.0148e-07 - precision: 0.2559 - recall: 0.9968 - val_loss: 0.0212 - val_precision: 0.2857 - val_recall: 0.8861 - 3s/epoch - 32ms/step\n",
      "Epoch 94/100\n",
      "90/90 - 3s - loss: 1.5280e-07 - precision: 0.2725 - recall: 1.0000 - val_loss: 0.0221 - val_precision: 0.2649 - val_recall: 0.8987 - 3s/epoch - 31ms/step\n",
      "Epoch 95/100\n",
      "90/90 - 3s - loss: 1.0206e-07 - precision: 0.3621 - recall: 1.0000 - val_loss: 0.0152 - val_precision: 0.4142 - val_recall: 0.8861 - 3s/epoch - 33ms/step\n",
      "Epoch 96/100\n",
      "90/90 - 3s - loss: 1.0273e-07 - precision: 0.4156 - recall: 1.0000 - val_loss: 0.0199 - val_precision: 0.3651 - val_recall: 0.8734 - 3s/epoch - 33ms/step\n",
      "Epoch 97/100\n",
      "90/90 - 3s - loss: 8.0305e-08 - precision: 0.4809 - recall: 1.0000 - val_loss: 0.0141 - val_precision: 0.4395 - val_recall: 0.8734 - 3s/epoch - 35ms/step\n",
      "Epoch 98/100\n",
      "90/90 - 3s - loss: 7.8690e-08 - precision: 0.5312 - recall: 1.0000 - val_loss: 0.0169 - val_precision: 0.4533 - val_recall: 0.8608 - 3s/epoch - 32ms/step\n",
      "Epoch 99/100\n",
      "90/90 - 3s - loss: 8.3723e-08 - precision: 0.5207 - recall: 1.0000 - val_loss: 0.0164 - val_precision: 0.4286 - val_recall: 0.8734 - 3s/epoch - 32ms/step\n",
      "Epoch 100/100\n",
      "90/90 - 3s - loss: 1.7186e-07 - precision: 0.2641 - recall: 0.9968 - val_loss: 0.0166 - val_precision: 0.3736 - val_recall: 0.8608 - 3s/epoch - 32ms/step\n"
     ]
    }
   ],
   "source": [
    "history = model.fit(\n",
    "    X_train,\n",
    "    y_train,\n",
    "    batch_size=2048,\n",
    "    epochs=100,\n",
    "    verbose=2,\n",
    "    validation_data=(X_val, y_val),\n",
    "    class_weight= {0: weight_for_0, 1: weight_for_1},\n",
    ")"
   ]
  },
  {
   "cell_type": "code",
   "execution_count": 17,
   "metadata": {},
   "outputs": [
    {
     "data": {
      "text/plain": [
       "dict_keys(['loss', 'precision', 'recall', 'val_loss', 'val_precision', 'val_recall'])"
      ]
     },
     "execution_count": 17,
     "metadata": {},
     "output_type": "execute_result"
    }
   ],
   "source": [
    "history.history.keys()"
   ]
  },
  {
   "cell_type": "code",
   "execution_count": 24,
   "metadata": {},
   "outputs": [],
   "source": [
    "train_precision = history.history['precision']\n",
    "train_recall = history.history['recall']\n",
    "val_precision = history.history['val_precision']\n",
    "val_recall = history.history['val_recall']"
   ]
  },
  {
   "cell_type": "code",
   "execution_count": 25,
   "metadata": {},
   "outputs": [
    {
     "data": {
      "text/plain": [
       "[<matplotlib.lines.Line2D at 0x27ccc1d5910>]"
      ]
     },
     "execution_count": 25,
     "metadata": {},
     "output_type": "execute_result"
    },
    {
     "data": {
      "image/png": "[encoded data removed]",
      "text/plain": [
       "<Figure size 432x288 with 1 Axes>"
      ]
     },
     "metadata": {
      "needs_background": "light"
     },
     "output_type": "display_data"
    }
   ],
   "source": [
    "plt.plot(range(100), train_precision, c='b')\n",
    "plt.plot(range(100), val_precision, c='r')"
   ]
  },
  {
   "cell_type": "code",
   "execution_count": 26,
   "metadata": {},
   "outputs": [
    {
     "data": {
      "text/plain": [
       "[<matplotlib.lines.Line2D at 0x27ccc299e20>]"
      ]
     },
     "execution_count": 26,
     "metadata": {},
     "output_type": "execute_result"
    },
    {
     "data": {
      "image/png": "[encoded data removed]",
      "text/plain": [
       "<Figure size 432x288 with 1 Axes>"
      ]
     },
     "metadata": {
      "needs_background": "light"
     },
     "output_type": "display_data"
    }
   ],
   "source": [
    "plt.plot(range(100), train_recall, c='b')\n",
    "plt.plot(range(100), val_recall, c='r')"
   ]
  },
  {
   "cell_type": "code",
   "execution_count": 27,
   "metadata": {},
   "outputs": [],
   "source": [
    "def f1(precision, recall):\n",
    "    f1_score = np.zeros(len(precision))\n",
    "    for i in range(len(precision)):\n",
    "        f1_score[i] = 2 * precision[i] * recall[i] / (precision[i] + recall[i])\n",
    "    return f1_score"
   ]
  },
  {
   "cell_type": "code",
   "execution_count": 28,
   "metadata": {},
   "outputs": [
    {
     "data": {
      "text/plain": [
       "[<matplotlib.lines.Line2D at 0x27ccc3139d0>]"
      ]
     },
     "execution_count": 28,
     "metadata": {},
     "output_type": "execute_result"
    },
    {
     "data": {
      "image/png": "[encoded data removed]",
      "text/plain": [
       "<Figure size 432x288 with 1 Axes>"
      ]
     },
     "metadata": {
      "needs_background": "light"
     },
     "output_type": "display_data"
    }
   ],
   "source": [
    "train_f1 = f1(train_precision, train_recall)\n",
    "val_f1 = f1(val_precision, val_recall)\n",
    "plt.plot(range(100), train_f1, c='b')\n",
    "plt.plot(range(100), val_f1, c='r')"
   ]
  },
  {
   "cell_type": "code",
   "execution_count": 29,
   "metadata": {},
   "outputs": [
    {
     "data": {
      "text/plain": [
       "97"
      ]
     },
     "execution_count": 29,
     "metadata": {},
     "output_type": "execute_result"
    }
   ],
   "source": [
    "n_epochs = np.argmax(val_f1)\n",
    "n_epochs"
   ]
  },
  {
   "cell_type": "code",
   "execution_count": 30,
   "metadata": {},
   "outputs": [
    {
     "name": "stdout",
     "output_type": "stream",
     "text": [
      "Epoch 1/97\n",
      "90/90 - 3s - loss: 3.2705e-06 - precision_1: 0.0101 - recall_1: 0.8762 - val_loss: 0.0756 - val_precision_1: 0.1573 - val_recall_1: 0.8861 - 3s/epoch - 38ms/step\n",
      "Epoch 2/97\n",
      "90/90 - 3s - loss: 2.0655e-06 - precision_1: 0.0378 - recall_1: 0.9016 - val_loss: 0.1232 - val_precision_1: 0.0757 - val_recall_1: 0.9114 - 3s/epoch - 28ms/step\n",
      "Epoch 3/97\n",
      "90/90 - 3s - loss: 1.6218e-06 - precision_1: 0.0477 - recall_1: 0.9206 - val_loss: 0.0697 - val_precision_1: 0.1235 - val_recall_1: 0.9241 - 3s/epoch - 28ms/step\n",
      "Epoch 4/97\n",
      "90/90 - 2s - loss: 1.4869e-06 - precision_1: 0.0396 - recall_1: 0.9365 - val_loss: 0.1207 - val_precision_1: 0.0545 - val_recall_1: 0.9494 - 2s/epoch - 27ms/step\n",
      "Epoch 5/97\n",
      "90/90 - 2s - loss: 1.0499e-06 - precision_1: 0.0486 - recall_1: 0.9460 - val_loss: 0.1212 - val_precision_1: 0.0299 - val_recall_1: 0.9367 - 2s/epoch - 27ms/step\n",
      "Epoch 6/97\n",
      "90/90 - 3s - loss: 8.9534e-07 - precision_1: 0.0434 - recall_1: 0.9587 - val_loss: 0.0868 - val_precision_1: 0.0398 - val_recall_1: 0.9367 - 3s/epoch - 28ms/step\n",
      "Epoch 7/97\n",
      "90/90 - 3s - loss: 8.0306e-07 - precision_1: 0.0520 - recall_1: 0.9778 - val_loss: 0.0610 - val_precision_1: 0.0585 - val_recall_1: 0.9114 - 3s/epoch - 31ms/step\n",
      "Epoch 8/97\n",
      "90/90 - 3s - loss: 6.7729e-07 - precision_1: 0.0591 - recall_1: 0.9873 - val_loss: 0.0495 - val_precision_1: 0.0698 - val_recall_1: 0.9114 - 3s/epoch - 35ms/step\n",
      "Epoch 9/97\n",
      "90/90 - 3s - loss: 8.0974e-07 - precision_1: 0.0436 - recall_1: 0.9746 - val_loss: 0.0701 - val_precision_1: 0.0467 - val_recall_1: 0.9241 - 3s/epoch - 33ms/step\n",
      "Epoch 10/97\n",
      "90/90 - 3s - loss: 7.7625e-07 - precision_1: 0.0509 - recall_1: 0.9810 - val_loss: 0.0758 - val_precision_1: 0.0431 - val_recall_1: 0.9367 - 3s/epoch - 30ms/step\n",
      "Epoch 11/97\n",
      "90/90 - 3s - loss: 6.7793e-07 - precision_1: 0.0500 - recall_1: 0.9810 - val_loss: 0.0474 - val_precision_1: 0.0763 - val_recall_1: 0.8734 - 3s/epoch - 28ms/step\n",
      "Epoch 12/97\n",
      "90/90 - 3s - loss: 6.5571e-07 - precision_1: 0.0588 - recall_1: 0.9746 - val_loss: 0.0706 - val_precision_1: 0.0445 - val_recall_1: 0.9367 - 3s/epoch - 29ms/step\n",
      "Epoch 13/97\n",
      "90/90 - 3s - loss: 1.0581e-06 - precision_1: 0.0466 - recall_1: 0.9587 - val_loss: 0.1686 - val_precision_1: 0.0222 - val_recall_1: 0.9494 - 3s/epoch - 28ms/step\n",
      "Epoch 14/97\n",
      "90/90 - 3s - loss: 8.7644e-07 - precision_1: 0.0442 - recall_1: 0.9810 - val_loss: 0.0698 - val_precision_1: 0.0593 - val_recall_1: 0.9241 - 3s/epoch - 29ms/step\n",
      "Epoch 15/97\n",
      "90/90 - 3s - loss: 5.2997e-07 - precision_1: 0.0823 - recall_1: 0.9778 - val_loss: 0.0613 - val_precision_1: 0.0600 - val_recall_1: 0.9241 - 3s/epoch - 28ms/step\n",
      "Epoch 16/97\n",
      "90/90 - 3s - loss: 6.9024e-07 - precision_1: 0.0715 - recall_1: 0.9873 - val_loss: 0.0679 - val_precision_1: 0.1243 - val_recall_1: 0.8987 - 3s/epoch - 30ms/step\n",
      "Epoch 17/97\n",
      "90/90 - 3s - loss: 4.4125e-07 - precision_1: 0.1060 - recall_1: 0.9905 - val_loss: 0.0357 - val_precision_1: 0.1127 - val_recall_1: 0.8861 - 3s/epoch - 29ms/step\n",
      "Epoch 18/97\n",
      "90/90 - 3s - loss: 4.0785e-07 - precision_1: 0.0981 - recall_1: 0.9937 - val_loss: 0.0618 - val_precision_1: 0.0611 - val_recall_1: 0.9241 - 3s/epoch - 31ms/step\n",
      "Epoch 19/97\n",
      "90/90 - 3s - loss: 4.1078e-06 - precision_1: 0.0657 - recall_1: 0.9714 - val_loss: 0.3117 - val_precision_1: 0.1409 - val_recall_1: 0.8987 - 3s/epoch - 30ms/step\n",
      "Epoch 20/97\n",
      "90/90 - 3s - loss: 8.1334e-06 - precision_1: 0.0299 - recall_1: 0.9270 - val_loss: 0.3716 - val_precision_1: 0.0287 - val_recall_1: 0.9494 - 3s/epoch - 34ms/step\n",
      "Epoch 21/97\n",
      "90/90 - 3s - loss: 3.0045e-06 - precision_1: 0.0420 - recall_1: 0.9619 - val_loss: 0.6545 - val_precision_1: 0.2500 - val_recall_1: 0.8734 - 3s/epoch - 33ms/step\n",
      "Epoch 22/97\n",
      "90/90 - 3s - loss: 2.0751e-06 - precision_1: 0.0743 - recall_1: 0.9810 - val_loss: 0.1391 - val_precision_1: 0.2481 - val_recall_1: 0.8481 - 3s/epoch - 35ms/step\n",
      "Epoch 23/97\n",
      "90/90 - 3s - loss: 2.6338e-06 - precision_1: 0.0716 - recall_1: 0.9619 - val_loss: 0.1902 - val_precision_1: 0.0372 - val_recall_1: 0.9114 - 3s/epoch - 31ms/step\n",
      "Epoch 24/97\n",
      "90/90 - 3s - loss: 1.4574e-06 - precision_1: 0.0567 - recall_1: 0.9810 - val_loss: 0.2679 - val_precision_1: 0.0776 - val_recall_1: 0.9241 - 3s/epoch - 31ms/step\n",
      "Epoch 25/97\n",
      "90/90 - 3s - loss: 3.3727e-06 - precision_1: 0.0523 - recall_1: 0.9746 - val_loss: 0.5267 - val_precision_1: 0.0913 - val_recall_1: 0.8734 - 3s/epoch - 31ms/step\n",
      "Epoch 26/97\n",
      "90/90 - 3s - loss: 1.7575e-06 - precision_1: 0.0958 - recall_1: 0.9651 - val_loss: 0.1993 - val_precision_1: 0.1075 - val_recall_1: 0.9241 - 3s/epoch - 33ms/step\n",
      "Epoch 27/97\n",
      "90/90 - 3s - loss: 1.2872e-06 - precision_1: 0.0938 - recall_1: 0.9841 - val_loss: 0.2090 - val_precision_1: 0.1264 - val_recall_1: 0.8861 - 3s/epoch - 31ms/step\n",
      "Epoch 28/97\n",
      "90/90 - 3s - loss: 1.9475e-06 - precision_1: 0.1231 - recall_1: 0.9841 - val_loss: 0.3189 - val_precision_1: 0.1365 - val_recall_1: 0.8608 - 3s/epoch - 34ms/step\n",
      "Epoch 29/97\n",
      "90/90 - 3s - loss: 1.9748e-06 - precision_1: 0.1293 - recall_1: 0.9968 - val_loss: 0.3900 - val_precision_1: 0.2343 - val_recall_1: 0.8481 - 3s/epoch - 35ms/step\n",
      "Epoch 30/97\n",
      "90/90 - 3s - loss: 1.5383e-06 - precision_1: 0.1500 - recall_1: 0.9841 - val_loss: 0.5429 - val_precision_1: 0.0737 - val_recall_1: 0.9241 - 3s/epoch - 32ms/step\n",
      "Epoch 31/97\n",
      "90/90 - 3s - loss: 1.7394e-06 - precision_1: 0.1044 - recall_1: 0.9873 - val_loss: 0.1540 - val_precision_1: 0.0828 - val_recall_1: 0.9114 - 3s/epoch - 30ms/step\n",
      "Epoch 32/97\n",
      "90/90 - 3s - loss: 8.8718e-07 - precision_1: 0.1179 - recall_1: 0.9905 - val_loss: 0.0710 - val_precision_1: 0.0764 - val_recall_1: 0.9241 - 3s/epoch - 30ms/step\n",
      "Epoch 33/97\n",
      "90/90 - 3s - loss: 4.4693e-07 - precision_1: 0.1075 - recall_1: 0.9905 - val_loss: 0.0560 - val_precision_1: 0.0906 - val_recall_1: 0.9114 - 3s/epoch - 30ms/step\n",
      "Epoch 34/97\n",
      "90/90 - 3s - loss: 1.2461e-06 - precision_1: 0.1402 - recall_1: 0.9937 - val_loss: 0.0815 - val_precision_1: 0.1873 - val_recall_1: 0.8987 - 3s/epoch - 30ms/step\n",
      "Epoch 35/97\n",
      "90/90 - 3s - loss: 4.2306e-07 - precision_1: 0.1744 - recall_1: 0.9937 - val_loss: 0.0438 - val_precision_1: 0.1452 - val_recall_1: 0.8861 - 3s/epoch - 31ms/step\n",
      "Epoch 36/97\n",
      "90/90 - 3s - loss: 5.3231e-07 - precision_1: 0.1068 - recall_1: 0.9873 - val_loss: 0.0484 - val_precision_1: 0.0821 - val_recall_1: 0.9114 - 3s/epoch - 31ms/step\n",
      "Epoch 37/97\n",
      "90/90 - 3s - loss: 2.9527e-07 - precision_1: 0.1321 - recall_1: 0.9905 - val_loss: 0.0404 - val_precision_1: 0.1059 - val_recall_1: 0.9114 - 3s/epoch - 30ms/step\n",
      "Epoch 38/97\n",
      "90/90 - 3s - loss: 3.0300e-07 - precision_1: 0.1327 - recall_1: 0.9968 - val_loss: 0.0335 - val_precision_1: 0.1183 - val_recall_1: 0.8987 - 3s/epoch - 30ms/step\n",
      "Epoch 39/97\n",
      "90/90 - 3s - loss: 2.9659e-07 - precision_1: 0.1623 - recall_1: 0.9937 - val_loss: 0.1030 - val_precision_1: 0.1254 - val_recall_1: 0.9114 - 3s/epoch - 30ms/step\n",
      "Epoch 40/97\n",
      "90/90 - 3s - loss: 1.1829e-06 - precision_1: 0.1438 - recall_1: 0.9905 - val_loss: 0.0370 - val_precision_1: 0.2110 - val_recall_1: 0.8734 - 3s/epoch - 30ms/step\n",
      "Epoch 41/97\n",
      "90/90 - 3s - loss: 6.2910e-07 - precision_1: 0.1304 - recall_1: 0.9937 - val_loss: 0.0268 - val_precision_1: 0.1873 - val_recall_1: 0.8987 - 3s/epoch - 29ms/step\n",
      "Epoch 42/97\n",
      "90/90 - 3s - loss: 6.4804e-07 - precision_1: 0.1304 - recall_1: 0.9905 - val_loss: 0.0802 - val_precision_1: 0.0831 - val_recall_1: 0.8987 - 3s/epoch - 30ms/step\n",
      "Epoch 43/97\n",
      "90/90 - 3s - loss: 9.9850e-07 - precision_1: 0.1649 - recall_1: 0.9905 - val_loss: 0.1168 - val_precision_1: 0.1495 - val_recall_1: 0.8987 - 3s/epoch - 31ms/step\n",
      "Epoch 44/97\n",
      "90/90 - 3s - loss: 4.8101e-07 - precision_1: 0.1608 - recall_1: 0.9968 - val_loss: 0.0389 - val_precision_1: 0.1816 - val_recall_1: 0.8734 - 3s/epoch - 30ms/step\n",
      "Epoch 45/97\n",
      "90/90 - 3s - loss: 3.5241e-07 - precision_1: 0.2067 - recall_1: 0.9937 - val_loss: 0.1270 - val_precision_1: 0.0674 - val_recall_1: 0.9114 - 3s/epoch - 31ms/step\n",
      "Epoch 46/97\n",
      "90/90 - 3s - loss: 3.5550e-07 - precision_1: 0.1491 - recall_1: 0.9968 - val_loss: 0.0540 - val_precision_1: 0.1093 - val_recall_1: 0.9114 - 3s/epoch - 30ms/step\n",
      "Epoch 47/97\n",
      "90/90 - 3s - loss: 2.7526e-07 - precision_1: 0.1512 - recall_1: 1.0000 - val_loss: 0.0215 - val_precision_1: 0.2593 - val_recall_1: 0.8861 - 3s/epoch - 30ms/step\n",
      "Epoch 48/97\n",
      "90/90 - 3s - loss: 2.5514e-07 - precision_1: 0.1714 - recall_1: 0.9968 - val_loss: 0.0299 - val_precision_1: 0.1622 - val_recall_1: 0.9241 - 3s/epoch - 32ms/step\n",
      "Epoch 49/97\n",
      "90/90 - 3s - loss: 1.6862e-07 - precision_1: 0.2336 - recall_1: 0.9968 - val_loss: 0.0266 - val_precision_1: 0.1736 - val_recall_1: 0.8987 - 3s/epoch - 32ms/step\n",
      "Epoch 50/97\n",
      "90/90 - 3s - loss: 1.8768e-07 - precision_1: 0.1941 - recall_1: 1.0000 - val_loss: 0.0318 - val_precision_1: 0.1628 - val_recall_1: 0.8987 - 3s/epoch - 31ms/step\n",
      "Epoch 51/97\n",
      "90/90 - 3s - loss: 1.1137e-06 - precision_1: 0.1533 - recall_1: 0.9937 - val_loss: 0.0646 - val_precision_1: 0.2695 - val_recall_1: 0.8734 - 3s/epoch - 30ms/step\n",
      "Epoch 52/97\n",
      "90/90 - 3s - loss: 3.1800e-06 - precision_1: 0.0828 - recall_1: 0.9841 - val_loss: 0.2416 - val_precision_1: 0.1188 - val_recall_1: 0.9114 - 3s/epoch - 30ms/step\n",
      "Epoch 53/97\n",
      "90/90 - 3s - loss: 1.3087e-06 - precision_1: 0.1084 - recall_1: 0.9841 - val_loss: 0.2705 - val_precision_1: 0.2373 - val_recall_1: 0.8861 - 3s/epoch - 30ms/step\n",
      "Epoch 54/97\n",
      "90/90 - 3s - loss: 8.7525e-07 - precision_1: 0.1429 - recall_1: 0.9873 - val_loss: 0.0974 - val_precision_1: 0.1524 - val_recall_1: 0.8987 - 3s/epoch - 31ms/step\n",
      "Epoch 55/97\n",
      "90/90 - 3s - loss: 6.9535e-07 - precision_1: 0.1468 - recall_1: 0.9905 - val_loss: 0.2640 - val_precision_1: 0.2811 - val_recall_1: 0.8861 - 3s/epoch - 33ms/step\n",
      "Epoch 56/97\n",
      "90/90 - 3s - loss: 6.3965e-07 - precision_1: 0.2105 - recall_1: 0.9937 - val_loss: 0.0618 - val_precision_1: 0.2784 - val_recall_1: 0.8987 - 3s/epoch - 35ms/step\n",
      "Epoch 57/97\n",
      "90/90 - 3s - loss: 2.6131e-07 - precision_1: 0.3131 - recall_1: 1.0000 - val_loss: 0.0283 - val_precision_1: 0.2652 - val_recall_1: 0.8861 - 3s/epoch - 32ms/step\n",
      "Epoch 58/97\n",
      "90/90 - 3s - loss: 2.2404e-07 - precision_1: 0.2963 - recall_1: 1.0000 - val_loss: 0.0368 - val_precision_1: 0.3943 - val_recall_1: 0.8734 - 3s/epoch - 38ms/step\n",
      "Epoch 59/97\n",
      "90/90 - 3s - loss: 1.5891e-07 - precision_1: 0.4223 - recall_1: 1.0000 - val_loss: 0.0241 - val_precision_1: 0.3988 - val_recall_1: 0.8734 - 3s/epoch - 38ms/step\n",
      "Epoch 60/97\n",
      "90/90 - 3s - loss: 1.4514e-07 - precision_1: 0.4013 - recall_1: 1.0000 - val_loss: 0.0182 - val_precision_1: 0.3933 - val_recall_1: 0.8861 - 3s/epoch - 34ms/step\n",
      "Epoch 61/97\n",
      "90/90 - 3s - loss: 1.0685e-07 - precision_1: 0.4481 - recall_1: 1.0000 - val_loss: 0.0140 - val_precision_1: 0.5000 - val_recall_1: 0.8734 - 3s/epoch - 32ms/step\n",
      "Epoch 62/97\n",
      "90/90 - 3s - loss: 4.7247e-07 - precision_1: 0.3917 - recall_1: 0.9937 - val_loss: 0.0602 - val_precision_1: 0.3717 - val_recall_1: 0.8987 - 3s/epoch - 30ms/step\n",
      "Epoch 63/97\n",
      "90/90 - 3s - loss: 2.0102e-07 - precision_1: 0.4215 - recall_1: 0.9968 - val_loss: 0.0446 - val_precision_1: 0.2099 - val_recall_1: 0.8608 - 3s/epoch - 31ms/step\n",
      "Epoch 64/97\n",
      "90/90 - 3s - loss: 6.5201e-07 - precision_1: 0.1709 - recall_1: 0.9937 - val_loss: 0.0685 - val_precision_1: 0.3060 - val_recall_1: 0.8987 - 3s/epoch - 30ms/step\n",
      "Epoch 65/97\n",
      "90/90 - 3s - loss: 2.9514e-07 - precision_1: 0.3013 - recall_1: 0.9968 - val_loss: 0.0436 - val_precision_1: 0.1534 - val_recall_1: 0.9241 - 3s/epoch - 30ms/step\n",
      "Epoch 66/97\n",
      "90/90 - 3s - loss: 1.7015e-07 - precision_1: 0.2555 - recall_1: 1.0000 - val_loss: 0.0220 - val_precision_1: 0.3255 - val_recall_1: 0.8734 - 3s/epoch - 30ms/step\n",
      "Epoch 67/97\n",
      "90/90 - 3s - loss: 1.4316e-07 - precision_1: 0.3362 - recall_1: 0.9968 - val_loss: 0.0134 - val_precision_1: 0.3167 - val_recall_1: 0.8861 - 3s/epoch - 30ms/step\n",
      "Epoch 68/97\n",
      "90/90 - 3s - loss: 1.5266e-07 - precision_1: 0.3650 - recall_1: 1.0000 - val_loss: 0.0193 - val_precision_1: 0.3134 - val_recall_1: 0.8608 - 3s/epoch - 30ms/step\n",
      "Epoch 69/97\n",
      "90/90 - 3s - loss: 1.7655e-07 - precision_1: 0.2766 - recall_1: 1.0000 - val_loss: 0.0194 - val_precision_1: 0.2778 - val_recall_1: 0.8861 - 3s/epoch - 32ms/step\n",
      "Epoch 70/97\n",
      "90/90 - 3s - loss: 1.0848e-07 - precision_1: 0.3520 - recall_1: 1.0000 - val_loss: 0.0164 - val_precision_1: 0.3867 - val_recall_1: 0.8861 - 3s/epoch - 30ms/step\n",
      "Epoch 71/97\n",
      "90/90 - 3s - loss: 8.4573e-08 - precision_1: 0.4674 - recall_1: 1.0000 - val_loss: 0.0135 - val_precision_1: 0.4795 - val_recall_1: 0.8861 - 3s/epoch - 30ms/step\n",
      "Epoch 72/97\n",
      "90/90 - 3s - loss: 9.8657e-08 - precision_1: 0.4240 - recall_1: 1.0000 - val_loss: 0.0161 - val_precision_1: 0.3867 - val_recall_1: 0.8861 - 3s/epoch - 32ms/step\n",
      "Epoch 73/97\n",
      "90/90 - 3s - loss: 7.5429e-08 - precision_1: 0.4831 - recall_1: 1.0000 - val_loss: 0.0131 - val_precision_1: 0.4481 - val_recall_1: 0.8734 - 3s/epoch - 35ms/step\n",
      "Epoch 74/97\n",
      "90/90 - 3s - loss: 7.4308e-08 - precision_1: 0.5114 - recall_1: 1.0000 - val_loss: 0.0125 - val_precision_1: 0.4722 - val_recall_1: 0.8608 - 3s/epoch - 37ms/step\n",
      "Epoch 75/97\n",
      "90/90 - 3s - loss: 1.1546e-07 - precision_1: 0.3804 - recall_1: 1.0000 - val_loss: 0.0151 - val_precision_1: 0.4340 - val_recall_1: 0.8734 - 3s/epoch - 37ms/step\n",
      "Epoch 76/97\n",
      "90/90 - 4s - loss: 7.4491e-08 - precision_1: 0.4773 - recall_1: 1.0000 - val_loss: 0.0168 - val_precision_1: 0.4294 - val_recall_1: 0.8861 - 4s/epoch - 39ms/step\n",
      "Epoch 77/97\n",
      "90/90 - 3s - loss: 1.0103e-07 - precision_1: 0.4067 - recall_1: 0.9968 - val_loss: 0.0576 - val_precision_1: 0.1042 - val_recall_1: 0.8861 - 3s/epoch - 38ms/step\n",
      "Epoch 78/97\n",
      "90/90 - 3s - loss: 1.1974e-07 - precision_1: 0.2833 - recall_1: 1.0000 - val_loss: 0.0189 - val_precision_1: 0.3812 - val_recall_1: 0.8734 - 3s/epoch - 35ms/step\n",
      "Epoch 79/97\n",
      "90/90 - 3s - loss: 9.5194e-08 - precision_1: 0.3271 - recall_1: 1.0000 - val_loss: 0.0161 - val_precision_1: 0.3931 - val_recall_1: 0.8608 - 3s/epoch - 35ms/step\n",
      "Epoch 80/97\n",
      "90/90 - 3s - loss: 9.2966e-08 - precision_1: 0.3600 - recall_1: 1.0000 - val_loss: 0.0165 - val_precision_1: 0.3886 - val_recall_1: 0.8608 - 3s/epoch - 31ms/step\n",
      "Epoch 81/97\n",
      "90/90 - 3s - loss: 6.5932e-08 - precision_1: 0.4824 - recall_1: 1.0000 - val_loss: 0.0153 - val_precision_1: 0.4351 - val_recall_1: 0.8481 - 3s/epoch - 32ms/step\n",
      "Epoch 82/97\n",
      "90/90 - 3s - loss: 7.3660e-08 - precision_1: 0.4914 - recall_1: 1.0000 - val_loss: 0.0176 - val_precision_1: 0.3505 - val_recall_1: 0.8608 - 3s/epoch - 31ms/step\n",
      "Epoch 83/97\n",
      "90/90 - 3s - loss: 2.0154e-07 - precision_1: 0.2645 - recall_1: 0.9968 - val_loss: 0.0184 - val_precision_1: 0.2822 - val_recall_1: 0.8608 - 3s/epoch - 31ms/step\n",
      "Epoch 84/97\n",
      "90/90 - 3s - loss: 1.1006e-07 - precision_1: 0.3231 - recall_1: 1.0000 - val_loss: 0.0216 - val_precision_1: 0.2546 - val_recall_1: 0.8734 - 3s/epoch - 30ms/step\n",
      "Epoch 85/97\n",
      "90/90 - 3s - loss: 7.4985e-08 - precision_1: 0.3800 - recall_1: 1.0000 - val_loss: 0.0151 - val_precision_1: 0.4304 - val_recall_1: 0.8608 - 3s/epoch - 32ms/step\n",
      "Epoch 86/97\n",
      "90/90 - 3s - loss: 2.8525e-07 - precision_1: 0.2054 - recall_1: 0.9937 - val_loss: 0.0552 - val_precision_1: 0.1184 - val_recall_1: 0.8481 - 3s/epoch - 30ms/step\n",
      "Epoch 87/97\n",
      "90/90 - 3s - loss: 3.6628e-07 - precision_1: 0.1158 - recall_1: 0.9937 - val_loss: 0.0312 - val_precision_1: 0.1286 - val_recall_1: 0.8987 - 3s/epoch - 30ms/step\n",
      "Epoch 88/97\n",
      "90/90 - 3s - loss: 2.9697e-07 - precision_1: 0.1385 - recall_1: 0.9937 - val_loss: 0.0278 - val_precision_1: 0.1338 - val_recall_1: 0.9114 - 3s/epoch - 31ms/step\n",
      "Epoch 89/97\n",
      "90/90 - 3s - loss: 1.7386e-07 - precision_1: 0.2006 - recall_1: 0.9968 - val_loss: 0.0620 - val_precision_1: 0.0846 - val_recall_1: 0.8861 - 3s/epoch - 31ms/step\n",
      "Epoch 90/97\n",
      "90/90 - 3s - loss: 1.8451e-07 - precision_1: 0.1763 - recall_1: 1.0000 - val_loss: 0.0227 - val_precision_1: 0.2811 - val_recall_1: 0.8861 - 3s/epoch - 33ms/step\n",
      "Epoch 91/97\n",
      "90/90 - 3s - loss: 1.0397e-07 - precision_1: 0.3214 - recall_1: 1.0000 - val_loss: 0.0242 - val_precision_1: 0.2692 - val_recall_1: 0.8861 - 3s/epoch - 31ms/step\n",
      "Epoch 92/97\n",
      "90/90 - 3s - loss: 1.3538e-07 - precision_1: 0.2459 - recall_1: 0.9968 - val_loss: 0.0177 - val_precision_1: 0.3608 - val_recall_1: 0.8861 - 3s/epoch - 31ms/step\n",
      "Epoch 93/97\n",
      "90/90 - 3s - loss: 8.0996e-08 - precision_1: 0.4086 - recall_1: 1.0000 - val_loss: 0.0156 - val_precision_1: 0.3876 - val_recall_1: 0.8734 - 3s/epoch - 32ms/step\n",
      "Epoch 94/97\n",
      "90/90 - 3s - loss: 7.4579e-08 - precision_1: 0.4572 - recall_1: 1.0000 - val_loss: 0.0153 - val_precision_1: 0.4481 - val_recall_1: 0.8734 - 3s/epoch - 31ms/step\n",
      "Epoch 95/97\n",
      "90/90 - 3s - loss: 5.6236e-08 - precision_1: 0.5189 - recall_1: 1.0000 - val_loss: 0.0170 - val_precision_1: 0.4395 - val_recall_1: 0.8734 - 3s/epoch - 33ms/step\n",
      "Epoch 96/97\n",
      "90/90 - 3s - loss: 5.4427e-08 - precision_1: 0.5686 - recall_1: 1.0000 - val_loss: 0.0188 - val_precision_1: 0.4759 - val_recall_1: 0.8734 - 3s/epoch - 31ms/step\n",
      "Epoch 97/97\n",
      "90/90 - 3s - loss: 5.4296e-08 - precision_1: 0.5645 - recall_1: 1.0000 - val_loss: 0.0148 - val_precision_1: 0.5349 - val_recall_1: 0.8734 - 3s/epoch - 32ms/step\n"
     ]
    }
   ],
   "source": [
    "model = get_model()\n",
    "model.compile(\n",
    "    optimizer=keras.optimizers.Adam(1e-2), \n",
    "    loss=\"binary_crossentropy\", \n",
    "    metrics=[keras.metrics.Precision(), keras.metrics.Recall()]\n",
    ")\n",
    "\n",
    "history = model.fit(\n",
    "    X_train,\n",
    "    y_train,\n",
    "    batch_size=2048,\n",
    "    epochs=n_epochs,\n",
    "    verbose=2,\n",
    "    validation_data=(X_val, y_val),\n",
    "    class_weight= {0: weight_for_0, 1: weight_for_1},\n",
    ")\n"
   ]
  },
  {
   "cell_type": "code",
   "execution_count": 31,
   "metadata": {},
   "outputs": [],
   "source": [
    "predictions_proba = model.predict(X_test)\n",
    "predictions = np.where(predictions_proba > 0.5, 1,0)"
   ]
  },
  {
   "cell_type": "code",
   "execution_count": 34,
   "metadata": {},
   "outputs": [
    {
     "name": "stdout",
     "output_type": "stream",
     "text": [
      "0.7148936170212766\n",
      "[[56811    53]\n",
      " [   14    84]]\n"
     ]
    }
   ],
   "source": [
    "print(f1_score(y_test, predictions))\n",
    "print(confusion_matrix(y_test, predictions))"
   ]
  },
  {
   "attachments": {},
   "cell_type": "markdown",
   "metadata": {},
   "source": [
    "### NN tuning"
   ]
  },
  {
   "cell_type": "code",
   "execution_count": 71,
   "metadata": {},
   "outputs": [],
   "source": [
    "import keras_tuner as kt"
   ]
  },
  {
   "cell_type": "code",
   "execution_count": 90,
   "metadata": {},
   "outputs": [],
   "source": [
    "def model_builder(hp):\n",
    "    model = keras.Sequential()\n",
    "    \n",
    "    hp_units = hp.Int('units', min_value=32, max_value=512, step=32)\n",
    "    hp_dropout = hp.Float('dropout', 0, 0.5, step=0.1)\n",
    "    \n",
    "    model.add(keras.Input(shape=X_train.shape[-1]))\n",
    "    \n",
    "    model.add(keras.layers.Dense(units=hp_units, activation='relu'))\n",
    "    model.add(keras.layers.Dropout(hp_dropout))\n",
    "\n",
    "    model.add(keras.layers.Dense(units=hp_units, activation='relu'))\n",
    "    model.add(keras.layers.Dropout(hp_dropout))\n",
    "\n",
    "    model.add(keras.layers.Dense(1, activation=\"sigmoid\"))\n",
    "  \n",
    "    hp_learning_rate = hp.Choice('learning_rate', values=[1e-2, 1e-3, 1e-4])\n",
    "\n",
    "    model.compile(optimizer=keras.optimizers.Adam(learning_rate=hp_learning_rate),\n",
    "                loss='binary_crossentropy',\n",
    "                metrics=[keras.metrics.Precision(), keras.metrics.Recall()])\n",
    "\n",
    "    return model"
   ]
  },
  {
   "cell_type": "code",
   "execution_count": 95,
   "metadata": {},
   "outputs": [
    {
     "name": "stdout",
     "output_type": "stream",
     "text": [
      "INFO:tensorflow:Reloading Tuner from .\\untitled_project\\tuner0.json\n"
     ]
    }
   ],
   "source": [
    "tuner = kt.Hyperband(model_builder,\n",
    "                     objective=kt.Objective(\"val_loss\", direction=\"min\"),\n",
    "                     max_epochs=100,\n",
    "                     factor=3)"
   ]
  },
  {
   "cell_type": "code",
   "execution_count": 96,
   "metadata": {},
   "outputs": [
    {
     "name": "stdout",
     "output_type": "stream",
     "text": [
      "Trial 254 Complete [00h 29m 04s]\n",
      "val_loss: 0.6240214705467224\n",
      "\n",
      "Best val_loss So Far: 0.0038217203691601753\n",
      "Total elapsed time: 1d 01h 55m 25s\n",
      "INFO:tensorflow:Oracle triggered exit\n"
     ]
    }
   ],
   "source": [
    "tuner.search(X_train, y_train, epochs=100, validation_data=(X_val, y_val), class_weight= {0: weight_for_0, 1: weight_for_1})"
   ]
  },
  {
   "cell_type": "code",
   "execution_count": 97,
   "metadata": {},
   "outputs": [
    {
     "name": "stdout",
     "output_type": "stream",
     "text": [
      "WARNING:tensorflow:Inconsistent references when loading the checkpoint into this object graph. For example, in the saved checkpoint object, `model.layer.weight` and `model.layer_copy.weight` reference the same variable, while in the current object these are two different variables. The referenced variables are:(<keras.layers.core.dense.Dense object at 0x0000027C81048B80> and <keras.layers.core.dropout.Dropout object at 0x0000027C820B54C0>).\n",
      "WARNING:tensorflow:Inconsistent references when loading the checkpoint into this object graph. For example, in the saved checkpoint object, `model.layer.weight` and `model.layer_copy.weight` reference the same variable, while in the current object these are two different variables. The referenced variables are:(<keras.layers.core.dense.Dense object at 0x0000027C8102EA30> and <keras.layers.core.dense.Dense object at 0x0000027C81048B80>).\n"
     ]
    }
   ],
   "source": [
    "best_model = tuner.get_best_models()[0]"
   ]
  },
  {
   "cell_type": "code",
   "execution_count": 98,
   "metadata": {},
   "outputs": [],
   "source": [
    "predictions_proba = best_model.predict(X_test)\n",
    "predictions = np.where(predictions_proba > 0.5, 1,0)"
   ]
  },
  {
   "cell_type": "code",
   "execution_count": 99,
   "metadata": {},
   "outputs": [
    {
     "name": "stdout",
     "output_type": "stream",
     "text": [
      "0.7912087912087913\n",
      "[[56852    12]\n",
      " [   26    72]]\n"
     ]
    }
   ],
   "source": [
    "print(f1_score(y_test, predictions))\n",
    "print(confusion_matrix(y_test, predictions))"
   ]
  },
  {
   "cell_type": "code",
   "execution_count": null,
   "metadata": {},
   "outputs": [],
   "source": []
  }
 ],
 "metadata": {
  "kernelspec": {
   "display_name": "Python 3",
   "language": "python",
   "name": "python3"
  },
  "language_info": {
   "codemirror_mode": {
    "name": "ipython",
    "version": 3
   },
   "file_extension": ".py",
   "mimetype": "text/x-python",
   "name": "python",
   "nbconvert_exporter": "python",
   "pygments_lexer": "ipython3",
   "version": "3.9.12"
  },
  "orig_nbformat": 4,
  "vscode": {
   "interpreter": {
    "hash": "f2380559e0af56354262e1ca2c8f5b32ce2177e49ec12a71b1ae01e5d359f27f"
   }
  }
 },
 "nbformat": 4,
 "nbformat_minor": 2
}
