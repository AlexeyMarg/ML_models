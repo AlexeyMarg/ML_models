{
 "cells": [
  {
   "cell_type": "markdown",
   "metadata": {},
   "source": [
    "# Несколько классов и несколько выходов\n",
    "\n",
    "Виды задач:\n",
    "\n",
    "- Multiclass classification: число объектов 1, число классов на выходе>2\n",
    "- Multilabel classification: число объектов >1, число классов 2 (0 или 1)\n",
    "- Multiclass-multioutput classification: число объектов >1, число классов на выходе>2\n",
    "- Multioutput regression: число объектов >1, вектор непрерывных величин"
   ]
  },
  {
   "cell_type": "markdown",
   "metadata": {},
   "source": [
    "## Встроенная поддержка мультиклассов:\n",
    "\n",
    "- Inherently multiclass:\n",
    "\n",
    "    - naive_bayes.BernoulliNB\n",
    "    - tree.DecisionTreeClassifier\n",
    "    - tree.ExtraTreeClassifier\n",
    "    - ensemble.ExtraTreesClassifier\n",
    "    - naive_bayes.GaussianNB\n",
    "    - neighbors.KNeighborsClassifier\n",
    "    - semi_supervised.LabelPropagation\n",
    "    - semi_supervised.LabelSpreading\n",
    "    - discriminant_analysis.LinearDiscriminantAnalysis\n",
    "    - svm.LinearSVC (setting multi_class=”crammer_singer”)\n",
    "    - linear_model.LogisticRegression (setting multi_class=”multinomial”)\n",
    "    - linear_model.LogisticRegressionCV (setting multi_class=”multinomial”)\n",
    "    - neural_network.MLPClassifier\n",
    "    - neighbors.NearestCentroid\n",
    "    - discriminant_analysis.QuadraticDiscriminantAnalysis\n",
    "    - neighbors.RadiusNeighborsClassifier\n",
    "    - ensemble.RandomForestClassifier\n",
    "    - linear_model.RidgeClassifier\n",
    "    - linear_model.RidgeClassifierCV\n",
    "\n",
    "- Multiclass as One-Vs-One:\n",
    "    - svm.NuSVC\n",
    "    - svm.SVC.\n",
    "    - gaussian_process.GaussianProcessClassifier (setting multi_class = “one_vs_one”)\n",
    "\n",
    "- Multiclass as One-Vs-The-Rest:\n",
    "    - ensemble.GradientBoostingClassifier\n",
    "    - gaussian_process.GaussianProcessClassifier (setting multi_class = “one_vs_rest”)\n",
    "    - svm.LinearSVC (setting multi_class=”ovr”)\n",
    "    - linear_model.LogisticRegression (setting multi_class=”ovr”)\n",
    "    - linear_model.LogisticRegressionCV (setting multi_class=”ovr”)\n",
    "    - linear_model.SGDClassifier\n",
    "    - linear_model.Perceptron\n",
    "    - linear_model.PassiveAggressiveClassifier\n",
    "\n",
    "- Support multilabel:  \n",
    "    - tree.DecisionTreeClassifier\n",
    "    - tree.ExtraTreeClassifier\n",
    "    - ensemble.ExtraTreesClassifier\n",
    "    - neighbors.KNeighborsClassifier\n",
    "    - neural_network.MLPClassifier\n",
    "    - neighbors.RadiusNeighborsClassifier\n",
    "    - ensemble.RandomForestClassifier\n",
    "    - linear_model.RidgeClassifier\n",
    "    - linear_model.RidgeClassifierCV\n",
    "\n",
    "- Support multiclass-multioutput:\n",
    "    - tree.DecisionTreeClassifier\n",
    "    - tree.ExtraTreeClassifier\n",
    "    - ensemble.ExtraTreesClassifier\n",
    "    - neighbors.KNeighborsClassifier\n",
    "    - neighbors.RadiusNeighborsClassifier\n",
    "    - ensemble.RandomForestClassifier"
   ]
  },
  {
   "cell_type": "markdown",
   "metadata": {},
   "source": [
    "## Кодирование принадлежности к классу двоичным кодом"
   ]
  },
  {
   "cell_type": "code",
   "execution_count": 1,
   "metadata": {},
   "outputs": [
    {
     "name": "stdout",
     "output_type": "stream",
     "text": [
      "[[1 0 0]\n",
      " [0 0 1]\n",
      " [1 0 0]\n",
      " [0 1 0]]\n",
      "  (0, 0)\t1\n",
      "  (1, 2)\t1\n",
      "  (2, 0)\t1\n",
      "  (3, 1)\t1\n"
     ]
    }
   ],
   "source": [
    "import numpy as np\n",
    "from sklearn.preprocessing import LabelBinarizer\n",
    "y = np.array(['apple', 'pear', 'apple', 'orange'])\n",
    "y_dense = LabelBinarizer().fit_transform(y)\n",
    "print(y_dense)\n",
    "\n",
    "from scipy import sparse\n",
    "y_sparse = sparse.csr_matrix(y_dense)\n",
    "print(y_sparse)\n"
   ]
  },
  {
   "cell_type": "markdown",
   "metadata": {},
   "source": [
    "# Multiclass Classification\n",
    "## OneVsRestClassifier\n",
    "\n",
    "Для каждого класса строится свой классификатор. Выборка для каждого классификатора делится на принадлежащие классу образцы и непринадлежащие. На выходе - номер наиболее вероятного класса.\n",
    "\n",
    "Также поддерживается multilabel classification. Для этого метки нужно закодировать в виде матрицы из 1 и 0."
   ]
  },
  {
   "cell_type": "code",
   "execution_count": 2,
   "metadata": {},
   "outputs": [
    {
     "name": "stderr",
     "output_type": "stream",
     "text": [
      "C:\\Users\\Алексей\\AppData\\Roaming\\Python\\Python37\\site-packages\\sklearn\\svm\\_base.py:1208: ConvergenceWarning: Liblinear failed to converge, increase the number of iterations.\n",
      "  ConvergenceWarning,\n",
      "C:\\Users\\Алексей\\AppData\\Roaming\\Python\\Python37\\site-packages\\sklearn\\svm\\_base.py:1208: ConvergenceWarning: Liblinear failed to converge, increase the number of iterations.\n",
      "  ConvergenceWarning,\n"
     ]
    },
    {
     "data": {
      "text/plain": [
       "array([0, 0, 0, 0, 0, 0, 0, 0, 0, 0, 0, 0, 0, 0, 0, 0, 0, 0, 0, 0, 0, 0,\n",
       "       0, 0, 0, 0, 0, 0, 0, 0, 0, 0, 0, 0, 0, 0, 0, 0, 0, 0, 0, 0, 0, 0,\n",
       "       0, 0, 0, 0, 0, 0, 1, 1, 1, 1, 1, 1, 1, 1, 1, 1, 1, 1, 1, 1, 1, 1,\n",
       "       1, 1, 1, 1, 2, 1, 1, 1, 1, 1, 1, 1, 1, 1, 1, 1, 1, 2, 2, 1, 1, 1,\n",
       "       1, 1, 1, 1, 1, 1, 1, 1, 1, 1, 1, 1, 2, 2, 2, 2, 2, 2, 2, 2, 2, 2,\n",
       "       2, 2, 2, 2, 2, 2, 2, 2, 2, 2, 2, 2, 2, 2, 2, 2, 2, 2, 2, 1, 2, 2,\n",
       "       2, 1, 2, 2, 2, 2, 2, 2, 2, 2, 2, 2, 2, 2, 2, 2, 2, 2])"
      ]
     },
     "execution_count": 2,
     "metadata": {},
     "output_type": "execute_result"
    }
   ],
   "source": [
    "from sklearn import datasets\n",
    "from sklearn.multiclass import OneVsRestClassifier\n",
    "from sklearn.svm import LinearSVC\n",
    "X, y = datasets.load_iris(return_X_y=True)\n",
    "OneVsRestClassifier(LinearSVC(random_state=0)).fit(X, y).predict(X)"
   ]
  },
  {
   "cell_type": "markdown",
   "metadata": {},
   "source": [
    "## OneVsOneClassifier\n",
    "\n",
    "Строится n_classes * (n_classes - 1) / 2 классификаторов - для каждой из пар классов. На выходе класс, набравший наибольшее количество голосов, при ничьей - наибольшая достоверность."
   ]
  },
  {
   "cell_type": "code",
   "execution_count": 3,
   "metadata": {},
   "outputs": [
    {
     "name": "stderr",
     "output_type": "stream",
     "text": [
      "C:\\Users\\Алексей\\AppData\\Roaming\\Python\\Python37\\site-packages\\sklearn\\svm\\_base.py:1208: ConvergenceWarning: Liblinear failed to converge, increase the number of iterations.\n",
      "  ConvergenceWarning,\n"
     ]
    },
    {
     "data": {
      "text/plain": [
       "array([0, 0, 0, 0, 0, 0, 0, 0, 0, 0, 0, 0, 0, 0, 0, 0, 0, 0, 0, 0, 0, 0,\n",
       "       0, 0, 0, 0, 0, 0, 0, 0, 0, 0, 0, 0, 0, 0, 0, 0, 0, 0, 0, 0, 0, 0,\n",
       "       0, 0, 0, 0, 0, 0, 1, 1, 1, 1, 1, 1, 1, 1, 1, 1, 1, 1, 1, 1, 1, 1,\n",
       "       1, 1, 1, 1, 2, 1, 2, 1, 1, 1, 1, 1, 1, 1, 1, 1, 1, 2, 1, 1, 1, 1,\n",
       "       1, 1, 1, 1, 1, 1, 1, 1, 1, 1, 1, 1, 2, 2, 2, 2, 2, 2, 2, 2, 2, 2,\n",
       "       2, 2, 2, 2, 2, 2, 2, 2, 2, 2, 2, 2, 2, 2, 2, 2, 2, 2, 2, 2, 2, 2,\n",
       "       2, 2, 2, 2, 2, 2, 2, 2, 2, 2, 2, 2, 2, 2, 2, 2, 2, 2])"
      ]
     },
     "execution_count": 3,
     "metadata": {},
     "output_type": "execute_result"
    }
   ],
   "source": [
    "from sklearn.multiclass import OneVsOneClassifier\n",
    "\n",
    "X, y = datasets.load_iris(return_X_y=True)\n",
    "OneVsOneClassifier(LinearSVC(random_state=0)).fit(X, y).predict(X)"
   ]
  },
  {
   "cell_type": "markdown",
   "metadata": {},
   "source": [
    "# Multilabel classification\n",
    "\n",
    "Формат данных: 0 если объект не содержит метку, иначе - 1."
   ]
  },
  {
   "cell_type": "code",
   "execution_count": 4,
   "metadata": {},
   "outputs": [
    {
     "name": "stdout",
     "output_type": "stream",
     "text": [
      "[[1 0 0 1]\n",
      " [0 0 1 1]\n",
      " [0 0 0 0]]\n",
      "  (0, 0)\t1\n",
      "  (0, 3)\t1\n",
      "  (1, 2)\t1\n",
      "  (1, 3)\t1\n"
     ]
    }
   ],
   "source": [
    "y = np.array([[1, 0, 0, 1], [0, 0, 1, 1], [0, 0, 0, 0]])\n",
    "print(y)\n",
    "\n",
    "y_sparse = sparse.csr_matrix(y)\n",
    "print(y_sparse)"
   ]
  },
  {
   "cell_type": "code",
   "execution_count": 5,
   "metadata": {},
   "outputs": [
    {
     "data": {
      "text/plain": [
       "array([[1, 1, 1],\n",
       "       [1, 0, 1]])"
      ]
     },
     "execution_count": 5,
     "metadata": {},
     "output_type": "execute_result"
    }
   ],
   "source": [
    "from sklearn.datasets import make_multilabel_classification\n",
    "from sklearn.multioutput import MultiOutputClassifier\n",
    "from sklearn.linear_model import LogisticRegression\n",
    "X, y = make_multilabel_classification(n_classes=3, random_state=0)\n",
    "clf = MultiOutputClassifier(LogisticRegression()).fit(X, y)\n",
    "clf.predict(X[-2:])"
   ]
  },
  {
   "cell_type": "markdown",
   "metadata": {},
   "source": [
    "#  Multiclass-multioutput classification\n",
    "\n",
    "Формат данных"
   ]
  },
  {
   "cell_type": "code",
   "execution_count": 6,
   "metadata": {},
   "outputs": [
    {
     "name": "stdout",
     "output_type": "stream",
     "text": [
      "[['apple' 'green']\n",
      " ['orange' 'orange']\n",
      " ['pear' 'green']]\n"
     ]
    }
   ],
   "source": [
    "y = np.array([['apple', 'green'], ['orange', 'orange'], ['pear', 'green']])\n",
    "print(y)"
   ]
  },
  {
   "cell_type": "code",
   "execution_count": 7,
   "metadata": {},
   "outputs": [
    {
     "data": {
      "text/plain": [
       "array([[2, 2, 0],\n",
       "       [1, 2, 1],\n",
       "       [2, 1, 0],\n",
       "       [0, 0, 2],\n",
       "       [0, 2, 1],\n",
       "       [0, 0, 2],\n",
       "       [1, 1, 0],\n",
       "       [1, 1, 1],\n",
       "       [0, 0, 2],\n",
       "       [2, 0, 0]])"
      ]
     },
     "execution_count": 7,
     "metadata": {},
     "output_type": "execute_result"
    }
   ],
   "source": [
    "from sklearn.datasets import make_classification\n",
    "from sklearn.ensemble import RandomForestClassifier\n",
    "from sklearn.utils import shuffle\n",
    "X, y1 = make_classification(n_samples=10, n_features=100,\n",
    "                            n_informative=30, n_classes=3,\n",
    "                            random_state=1)\n",
    "y2 = shuffle(y1, random_state=1)\n",
    "y3 = shuffle(y1, random_state=2)\n",
    "Y = np.vstack((y1, y2, y3)).T\n",
    "n_samples, n_features = X.shape # 10,100\n",
    "n_outputs = Y.shape[1] # 3\n",
    "n_classes = 3\n",
    "forest = RandomForestClassifier(random_state=1)\n",
    "multi_target_forest = MultiOutputClassifier(forest, n_jobs=2)\n",
    "multi_target_forest.fit(X, Y).predict(X)"
   ]
  },
  {
   "cell_type": "markdown",
   "metadata": {},
   "source": [
    "# Multioutput regression\n",
    "\n",
    "Формат данных"
   ]
  },
  {
   "cell_type": "code",
   "execution_count": 8,
   "metadata": {},
   "outputs": [
    {
     "name": "stdout",
     "output_type": "stream",
     "text": [
      "[[ 31.4  94. ]\n",
      " [ 40.5 109. ]\n",
      " [ 25.   30. ]]\n"
     ]
    }
   ],
   "source": [
    "y = np.array([[31.4, 94], [40.5, 109], [25.0, 30]])\n",
    "print(y)"
   ]
  },
  {
   "cell_type": "code",
   "execution_count": 9,
   "metadata": {},
   "outputs": [
    {
     "data": {
      "text/plain": [
       "array([[-154.75474165, -147.03498585,  -50.03812219],\n",
       "       [   7.12165031,    5.12914884,  -81.46081961],\n",
       "       [-187.8948621 , -100.44373091,   13.88978285],\n",
       "       [-141.62745778,   95.02891072, -191.48204257],\n",
       "       [  97.03260883,  165.34867495,  139.52003279],\n",
       "       [ 123.92529176,   21.25719016,   -7.84253   ],\n",
       "       [-122.25193977,  -85.16443186, -107.12274212],\n",
       "       [ -30.170388  ,  -94.80956739,   12.16979946],\n",
       "       [ 140.72667194,  176.50941682,  -17.50447799],\n",
       "       [ 149.37967282,  -81.15699552,   -5.72850319]])"
      ]
     },
     "execution_count": 9,
     "metadata": {},
     "output_type": "execute_result"
    }
   ],
   "source": [
    "from sklearn.datasets import make_regression\n",
    "from sklearn.multioutput import MultiOutputRegressor\n",
    "from sklearn.ensemble import GradientBoostingRegressor\n",
    "X, y = make_regression(n_samples=10, n_targets=3, random_state=1)\n",
    "MultiOutputRegressor(GradientBoostingRegressor(random_state=0)).fit(X, y).predict(X)"
   ]
  },
  {
   "cell_type": "code",
   "execution_count": null,
   "metadata": {},
   "outputs": [],
   "source": []
  }
 ],
 "metadata": {
  "interpreter": {
   "hash": "e922dd073470bdcc017ae3abd31d6491d6ed7bf31c1d559806e5511bfea88b81"
  },
  "kernelspec": {
   "display_name": "Python 3.7.5 64-bit",
   "language": "python",
   "name": "python3"
  },
  "language_info": {
   "codemirror_mode": {
    "name": "ipython",
    "version": 3
   },
   "file_extension": ".py",
   "mimetype": "text/x-python",
   "name": "python",
   "nbconvert_exporter": "python",
   "pygments_lexer": "ipython3",
   "version": "3.7.5"
  },
  "orig_nbformat": 4
 },
 "nbformat": 4,
 "nbformat_minor": 2
}
