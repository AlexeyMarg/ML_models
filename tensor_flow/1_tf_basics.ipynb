{
 "cells": [
  {
   "cell_type": "code",
   "execution_count": 1,
   "metadata": {},
   "outputs": [],
   "source": [
    "import tensorflow as tf"
   ]
  },
  {
   "cell_type": "markdown",
   "metadata": {},
   "source": [
    "Rank 0 tensor creating"
   ]
  },
  {
   "cell_type": "code",
   "execution_count": 3,
   "metadata": {},
   "outputs": [
    {
     "name": "stdout",
     "output_type": "stream",
     "text": [
      "tf.Tensor(1, shape=(), dtype=int16)\n"
     ]
    }
   ],
   "source": [
    "r1 = tf.constant(1, dtype=tf.int16) # zero dimension\n",
    "print(r1)"
   ]
  },
  {
   "cell_type": "code",
   "execution_count": 4,
   "metadata": {},
   "outputs": [
    {
     "name": "stdout",
     "output_type": "stream",
     "text": [
      "tf.Tensor(2, shape=(), dtype=int16)\n"
     ]
    }
   ],
   "source": [
    "r2 = tf.constant(2, tf.int16, name='my_scalar')\n",
    "print(r2)"
   ]
  },
  {
   "cell_type": "code",
   "execution_count": 5,
   "metadata": {},
   "outputs": [
    {
     "name": "stdout",
     "output_type": "stream",
     "text": [
      "tf.Tensor(1.23, shape=(), dtype=float32)\n"
     ]
    }
   ],
   "source": [
    "r3 = tf.constant(1.23, tf.float32, name='my_float')\n",
    "print(r3)"
   ]
  },
  {
   "cell_type": "code",
   "execution_count": 6,
   "metadata": {},
   "outputs": [
    {
     "name": "stdout",
     "output_type": "stream",
     "text": [
      "tf.Tensor(b'string', shape=(), dtype=string)\n"
     ]
    }
   ],
   "source": [
    "r4 = tf.constant('string', tf.string, name='my_string')\n",
    "print(r4)"
   ]
  },
  {
   "cell_type": "markdown",
   "metadata": {},
   "source": [
    "Rank 1 tensor creating"
   ]
  },
  {
   "cell_type": "code",
   "execution_count": 7,
   "metadata": {},
   "outputs": [
    {
     "name": "stdout",
     "output_type": "stream",
     "text": [
      "tf.Tensor([1 2 3], shape=(3,), dtype=int16)\n"
     ]
    }
   ],
   "source": [
    "r1_vector = tf.constant([1, 2, 3], tf.int16)\n",
    "print(r1_vector)"
   ]
  },
  {
   "cell_type": "code",
   "execution_count": 8,
   "metadata": {},
   "outputs": [
    {
     "name": "stdout",
     "output_type": "stream",
     "text": [
      "tf.Tensor([ True False False], shape=(3,), dtype=bool)\n"
     ]
    }
   ],
   "source": [
    "r2_vector = tf.constant([True, False, False], tf.bool)\n",
    "print(r2_vector)"
   ]
  },
  {
   "cell_type": "markdown",
   "metadata": {},
   "source": [
    "Rank3 tensors creating"
   ]
  },
  {
   "cell_type": "code",
   "execution_count": 9,
   "metadata": {},
   "outputs": [
    {
     "name": "stdout",
     "output_type": "stream",
     "text": [
      "tf.Tensor(\n",
      "[[[1 2]\n",
      "  [3 4]\n",
      "  [5 6]]], shape=(1, 3, 2), dtype=int16)\n",
      "Shape of r3_matrix is  (1, 3, 2)\n",
      "r3_matriz data type is  <dtype: 'int16'>\n"
     ]
    }
   ],
   "source": [
    "r3_matrix = tf.constant([ [[1, 2],\n",
    "                           [3, 4],\n",
    "                           [5, 6]] ], tf.int16)\n",
    "print(r3_matrix)\n",
    "print('Shape of r3_matrix is ', r3_matrix.shape)\n",
    "print('r3_matriz data type is ', r3_matrix.dtype)"
   ]
  },
  {
   "cell_type": "markdown",
   "metadata": {},
   "source": [
    "Creation of ones and zeros matrices"
   ]
  },
  {
   "cell_type": "code",
   "execution_count": 10,
   "metadata": {},
   "outputs": [
    {
     "name": "stdout",
     "output_type": "stream",
     "text": [
      "tf.Tensor([0. 0. 0. 0. 0. 0. 0. 0. 0. 0.], shape=(10,), dtype=float32)\n",
      "tf.Tensor(\n",
      "[[1. 1.]\n",
      " [1. 1.]], shape=(2, 2), dtype=float32)\n",
      "tf.Tensor(\n",
      "[[1. 0. 0.]\n",
      " [0. 1. 0.]\n",
      " [0. 0. 1.]], shape=(3, 3), dtype=float32)\n"
     ]
    }
   ],
   "source": [
    "print(tf.zeros(10))\n",
    "print(tf.ones([2, 2]))\n",
    "print(tf.eye(3))"
   ]
  },
  {
   "cell_type": "markdown",
   "metadata": {},
   "source": [
    "Data type transformation"
   ]
  },
  {
   "cell_type": "code",
   "execution_count": 11,
   "metadata": {},
   "outputs": [
    {
     "name": "stdout",
     "output_type": "stream",
     "text": [
      "\n",
      "data transformation\n",
      "r2 tensor is tf.Tensor(2, shape=(), dtype=int16)  dtype is  <dtype: 'int16'>\n",
      "transform to int: tf.Tensor(2, shape=(), dtype=int32)  dtype is  <dtype: 'int32'>\n"
     ]
    }
   ],
   "source": [
    "print('\\ndata transformation')\n",
    "print('r2 tensor is', r2, ' dtype is ', r2.dtype)\n",
    "r2_toint = tf.cast(r2, dtype=tf.int32)\n",
    "print('transform to int:', r2_toint, ' dtype is ', r2_toint.dtype)"
   ]
  },
  {
   "cell_type": "markdown",
   "metadata": {},
   "source": [
    "Math operations"
   ]
  },
  {
   "cell_type": "code",
   "execution_count": 12,
   "metadata": {},
   "outputs": [
    {
     "name": "stdout",
     "output_type": "stream",
     "text": [
      "sqrt of  tf.Tensor(2.0, shape=(), dtype=float32) is  tf.Tensor(1.4142135, shape=(), dtype=float32)\n"
     ]
    }
   ],
   "source": [
    "x = tf.constant(2.0, dtype=tf.float32)\n",
    "print('sqrt of ', x, 'is ', tf.sqrt(x))"
   ]
  },
  {
   "cell_type": "code",
   "execution_count": 13,
   "metadata": {},
   "outputs": [
    {
     "name": "stdout",
     "output_type": "stream",
     "text": [
      "Sum of  tf.Tensor([1. 2.], shape=(2,), dtype=float32) and  tf.Tensor([3. 4.], shape=(2,), dtype=float32)  is  tf.Tensor([4. 6.], shape=(2,), dtype=float32)\n"
     ]
    }
   ],
   "source": [
    "y = tf.constant([1.0, 2.0], dtype=tf.float32)\n",
    "z = tf.constant([3.0, 4.0], dtype=tf.float32)\n",
    "print('Sum of ', y, 'and ', z, ' is ', tf.add(y, z))"
   ]
  },
  {
   "cell_type": "code",
   "execution_count": 14,
   "metadata": {},
   "outputs": [
    {
     "name": "stdout",
     "output_type": "stream",
     "text": [
      "Subtract of  tf.Tensor([1. 2.], shape=(2,), dtype=float32) and  tf.Tensor([3. 4.], shape=(2,), dtype=float32)  is  tf.Tensor([-2. -2.], shape=(2,), dtype=float32)\n"
     ]
    }
   ],
   "source": [
    "print('Subtract of ', y, 'and ', z, ' is ', tf.subtract(y, z))"
   ]
  },
  {
   "cell_type": "code",
   "execution_count": 15,
   "metadata": {},
   "outputs": [
    {
     "name": "stdout",
     "output_type": "stream",
     "text": [
      "Multiplication of  tf.Tensor([[1 2]], shape=(1, 2), dtype=int32) and  tf.Tensor(\n",
      "[[3]\n",
      " [4]], shape=(2, 1), dtype=int32)  is  tf.Tensor(\n",
      "[[3 6]\n",
      " [4 8]], shape=(2, 2), dtype=int32)\n"
     ]
    }
   ],
   "source": [
    "y = tf.constant([[1, 2]])\n",
    "z = tf.constant([[3], [4]])\n",
    "print('Multiplication of ', y, 'and ', z, ' is ', tf.multiply(y, z))\n",
    "# tf.div(), tf.pow(a, b) ..."
   ]
  },
  {
   "cell_type": "markdown",
   "metadata": {},
   "source": [
    "Variables creation"
   ]
  },
  {
   "cell_type": "code",
   "execution_count": 16,
   "metadata": {},
   "outputs": [
    {
     "name": "stdout",
     "output_type": "stream",
     "text": [
      "\n",
      "Initialized variable:  <tf.Variable 'Variable:0' shape=(2, 2) dtype=int32, numpy=\n",
      "array([[1, 2],\n",
      "       [3, 4]])>\n",
      "Assigned variable: <tf.Variable 'UnreadVariable' shape=(2, 2) dtype=int32, numpy=\n",
      "array([[3, 4],\n",
      "       [5, 6]])>\n"
     ]
    }
   ],
   "source": [
    "x = tf.constant([[1, 2], [3, 4]])\n",
    "var = tf.Variable(x)\n",
    "print('\\nInitialized variable: ', var)\n",
    "print('Assigned variable:', var.assign([[3, 4], [5, 6]]))"
   ]
  },
  {
   "cell_type": "code",
   "execution_count": null,
   "metadata": {},
   "outputs": [],
   "source": []
  }
 ],
 "metadata": {
  "interpreter": {
   "hash": "e922dd073470bdcc017ae3abd31d6491d6ed7bf31c1d559806e5511bfea88b81"
  },
  "kernelspec": {
   "display_name": "Python 3.7.5 64-bit",
   "language": "python",
   "name": "python3"
  },
  "language_info": {
   "codemirror_mode": {
    "name": "ipython",
    "version": 3
   },
   "file_extension": ".py",
   "mimetype": "text/x-python",
   "name": "python",
   "nbconvert_exporter": "python",
   "pygments_lexer": "ipython3",
   "version": "3.7.5"
  },
  "orig_nbformat": 4
 },
 "nbformat": 4,
 "nbformat_minor": 2
}
