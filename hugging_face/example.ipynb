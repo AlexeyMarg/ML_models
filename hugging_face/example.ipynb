{
 "cells": [
  {
   "cell_type": "markdown",
   "metadata": {},
   "source": [
    "# Hugging face\n",
    "\n",
    "- задачи: https://huggingface.co/tasks\n",
    "- задачи для pipeline: https://huggingface.co/docs/transformers/main/en/main_classes/pipelines\n",
    "- автоклассы: https://huggingface.co/docs/transformers/main/en/model_doc/auto"
   ]
  },
  {
   "cell_type": "markdown",
   "metadata": {},
   "source": [
    "## Использование моделей "
   ]
  },
  {
   "cell_type": "markdown",
   "metadata": {},
   "source": [
    "### Pipeline"
   ]
  },
  {
   "cell_type": "code",
   "execution_count": 1,
   "metadata": {},
   "outputs": [
    {
     "name": "stdout",
     "output_type": "stream",
     "text": [
      "WARNING:tensorflow:From c:\\Program Files\\Python311\\Lib\\site-packages\\keras\\src\\losses.py:2976: The name tf.losses.sparse_softmax_cross_entropy is deprecated. Please use tf.compat.v1.losses.sparse_softmax_cross_entropy instead.\n",
      "\n"
     ]
    }
   ],
   "source": [
    "from transformers import pipeline"
   ]
  },
  {
   "cell_type": "code",
   "execution_count": 2,
   "metadata": {},
   "outputs": [
    {
     "name": "stderr",
     "output_type": "stream",
     "text": [
      "c:\\Program Files\\Python311\\Lib\\site-packages\\huggingface_hub\\file_download.py:1132: FutureWarning: `resume_download` is deprecated and will be removed in version 1.0.0. Downloads always resume when possible. If you want to force a new download, use `force_download=True`.\n",
      "  warnings.warn(\n"
     ]
    },
    {
     "data": {
      "application/vnd.jupyter.widget-view+json": {
       "model_id": "c613ba7ea2c14074b1d50c8be67f3071",
       "version_major": 2,
       "version_minor": 0
      },
      "text/plain": [
       "config.json:   0%|          | 0.00/1.04k [00:00<?, ?B/s]"
      ]
     },
     "metadata": {},
     "output_type": "display_data"
    },
    {
     "data": {
      "application/vnd.jupyter.widget-view+json": {
       "model_id": "722541739d2b4472a050f541b61e95bf",
       "version_major": 2,
       "version_minor": 0
      },
      "text/plain": [
       "model.safetensors:   0%|          | 0.00/711M [00:00<?, ?B/s]"
      ]
     },
     "metadata": {},
     "output_type": "display_data"
    },
    {
     "data": {
      "application/vnd.jupyter.widget-view+json": {
       "model_id": "3d6cecf1c9bc415a946ea37b5b1790e0",
       "version_major": 2,
       "version_minor": 0
      },
      "text/plain": [
       "tokenizer_config.json:   0%|          | 0.00/585 [00:00<?, ?B/s]"
      ]
     },
     "metadata": {},
     "output_type": "display_data"
    },
    {
     "data": {
      "application/vnd.jupyter.widget-view+json": {
       "model_id": "e759b359ebc9443b8c0d14aaabc55908",
       "version_major": 2,
       "version_minor": 0
      },
      "text/plain": [
       "vocab.txt:   0%|          | 0.00/1.40M [00:00<?, ?B/s]"
      ]
     },
     "metadata": {},
     "output_type": "display_data"
    },
    {
     "data": {
      "application/vnd.jupyter.widget-view+json": {
       "model_id": "f38efd0ee3534688a2d8805aec78091b",
       "version_major": 2,
       "version_minor": 0
      },
      "text/plain": [
       "special_tokens_map.json:   0%|          | 0.00/112 [00:00<?, ?B/s]"
      ]
     },
     "metadata": {},
     "output_type": "display_data"
    },
    {
     "data": {
      "text/plain": [
       "[{'label': 'neutral', 'score': 0.9872767329216003},\n",
       " {'label': 'toxic', 'score': 0.985331654548645}]"
      ]
     },
     "execution_count": 2,
     "metadata": {},
     "output_type": "execute_result"
    }
   ],
   "source": [
    "clf = pipeline(\n",
    "    task='sentiment-analysis',\n",
    "    model='SkolkovoInstitute/russian_toxicity_classifier')\n",
    "\n",
    "text = ['У нас в есть убунты и текникал превью.',\n",
    "    \t'Как минимум два малолетних дегенерата в треде, мда.']\n",
    "\n",
    "clf(text)"
   ]
  },
  {
   "cell_type": "markdown",
   "metadata": {},
   "source": [
    "Использование токенизатора"
   ]
  },
  {
   "cell_type": "code",
   "execution_count": null,
   "metadata": {},
   "outputs": [],
   "source": [
    "pipeline(\n",
    "    task = 'question-answering', \n",
    "    model = 'distilbert-base-cased-distilled-squad', \n",
    "    tokenizer = 'bert-base-cased')"
   ]
  },
  {
   "cell_type": "markdown",
   "metadata": {},
   "source": [
    "Возврат всех классов"
   ]
  },
  {
   "cell_type": "code",
   "execution_count": null,
   "metadata": {},
   "outputs": [],
   "source": [
    "clf(text, top_k=None)"
   ]
  },
  {
   "cell_type": "markdown",
   "metadata": {},
   "source": [
    "Использование генератора для экономии памяти"
   ]
  },
  {
   "cell_type": "code",
   "execution_count": 3,
   "metadata": {},
   "outputs": [
    {
     "name": "stdout",
     "output_type": "stream",
     "text": [
      "{'label': 'neutral', 'score': 0.9872767329216003}\n",
      "{'label': 'toxic', 'score': 0.985331654548645}\n"
     ]
    }
   ],
   "source": [
    "clf = pipeline(\n",
    "    task = 'sentiment-analysis', \n",
    "    model = 'SkolkovoInstitute/russian_toxicity_classifier')\n",
    "\n",
    "text = ['У нас в есть убунты и текникал превью.',\n",
    "        'Как минимум два малолетних дегенерата в треде, мда.']\n",
    "\n",
    "def data(text):\n",
    "    for row in text:\n",
    "        yield row\n",
    "\n",
    "for out in clf(data(text)):\n",
    "    print(out)"
   ]
  },
  {
   "cell_type": "markdown",
   "metadata": {},
   "source": [
    "### PyTorch"
   ]
  },
  {
   "cell_type": "code",
   "execution_count": 4,
   "metadata": {},
   "outputs": [
    {
     "data": {
      "application/vnd.jupyter.widget-view+json": {
       "model_id": "55b1204c42b041c3a79b96e6fe6a78c1",
       "version_major": 2,
       "version_minor": 0
      },
      "text/plain": [
       "preprocessor_config.json:   0%|          | 0.00/160 [00:00<?, ?B/s]"
      ]
     },
     "metadata": {},
     "output_type": "display_data"
    },
    {
     "data": {
      "application/vnd.jupyter.widget-view+json": {
       "model_id": "37bde4745085429eaa6b6f497376c193",
       "version_major": 2,
       "version_minor": 0
      },
      "text/plain": [
       "config.json:   0%|          | 0.00/69.7k [00:00<?, ?B/s]"
      ]
     },
     "metadata": {},
     "output_type": "display_data"
    },
    {
     "data": {
      "application/vnd.jupyter.widget-view+json": {
       "model_id": "694f30cfe6ea4ef99da1ab1d6777d7c7",
       "version_major": 2,
       "version_minor": 0
      },
      "text/plain": [
       "model.safetensors:   0%|          | 0.00/346M [00:00<?, ?B/s]"
      ]
     },
     "metadata": {},
     "output_type": "display_data"
    },
    {
     "name": "stdout",
     "output_type": "stream",
     "text": [
      "281 - tabby, tabby cat\n"
     ]
    }
   ],
   "source": [
    "import torch\n",
    "import requests\n",
    "from PIL import Image\n",
    "from io import BytesIO\n",
    "from transformers import AutoImageProcessor, AutoModelForImageClassification\n",
    "\n",
    "response = requests.get(\n",
    "    'https://github.com/laxmimerit/dog-cat-full-dataset/blob/master/data/train/cats/cat.10055.jpg?raw=true')\n",
    "img = Image.open(BytesIO(response.content))\n",
    "\n",
    "img_proc = AutoImageProcessor.from_pretrained(\n",
    "    'google/vit-base-patch16-224')\n",
    "model = AutoModelForImageClassification.from_pretrained(\n",
    "    'google/vit-base-patch16-224')\n",
    "\n",
    "inputs = img_proc(img, return_tensors='pt')\n",
    "\n",
    "with torch.no_grad():\n",
    "    logits = model(**inputs).logits\n",
    "\n",
    "predicted_id = logits.argmax(-1).item()\n",
    "predicted_label = model.config.id2label[predicted_id]\n",
    "print(predicted_id, '-', predicted_label)"
   ]
  },
  {
   "cell_type": "markdown",
   "metadata": {},
   "source": [
    "Автоматическое определение архитектуры"
   ]
  },
  {
   "cell_type": "code",
   "execution_count": null,
   "metadata": {},
   "outputs": [],
   "source": [
    "img_proc = AutoImageProcessor.from_pretrained(\n",
    "    'google/vit-base-patch16-224')\n",
    "model = AutoModelForImageClassification.from_pretrained(\n",
    "    'google/vit-base-patch16-224')\n",
    "\n",
    "tokenizer = AutoTokenizer.from_pretrained(\n",
    "    'SkolkovoInstitute/russian_toxicity_classifier')\n",
    "model = AutoModelForSequenceClassification.from_pretrained(\n",
    "    'SkolkovoInstitute/russian_toxicity_classifier')"
   ]
  },
  {
   "cell_type": "markdown",
   "metadata": {},
   "source": [
    "## Дообучение"
   ]
  },
  {
   "cell_type": "markdown",
   "metadata": {},
   "source": [
    "### Trainer"
   ]
  },
  {
   "cell_type": "code",
   "execution_count": null,
   "metadata": {},
   "outputs": [],
   "source": [
    "import datasets\n",
    "import evaluate\n",
    "import pandas as pd\n",
    "import numpy as np\n",
    "from datasets import Dataset\n",
    "from sklearn.model_selection import train_test_split\n",
    "from transformers import (AutoTokenizer, AutoModelForSequenceClassification, \n",
    "                          TrainingArguments, Trainer)\n",
    "\n",
    "# Загружаем данные\n",
    "df = pd.read_csv('toxic.csv')\n",
    "df.columns = ['text','label']\n",
    "df['label'] = df['label'].astype(int)\n",
    "\n",
    "# Конвертируем датафрейм в Dataset\n",
    "train, test = train_test_split(df, test_size=0.3)\n",
    "train = Dataset.from_pandas(train)\n",
    "test = Dataset.from_pandas(test)\n",
    "\n",
    "# Выполняем предобработку текста\n",
    "tokenizer = AutoTokenizer.from_pretrained(\n",
    "    'SkolkovoInstitute/russian_toxicity_classifier')\n",
    "\n",
    "def tokenize_function(examples):\n",
    "\treturn tokenizer(examples['text'], padding='max_length', truncation=True)\n",
    "\n",
    "tokenized_train = train.map(tokenize_function)\n",
    "tokenized_test = test.map(tokenize_function)\n",
    "\n",
    "# Загружаем предобученную модель\n",
    "model = AutoModelForSequenceClassification.from_pretrained(\n",
    "\t'SkolkovoInstitute/russian_toxicity_classifier',\n",
    "\tnum_labels=2)\n",
    "\n",
    "# Задаем параметры обучения\n",
    "training_args = TrainingArguments(\n",
    "\toutput_dir = 'test_trainer_log',\n",
    "\tevaluation_strategy = 'epoch',\n",
    "\tper_device_train_batch_size = 6,\n",
    "\tper_device_eval_batch_size = 6,\n",
    "\tnum_train_epochs = 5,\n",
    "\treport_to='none')\n",
    "\n",
    "# Определяем как считать метрику\n",
    "metric = evaluate.load('f1')\n",
    "def compute_metrics(eval_pred):\n",
    "\tlogits, labels = eval_pred\n",
    "\tpredictions = np.argmax(logits, axis=-1)\n",
    "\treturn metric.compute(predictions=predictions, references=labels)\n",
    "\n",
    "# Выполняем обучение\n",
    "trainer = Trainer(\n",
    "\tmodel = model,\n",
    "\targs = training_args,\n",
    "\ttrain_dataset = tokenized_train,\n",
    "\teval_dataset = tokenized_test,\n",
    "\tcompute_metrics = compute_metrics)\n",
    "\n",
    "trainer.train()\n",
    "\n",
    "# Сохраняем модель\n",
    "save_directory = './pt_save_pretrained'\n",
    "#tokenizer.save_pretrained(save_directory)\n",
    "model.save_pretrained(save_directory)\n",
    "#alternatively save the trainer\n",
    "#trainer.save_model('CustomModels/CustomHamSpam')\n",
    "\n",
    "# загрузка модели\n",
    "model = AutoModelForSequenceClassification.from_pretrained(\n",
    "\t'./pt_save_pretrained')"
   ]
  },
  {
   "cell_type": "markdown",
   "metadata": {},
   "source": [
    "### PyTorch"
   ]
  },
  {
   "cell_type": "code",
   "execution_count": null,
   "metadata": {},
   "outputs": [],
   "source": [
    "import torch\n",
    "import evaluate\n",
    "import pandas as pd\n",
    "from tqdm.auto import tqdm\n",
    "from datasets import Dataset\n",
    "from torch.optim import AdamW\n",
    "from torch.utils.data import DataLoader\n",
    "from sklearn.model_selection import train_test_split\n",
    "from transformers import (AutoTokenizer, \n",
    "                          AutoModelForSequenceClassification, get_scheduler)\n",
    "\n",
    "# Загружаем данные\n",
    "df = pd.read_csv('toxic.csv')\n",
    "df.columns = ['text','label']\n",
    "df['label'] = df['label'].astype(int)\n",
    "\n",
    "# Конвертируем датафрейм в Dataset\n",
    "train, test = train_test_split(df, test_size=0.2)\n",
    "train = Dataset.from_pandas(train)\n",
    "test = Dataset.from_pandas(test)\n",
    "\n",
    "# Выполняем предобработку текста\n",
    "tokenizer = AutoTokenizer.from_pretrained(\n",
    "\t'SkolkovoInstitute/russian_toxicity_classifier')\n",
    "\n",
    "def tokenize_function(examples):\n",
    "\treturn tokenizer(examples['text'], padding='max_length', truncation=True)\n",
    "\n",
    "def ds_preproc(ds):\n",
    "\tds = ds.map(tokenize_function)\n",
    "\tds = ds.remove_columns(['text', 'index_level_0'])\n",
    "\tds = ds.rename_column('label', 'labels')\n",
    "\tds.set_format('torch')\n",
    "\treturn ds\n",
    "\n",
    "tokenized_train = ds_preproc(train)\n",
    "tokenized_test = ds_preproc(test)\n",
    "\n",
    "# Создаем даталоадер\n",
    "train_dataloader = DataLoader(tokenized_train, shuffle=True, batch_size=8)\n",
    "test_dataloader = DataLoader(tokenized_test, batch_size=8)\n",
    "\n",
    "# Загружаем модель и указываем кол-во классов\n",
    "model = AutoModelForSequenceClassification.from_pretrained(\n",
    "\t'SkolkovoInstitute/russian_toxicity_classifier',\n",
    "\tnum_labels=2)\n",
    "\n",
    "# Задаем оптимайзер и шедулер\n",
    "optimizer = AdamW(model.parameters(), lr=5e-6)\n",
    "\n",
    "num_epochs = 5\n",
    "num_training_steps = num_epochs * len(train_dataloader)\n",
    "\n",
    "lr_scheduler = get_scheduler(\n",
    "\tname = 'linear',\n",
    "\toptimizer = optimizer,\n",
    "\tnum_warmup_steps = 0,\n",
    "\tnum_training_steps = num_training_steps)\n",
    "\n",
    "device = 'cuda'\n",
    "model.to(device)\n",
    "\n",
    "# Выполняем цикл...\n",
    "for epoch in tqdm(range(num_epochs)):\n",
    "\n",
    "\t#... обучения\n",
    "\tmodel.train()\n",
    "\tfor batch in tqdm(train_dataloader, leave=False):\n",
    "        batch = {k: v.to(device) for k, v in batch.items()}\n",
    "        outputs = model(**batch)\n",
    "        loss = outputs.loss\n",
    "        loss.backward()\n",
    "        optimizer.step()\n",
    "    \tlr_scheduler.step()\n",
    "    \toptimizer.zero_grad()\n",
    "\n",
    "\t#... оценки\n",
    "\tmetric = evaluate.load('f1')\n",
    "\n",
    "\tmodel.eval()\n",
    "\tfor batch in tqdm(test_dataloader, leave=False):\n",
    "    \tbatch = {k: v.to(device) for k, v in batch.items()}\n",
    "    \twith torch.no_grad():\n",
    "        \toutputs = model(**batch)\n",
    "    \tlogits = outputs.logits\n",
    "    \tpredictions = torch.argmax(logits, dim=-1)\n",
    "\n",
    "    \tmetric.add_batch(predictions=predictions, references=batch['labels'])\n",
    "\n",
    "\tprint(f'epoch {epoch} -', metric.compute())\n",
    "\n",
    "# Сохраняем модель\n",
    "save_directory = './pt_save_pretrained'\n",
    "model.save_pretrained(save_directory)"
   ]
  },
  {
   "cell_type": "markdown",
   "metadata": {},
   "source": [
    "### Вытащить эмбединги"
   ]
  },
  {
   "cell_type": "markdown",
   "metadata": {},
   "source": [
    "Вручную"
   ]
  },
  {
   "cell_type": "code",
   "execution_count": null,
   "metadata": {},
   "outputs": [],
   "source": [
    "import torch\n",
    "import pandas as pd\n",
    "from transformers import AutoTokenizer, AutoModel\n",
    "\n",
    "#Mean Pooling - Take attention mask into account for correct averaging\n",
    "def mean_pooling(model_output, attention_mask):\n",
    "\ttoken_embeddings = model_output[0] #First element of model_output contains all token embeddings\n",
    "\tinput_mask_expanded = attention_mask.unsqueeze(-1).expand(token_embeddings.size()).float()\n",
    "\tsum_embeddings = torch.sum(token_embeddings * input_mask_expanded, 1)\n",
    "\tsum_mask = torch.clamp(input_mask_expanded.sum(1), min=1e-9)\n",
    "\treturn sum_embeddings / sum_mask\n",
    "\n",
    "#Sentences we want sentence embeddings for\n",
    "sentences = ['This framework generates embeddings for each input sentence',\n",
    "             'Sentences are passed as a list of string.',\n",
    "             'The quick brown fox jumps over the lazy dog.']\n",
    "\n",
    "#Load AutoModel from huggingface model repository\n",
    "tokenizer = AutoTokenizer.from_pretrained(\n",
    "\t'sentence-transformers/all-MiniLM-L6-v2')\n",
    "model = AutoModel.from_pretrained(\n",
    "\t'sentence-transformers/all-MiniLM-L6-v2')\n",
    "\n",
    "#Tokenize sentences\n",
    "encoded_input = tokenizer(\n",
    "\tsentences, \n",
    "\tpadding=True, \n",
    "\ttruncation=True, \n",
    "\tmax_length=128, \n",
    "\treturn_tensors='pt')\n",
    "\n",
    "#Compute token embeddings\n",
    "with torch.no_grad():\n",
    "\tmodel_output = model(encoded_input)\n",
    "\n",
    "#Perform pooling. In this case, mean pooling\n",
    "sentence_embeddings = mean_pooling(\n",
    "\tmodel_output,\n",
    "\tencoded_input['attention_mask'])\n",
    "\n",
    "df = pd.DataFrame(sentence_embeddings).astype('float')"
   ]
  },
  {
   "cell_type": "markdown",
   "metadata": {},
   "source": [
    "Через SentenceTransformers"
   ]
  },
  {
   "cell_type": "code",
   "execution_count": null,
   "metadata": {},
   "outputs": [],
   "source": [
    "from sentence_transformers import SentenceTransformer\n",
    "\n",
    "model = SentenceTransformer('SkolkovoInstitute/russian_toxicity_classifier')\n",
    "\n",
    "text = ['У нас в есть убунты и текникал превью.',\n",
    "    \t'Как минимум два малолетних дегенерата в треде, мда.']\n",
    "\n",
    "embeddings = model.encode(text)\n",
    "\n",
    "df = pd.DataFrame(embeddings)"
   ]
  },
  {
   "cell_type": "markdown",
   "metadata": {},
   "source": [
    "## Примеры"
   ]
  },
  {
   "cell_type": "markdown",
   "metadata": {},
   "source": [
    "https://huggingface.co/docs/transformers/notebooks\n",
    "\n",
    "https://huggingface.co/docs/transformers/community#community-notebooks\n",
    "\n",
    "https://github.com/huggingface/transformers/tree/main/examples\n",
    "\n",
    "https://github.com/NielsRogge/Transformers-Tutorials\n",
    "\n",
    "Отдельно стоит отметить целый курс, посвященный трансформерам: https://huggingface.co/course/chapter1/1"
   ]
  }
 ],
 "metadata": {
  "kernelspec": {
   "display_name": "Python 3",
   "language": "python",
   "name": "python3"
  },
  "language_info": {
   "codemirror_mode": {
    "name": "ipython",
    "version": 3
   },
   "file_extension": ".py",
   "mimetype": "text/x-python",
   "name": "python",
   "nbconvert_exporter": "python",
   "pygments_lexer": "ipython3",
   "version": "3.11.0"
  }
 },
 "nbformat": 4,
 "nbformat_minor": 2
}
