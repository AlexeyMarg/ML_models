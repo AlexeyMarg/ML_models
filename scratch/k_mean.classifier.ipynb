{
 "cells": [
  {
   "cell_type": "markdown",
   "metadata": {},
   "source": [
    "# K-mean classifier"
   ]
  },
  {
   "cell_type": "code",
   "execution_count": 1,
   "metadata": {},
   "outputs": [],
   "source": [
    "import numpy as np\n",
    "from math import sqrt, pow\n",
    "\n",
    "class k_mean:\n",
    "    def __init__(self, k, dimension, max_deviation):\n",
    "        self.k = k\n",
    "        self.dimension = dimension\n",
    "        self.max_deviation = max_deviation\n",
    "        self.stored_data = np.empty((0, 0))\n",
    "        self.nearest_vectors = np.zeros((k, 2), float)\n",
    "        for i in range(k):\n",
    "            self.nearest_vectors[i][0] = 255\n",
    "            self.nearest_vectors[i][1] = -1\n",
    "\n",
    "    def train(self, path):\n",
    "        data = []\n",
    "        train_set_file = open(path, 'r')\n",
    "        while True:\n",
    "            s = train_set_file.readline()\n",
    "            if len(s) == 0:\n",
    "                break\n",
    "            data.append(s.split(','))\n",
    "        train_set_file.close()\n",
    "        self.stored_data = np.asfarray(data)\n",
    "\n",
    "    def rmse(self, loaded_vector, predict_vector):\n",
    "        summ = 0\n",
    "        for i in (loaded_vector[1:] - predict_vector):\n",
    "            summ += pow(i, 2)\n",
    "        return sqrt(summ / self.dimension)\n",
    "\n",
    "    def run_single(self, predict_vector):\n",
    "        for i in self.stored_data:\n",
    "            deviation = self.rmse(i.transpose(), predict_vector)\n",
    "            self.nearest_vectors = np.append(self.nearest_vectors, [[deviation, i[0]]], axis=0)\n",
    "            self.nearest_vectors = self.nearest_vectors[np.argsort(self.nearest_vectors[:,0])]\n",
    "            self.nearest_vectors  = self.nearest_vectors[:-1]\n",
    "\n",
    "        possible_classes = []\n",
    "        for i in self.nearest_vectors:\n",
    "            if i[1] not in possible_classes and i[1] != -1:\n",
    "                possible_classes.append(i[1])\n",
    "        for i in range(len(possible_classes)):\n",
    "            possible_classes[i] = [possible_classes[i], 0]\n",
    "        for i in self.nearest_vectors:\n",
    "            for j in possible_classes:\n",
    "                if i[1] == j[0]:\n",
    "                    j[1] += 1\n",
    "\n",
    "        for i in possible_classes:\n",
    "            i[0], i[1] = i[1], i[0]\n",
    "\n",
    "        return int(sorted(possible_classes)[0][1])\n",
    "\n",
    "    def test(self, train_path, test_path):\n",
    "        correct_answers = 0\n",
    "        wrong_answers = 0\n",
    "        print('Start training')\n",
    "        self.train(train_path)\n",
    "        print('Start testing')\n",
    "        test_set_file = open(test_path, 'r')\n",
    "        while True:\n",
    "            data = test_set_file.readline().split(',')\n",
    "            if len(data) == 0:\n",
    "                break\n",
    "            data = np.asfarray(data)\n",
    "            correct_label = data[0]\n",
    "            predict_vector = data[1:]\n",
    "            label = self.run_single(predict_vector)\n",
    "            if label == correct_label:\n",
    "                correct_answers += 1\n",
    "            else:\n",
    "                wrong_answers += 1\n",
    "            print('Total: ', correct_answers+wrong_answers, 'Correct: ', correct_answers, 'Incorrect:', wrong_answers)\n",
    "        test_set_file.close()"
   ]
  },
  {
   "cell_type": "markdown",
   "metadata": {},
   "source": [
    "## MNIST"
   ]
  },
  {
   "cell_type": "code",
   "execution_count": null,
   "metadata": {},
   "outputs": [],
   "source": [
    "k_mean_clf = k_mean(10, 28 * 28, 255)\n",
    "\n",
    "train_set_path = 'dataset/mnist_train.csv'\n",
    "test_set_path = 'dataset/mnist_test.csv'\n",
    "\n",
    "classifier = k_mean.k_mean(10, 28 * 28, 255)\n",
    "classifier.test(train_set_path, test_set_path)"
   ]
  }
 ],
 "metadata": {
  "kernelspec": {
   "display_name": "Python 3",
   "language": "python",
   "name": "python3"
  },
  "language_info": {
   "codemirror_mode": {
    "name": "ipython",
    "version": 3
   },
   "file_extension": ".py",
   "mimetype": "text/x-python",
   "name": "python",
   "nbconvert_exporter": "python",
   "pygments_lexer": "ipython3",
   "version": "3.11.5"
  }
 },
 "nbformat": 4,
 "nbformat_minor": 2
}
