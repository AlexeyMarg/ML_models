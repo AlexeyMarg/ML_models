{
 "cells": [
  {
   "cell_type": "markdown",
   "metadata": {},
   "source": [
    "# Using callbacks"
   ]
  },
  {
   "cell_type": "markdown",
   "metadata": {},
   "source": [
    "- Model checkpointing—Saving the current state of the model at different points during training.\n",
    "-  Early stopping—Interrupting training when the validation loss is no longer improving (and of course, saving the best model obtained during training).\n",
    "-  Dynamically adjusting the value of certain parameters during training—Such as the learning rate of the optimizer.\n",
    "- Logging training and validation metrics during training, or visualizing the representations learned by the model as they’re updated"
   ]
  },
  {
   "cell_type": "markdown",
   "metadata": {},
   "source": [
    "## THE EarlyStopping AND ModelCheckpoint. CALLBACKS"
   ]
  },
  {
   "cell_type": "code",
   "execution_count": 3,
   "metadata": {},
   "outputs": [],
   "source": [
    "import tensorflow as tf\n",
    "from tensorflow import keras\n",
    "from tensorflow.keras.datasets import mnist\n",
    "from tensorflow.keras import layers"
   ]
  },
  {
   "cell_type": "code",
   "execution_count": 5,
   "metadata": {},
   "outputs": [],
   "source": [
    "def get_mnist_model():\n",
    "    inputs = keras.Input(shape=(28*28,))\n",
    "    features = layers.Dense(512, activation='relu')(inputs)\n",
    "    features = layers.Dropout(0.5)(features)\n",
    "    outputs = layers.Dense(10, activation='softmax')(features)\n",
    "    model = keras.Model(inputs, outputs)\n",
    "    return model"
   ]
  },
  {
   "cell_type": "code",
   "execution_count": 9,
   "metadata": {},
   "outputs": [],
   "source": [
    "(train_images, train_labels), (test_images, test_labels) = mnist.load_data()\n",
    "train_images = train_images.reshape(len(train_images), 28*28)/255 \n",
    "test_images = test_images.reshape(len(test_images), 28*28)/255 \n",
    "val_images, train_images = train_images[:10000], train_images[10000:]\n",
    "val_labels, train_labels = train_labels[:10000], train_labels[10000:]"
   ]
  },
  {
   "cell_type": "code",
   "execution_count": 10,
   "metadata": {},
   "outputs": [],
   "source": [
    "callbacks_list = [keras.callbacks.EarlyStopping(monitor='val_accuracy', patience=2), # stop if no improvement\n",
    "                  keras.callbacks.ModelCheckpoint(filepath='checkpoint_path', monitor='val_loss', save_best_only=True) # save after epoch\n",
    "]"
   ]
  },
  {
   "cell_type": "code",
   "execution_count": 13,
   "metadata": {},
   "outputs": [],
   "source": [
    "model = get_mnist_model()\n",
    "model.compile(optimizer='rmsprop',\n",
    "              loss='sparse_categorical_crossentropy',\n",
    "              metrics=['accuracy']\n",
    "              )"
   ]
  },
  {
   "cell_type": "code",
   "execution_count": 14,
   "metadata": {},
   "outputs": [
    {
     "name": "stdout",
     "output_type": "stream",
     "text": [
      "Epoch 1/10\n",
      "1563/1563 [==============================] - 8s 5ms/step - loss: 0.2965 - accuracy: 0.9121 - val_loss: 0.1507 - val_accuracy: 0.9566\n",
      "INFO:tensorflow:Assets written to: checkpoint_path\\assets\n",
      "Epoch 2/10\n",
      "1563/1563 [==============================] - 9s 6ms/step - loss: 0.1672 - accuracy: 0.9529 - val_loss: 0.1220 - val_accuracy: 0.9672\n",
      "INFO:tensorflow:Assets written to: checkpoint_path\\assets\n",
      "Epoch 3/10\n",
      "1563/1563 [==============================] - 8s 5ms/step - loss: 0.1369 - accuracy: 0.9630 - val_loss: 0.1092 - val_accuracy: 0.9722\n",
      "INFO:tensorflow:Assets written to: checkpoint_path\\assets\n",
      "Epoch 4/10\n",
      "1563/1563 [==============================] - 8s 5ms/step - loss: 0.1233 - accuracy: 0.9675 - val_loss: 0.1122 - val_accuracy: 0.9733\n",
      "Epoch 5/10\n",
      "1563/1563 [==============================] - 8s 5ms/step - loss: 0.1154 - accuracy: 0.9706 - val_loss: 0.1110 - val_accuracy: 0.9743\n",
      "Epoch 6/10\n",
      "1563/1563 [==============================] - 8s 5ms/step - loss: 0.1098 - accuracy: 0.9726 - val_loss: 0.1094 - val_accuracy: 0.9760\n",
      "Epoch 7/10\n",
      "1563/1563 [==============================] - 8s 5ms/step - loss: 0.1068 - accuracy: 0.9754 - val_loss: 0.1136 - val_accuracy: 0.9760\n",
      "Epoch 8/10\n",
      "1563/1563 [==============================] - 8s 5ms/step - loss: 0.1022 - accuracy: 0.9761 - val_loss: 0.1040 - val_accuracy: 0.9784\n",
      "INFO:tensorflow:Assets written to: checkpoint_path\\assets\n",
      "Epoch 9/10\n",
      "1563/1563 [==============================] - 9s 6ms/step - loss: 0.1007 - accuracy: 0.9780 - val_loss: 0.1156 - val_accuracy: 0.9790\n",
      "Epoch 10/10\n",
      "1563/1563 [==============================] - 8s 5ms/step - loss: 0.0934 - accuracy: 0.9783 - val_loss: 0.1065 - val_accuracy: 0.9800\n"
     ]
    },
    {
     "data": {
      "text/plain": [
       "<keras.callbacks.History at 0x158bc9c0448>"
      ]
     },
     "execution_count": 14,
     "metadata": {},
     "output_type": "execute_result"
    }
   ],
   "source": [
    "model.fit(train_images, train_labels,\n",
    "          epochs=10,\n",
    "          callbacks=callbacks_list,\n",
    "          validation_data=(val_images, val_labels))"
   ]
  },
  {
   "cell_type": "code",
   "execution_count": null,
   "metadata": {},
   "outputs": [],
   "source": [
    "'''\n",
    "User defined callbacks from class keras.callbacks.Callback\n",
    "\n",
    "on_epoch_begin(epoch, logs)\n",
    "on_epoch_end(epoch, logs)\n",
    "on_batch_begin(batch, logs)\n",
    "on_batch_end(batch, logs)\n",
    "on_train_begin(logs)\n",
    "on_train_end(logs)\n",
    "\n",
    "'''"
   ]
  },
  {
   "cell_type": "code",
   "execution_count": 15,
   "metadata": {},
   "outputs": [],
   "source": [
    "import matplotlib.pyplot as plt\n",
    "\n",
    "class LossHoistory(keras.callbacks.Callback):\n",
    "    def on_train_begin(self, logs):\n",
    "        self.per_batch_losses = []\n",
    "        \n",
    "    def on_batch_end(self, batch, logs):\n",
    "        self.per_batch_losses.append(logs.get('loss'))\n",
    "        \n",
    "    def on_epoch_end(self, epoch, logs):\n",
    "        plt.clf()\n",
    "        plt.plot(range(len(self.per_batch_losses)), self.per_batch_losses, label=\"Training loss for each batch\")\n",
    "        plt.xlabel(f\"Batch (epoch {epoch})\")\n",
    "        plt.ylabel(\"Loss\")\n",
    "        plt.legend()\n",
    "        #plt.savefig(f\"plot_at_epoch_{epoch}\")\n",
    "        self.per_batch_losses = []"
   ]
  },
  {
   "cell_type": "code",
   "execution_count": 16,
   "metadata": {},
   "outputs": [
    {
     "name": "stdout",
     "output_type": "stream",
     "text": [
      "Epoch 1/10\n",
      "1563/1563 [==============================] - 8s 5ms/step - loss: 0.2967 - accuracy: 0.9107 - val_loss: 0.1528 - val_accuracy: 0.9556\n",
      "Epoch 2/10\n",
      "1563/1563 [==============================] - 8s 5ms/step - loss: 0.1641 - accuracy: 0.9539 - val_loss: 0.1292 - val_accuracy: 0.9641\n",
      "Epoch 3/10\n",
      "1563/1563 [==============================] - 8s 5ms/step - loss: 0.1408 - accuracy: 0.9625 - val_loss: 0.1105 - val_accuracy: 0.9714\n",
      "Epoch 4/10\n",
      "1563/1563 [==============================] - 8s 5ms/step - loss: 0.1248 - accuracy: 0.9673 - val_loss: 0.1133 - val_accuracy: 0.9719\n",
      "Epoch 5/10\n",
      "1563/1563 [==============================] - 8s 5ms/step - loss: 0.1152 - accuracy: 0.9704 - val_loss: 0.1078 - val_accuracy: 0.9745\n",
      "Epoch 6/10\n",
      "1563/1563 [==============================] - 8s 5ms/step - loss: 0.1082 - accuracy: 0.9727 - val_loss: 0.1052 - val_accuracy: 0.9758\n",
      "Epoch 7/10\n",
      "1563/1563 [==============================] - 8s 5ms/step - loss: 0.1037 - accuracy: 0.9751 - val_loss: 0.1038 - val_accuracy: 0.9761\n",
      "Epoch 8/10\n",
      "1563/1563 [==============================] - 9s 5ms/step - loss: 0.0992 - accuracy: 0.9774 - val_loss: 0.1123 - val_accuracy: 0.9767\n",
      "Epoch 9/10\n",
      "1563/1563 [==============================] - 8s 5ms/step - loss: 0.0955 - accuracy: 0.9777 - val_loss: 0.1054 - val_accuracy: 0.9784\n",
      "Epoch 10/10\n",
      "1563/1563 [==============================] - 8s 5ms/step - loss: 0.0952 - accuracy: 0.9784 - val_loss: 0.1197 - val_accuracy: 0.9777\n"
     ]
    },
    {
     "data": {
      "text/plain": [
       "<keras.callbacks.History at 0x158c17e4688>"
      ]
     },
     "execution_count": 16,
     "metadata": {},
     "output_type": "execute_result"
    },
    {
     "data": {
      "image/png": "[encoded data removed]",
      "text/plain": [
       "<Figure size 432x288 with 1 Axes>"
      ]
     },
     "metadata": {
      "needs_background": "light"
     },
     "output_type": "display_data"
    }
   ],
   "source": [
    "model = get_mnist_model()\n",
    "model.compile(optimizer='rmsprop',\n",
    "              loss='sparse_categorical_crossentropy',\n",
    "              metrics=['accuracy']\n",
    "              )\n",
    "\n",
    "model.fit(train_images, train_labels,\n",
    "          epochs=10,\n",
    "          callbacks=[LossHoistory()],\n",
    "          validation_data=(val_images, val_labels))"
   ]
  },
  {
   "cell_type": "markdown",
   "metadata": {},
   "source": [
    "## Tensorboard"
   ]
  },
  {
   "cell_type": "code",
   "execution_count": 18,
   "metadata": {},
   "outputs": [
    {
     "name": "stdout",
     "output_type": "stream",
     "text": [
      "Epoch 1/10\n",
      "1563/1563 [==============================] - 10s 6ms/step - loss: 0.2931 - accuracy: 0.9130 - val_loss: 0.1592 - val_accuracy: 0.9555\n",
      "Epoch 2/10\n",
      "1563/1563 [==============================] - 8s 5ms/step - loss: 0.1661 - accuracy: 0.9529 - val_loss: 0.1288 - val_accuracy: 0.9667\n",
      "Epoch 3/10\n",
      "1563/1563 [==============================] - 8s 5ms/step - loss: 0.1392 - accuracy: 0.9626 - val_loss: 0.1142 - val_accuracy: 0.9714\n",
      "Epoch 4/10\n",
      "1563/1563 [==============================] - 10s 6ms/step - loss: 0.1256 - accuracy: 0.9675 - val_loss: 0.1155 - val_accuracy: 0.9744\n",
      "Epoch 5/10\n",
      "1563/1563 [==============================] - 9s 6ms/step - loss: 0.1133 - accuracy: 0.9715 - val_loss: 0.1124 - val_accuracy: 0.9749\n",
      "Epoch 6/10\n",
      "1563/1563 [==============================] - 8s 5ms/step - loss: 0.1114 - accuracy: 0.9732 - val_loss: 0.1142 - val_accuracy: 0.9768\n",
      "Epoch 7/10\n",
      "1563/1563 [==============================] - 8s 5ms/step - loss: 0.1080 - accuracy: 0.9747 - val_loss: 0.1119 - val_accuracy: 0.9763\n",
      "Epoch 8/10\n",
      "1563/1563 [==============================] - 8s 5ms/step - loss: 0.1024 - accuracy: 0.9760 - val_loss: 0.1111 - val_accuracy: 0.9772\n",
      "Epoch 9/10\n",
      "1563/1563 [==============================] - 8s 5ms/step - loss: 0.0979 - accuracy: 0.9779 - val_loss: 0.1233 - val_accuracy: 0.9754\n",
      "Epoch 10/10\n",
      "1563/1563 [==============================] - 8s 5ms/step - loss: 0.0958 - accuracy: 0.9779 - val_loss: 0.1277 - val_accuracy: 0.9776\n"
     ]
    },
    {
     "data": {
      "text/plain": [
       "<keras.callbacks.History at 0x158bc9492c8>"
      ]
     },
     "execution_count": 18,
     "metadata": {},
     "output_type": "execute_result"
    }
   ],
   "source": [
    "model = get_mnist_model()\n",
    "model.compile(optimizer='rmsprop',\n",
    "              loss='sparse_categorical_crossentropy',\n",
    "              metrics=['accuracy'])\n",
    "\n",
    "tensorboard = keras.callbacks.TensorBoard('tensorboard_log_dir')\n",
    "\n",
    "model.fit(train_images, train_labels, epochs=10, validation_data=(val_images, val_labels), callbacks=[tensorboard])"
   ]
  },
  {
   "cell_type": "code",
   "execution_count": null,
   "metadata": {},
   "outputs": [],
   "source": []
  }
 ],
 "metadata": {
  "interpreter": {
   "hash": "e922dd073470bdcc017ae3abd31d6491d6ed7bf31c1d559806e5511bfea88b81"
  },
  "kernelspec": {
   "display_name": "Python 3.7.5 64-bit",
   "language": "python",
   "name": "python3"
  },
  "language_info": {
   "codemirror_mode": {
    "name": "ipython",
    "version": 3
   },
   "file_extension": ".py",
   "mimetype": "text/x-python",
   "name": "python",
   "nbconvert_exporter": "python",
   "pygments_lexer": "ipython3",
   "version": "3.7.5"
  },
  "orig_nbformat": 4
 },
 "nbformat": 4,
 "nbformat_minor": 2
}
