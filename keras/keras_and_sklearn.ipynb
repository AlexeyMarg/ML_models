{
 "cells": [
  {
   "attachments": {},
   "cell_type": "markdown",
   "metadata": {},
   "source": [
    "# Evaluate Deep Learning Models with Cross Validation"
   ]
  },
  {
   "cell_type": "code",
   "execution_count": 3,
   "metadata": {},
   "outputs": [],
   "source": [
    "from keras.models import Sequential\n",
    "from keras.layers import Dense\n",
    "from scikeras.wrappers import KerasClassifier\n",
    "from sklearn.model_selection import GridSearchCV\n",
    "from sklearn.datasets import load_breast_cancer\n",
    "from sklearn.model_selection import StratifiedKFold, cross_val_score\n",
    "import numpy as np"
   ]
  },
  {
   "cell_type": "code",
   "execution_count": 6,
   "metadata": {},
   "outputs": [
    {
     "data": {
      "text/plain": [
       "((569, 30), (569,))"
      ]
     },
     "execution_count": 6,
     "metadata": {},
     "output_type": "execute_result"
    }
   ],
   "source": [
    "X, y = load_breast_cancer(return_X_y=True)\n",
    "X.shape, y.shape"
   ]
  },
  {
   "cell_type": "code",
   "execution_count": 8,
   "metadata": {},
   "outputs": [],
   "source": [
    "def create_model():\n",
    "    model = Sequential()\n",
    "    model.add(Dense(60, input_dim=30, activation='relu'))\n",
    "    model.add(Dense(15, input_dim=30, activation='relu'))\n",
    "    model.add(Dense(1, input_dim=30, activation='sigmoid'))\n",
    "    model.compile(loss='binary_crossentropy', optimizer='adam', metrics=['accuracy'])\n",
    "    return model"
   ]
  },
  {
   "cell_type": "code",
   "execution_count": 9,
   "metadata": {},
   "outputs": [],
   "source": [
    "model = KerasClassifier(model=create_model, epochs=150, batch_size=10, verbose=0)\n",
    "kfold = StratifiedKFold(n_splits=3, shuffle=True)"
   ]
  },
  {
   "cell_type": "code",
   "execution_count": 11,
   "metadata": {},
   "outputs": [
    {
     "data": {
      "text/plain": [
       "0.9419845911073982"
      ]
     },
     "execution_count": 11,
     "metadata": {},
     "output_type": "execute_result"
    }
   ],
   "source": [
    "results = cross_val_score(model, X, y, cv=kfold)\n",
    "results.mean()"
   ]
  },
  {
   "attachments": {},
   "cell_type": "markdown",
   "metadata": {},
   "source": [
    "# Grid Search Deep Learning Model Parameters"
   ]
  },
  {
   "cell_type": "code",
   "execution_count": 12,
   "metadata": {},
   "outputs": [],
   "source": [
    "def create_model(optimizer='rmsprop', init='glorot_uniform'):\n",
    "    model = Sequential()\n",
    "    model.add(Dense(60, input_dim=30, activation='relu'))\n",
    "    model.add(Dense(15, input_dim=30, activation='relu'))\n",
    "    model.add(Dense(1, input_dim=30, activation='sigmoid'))\n",
    "    model.compile(loss='binary_crossentropy', optimizer=optimizer, metrics=['accuracy'])\n",
    "    return model"
   ]
  },
  {
   "cell_type": "code",
   "execution_count": 13,
   "metadata": {},
   "outputs": [],
   "source": [
    "model = KerasClassifier(model=create_model, verbose=0)\n",
    "optimizers = ['rmsprop', 'adam']\n",
    "init = ['glorot_uniform', 'normal', 'uniform']\n",
    "epochs = [50, 100, 150]\n",
    "batches = [5, 10, 20]\n",
    "param_grid = dict(optimizer=optimizers, epochs=epochs, batch_size=batches, model__init=init)\n",
    "grid = GridSearchCV(estimator=model, param_grid=param_grid)"
   ]
  },
  {
   "cell_type": "code",
   "execution_count": 14,
   "metadata": {},
   "outputs": [],
   "source": [
    "grid_result = grid.fit(X, y)"
   ]
  },
  {
   "cell_type": "code",
   "execution_count": 15,
   "metadata": {},
   "outputs": [
    {
     "name": "stdout",
     "output_type": "stream",
     "text": [
      "Best: 0.940273 using {'batch_size': 10, 'epochs': 100, 'model__init': 'normal', 'optimizer': 'adam'}\n",
      "0.899752 (0.041612) with: {'batch_size': 5, 'epochs': 50, 'model__init': 'glorot_uniform', 'optimizer': 'rmsprop'}\n",
      "0.911986 (0.040207) with: {'batch_size': 5, 'epochs': 50, 'model__init': 'glorot_uniform', 'optimizer': 'adam'}\n",
      "0.934964 (0.004454) with: {'batch_size': 5, 'epochs': 50, 'model__init': 'normal', 'optimizer': 'rmsprop'}\n",
      "0.927930 (0.015159) with: {'batch_size': 5, 'epochs': 50, 'model__init': 'normal', 'optimizer': 'adam'}\n",
      "0.919127 (0.017171) with: {'batch_size': 5, 'epochs': 50, 'model__init': 'uniform', 'optimizer': 'rmsprop'}\n",
      "0.913942 (0.024309) with: {'batch_size': 5, 'epochs': 50, 'model__init': 'uniform', 'optimizer': 'adam'}\n",
      "0.910387 (0.040506) with: {'batch_size': 5, 'epochs': 100, 'model__init': 'glorot_uniform', 'optimizer': 'rmsprop'}\n",
      "0.915634 (0.011949) with: {'batch_size': 5, 'epochs': 100, 'model__init': 'glorot_uniform', 'optimizer': 'adam'}\n",
      "0.934964 (0.019728) with: {'batch_size': 5, 'epochs': 100, 'model__init': 'normal', 'optimizer': 'rmsprop'}\n",
      "0.924391 (0.013404) with: {'batch_size': 5, 'epochs': 100, 'model__init': 'normal', 'optimizer': 'adam'}\n",
      "0.931470 (0.024406) with: {'batch_size': 5, 'epochs': 100, 'model__init': 'uniform', 'optimizer': 'rmsprop'}\n",
      "0.924422 (0.025201) with: {'batch_size': 5, 'epochs': 100, 'model__init': 'uniform', 'optimizer': 'adam'}\n",
      "0.917389 (0.018110) with: {'batch_size': 5, 'epochs': 150, 'model__init': 'glorot_uniform', 'optimizer': 'rmsprop'}\n",
      "0.933178 (0.014484) with: {'batch_size': 5, 'epochs': 150, 'model__init': 'glorot_uniform', 'optimizer': 'adam'}\n",
      "0.929731 (0.030837) with: {'batch_size': 5, 'epochs': 150, 'model__init': 'normal', 'optimizer': 'rmsprop'}\n",
      "0.889365 (0.066633) with: {'batch_size': 5, 'epochs': 150, 'model__init': 'normal', 'optimizer': 'adam'}\n",
      "0.940242 (0.010251) with: {'batch_size': 5, 'epochs': 150, 'model__init': 'uniform', 'optimizer': 'rmsprop'}\n",
      "0.938472 (0.005746) with: {'batch_size': 5, 'epochs': 150, 'model__init': 'uniform', 'optimizer': 'adam'}\n",
      "0.843580 (0.146199) with: {'batch_size': 10, 'epochs': 50, 'model__init': 'glorot_uniform', 'optimizer': 'rmsprop'}\n",
      "0.866372 (0.036821) with: {'batch_size': 10, 'epochs': 50, 'model__init': 'glorot_uniform', 'optimizer': 'adam'}\n",
      "0.813787 (0.119720) with: {'batch_size': 10, 'epochs': 50, 'model__init': 'normal', 'optimizer': 'rmsprop'}\n",
      "0.929685 (0.009740) with: {'batch_size': 10, 'epochs': 50, 'model__init': 'normal', 'optimizer': 'adam'}\n",
      "0.834311 (0.142017) with: {'batch_size': 10, 'epochs': 50, 'model__init': 'uniform', 'optimizer': 'rmsprop'}\n",
      "0.889117 (0.052260) with: {'batch_size': 10, 'epochs': 50, 'model__init': 'uniform', 'optimizer': 'adam'}\n",
      "0.913911 (0.023716) with: {'batch_size': 10, 'epochs': 100, 'model__init': 'glorot_uniform', 'optimizer': 'rmsprop'}\n",
      "0.873560 (0.121186) with: {'batch_size': 10, 'epochs': 100, 'model__init': 'glorot_uniform', 'optimizer': 'adam'}\n",
      "0.896398 (0.065899) with: {'batch_size': 10, 'epochs': 100, 'model__init': 'normal', 'optimizer': 'rmsprop'}\n",
      "0.940273 (0.013948) with: {'batch_size': 10, 'epochs': 100, 'model__init': 'normal', 'optimizer': 'adam'}\n",
      "0.927915 (0.011850) with: {'batch_size': 10, 'epochs': 100, 'model__init': 'uniform', 'optimizer': 'rmsprop'}\n",
      "0.894519 (0.048446) with: {'batch_size': 10, 'epochs': 100, 'model__init': 'uniform', 'optimizer': 'adam'}\n",
      "0.861279 (0.112315) with: {'batch_size': 10, 'epochs': 150, 'model__init': 'glorot_uniform', 'optimizer': 'rmsprop'}\n",
      "0.936749 (0.015028) with: {'batch_size': 10, 'epochs': 150, 'model__init': 'glorot_uniform', 'optimizer': 'adam'}\n",
      "0.926129 (0.018389) with: {'batch_size': 10, 'epochs': 150, 'model__init': 'normal', 'optimizer': 'rmsprop'}\n",
      "0.922652 (0.017108) with: {'batch_size': 10, 'epochs': 150, 'model__init': 'normal', 'optimizer': 'adam'}\n",
      "0.920944 (0.022106) with: {'batch_size': 10, 'epochs': 150, 'model__init': 'uniform', 'optimizer': 'rmsprop'}\n",
      "0.857802 (0.111076) with: {'batch_size': 10, 'epochs': 150, 'model__init': 'uniform', 'optimizer': 'adam'}\n",
      "0.804937 (0.097868) with: {'batch_size': 20, 'epochs': 50, 'model__init': 'glorot_uniform', 'optimizer': 'rmsprop'}\n",
      "0.908617 (0.032618) with: {'batch_size': 20, 'epochs': 50, 'model__init': 'glorot_uniform', 'optimizer': 'adam'}\n",
      "0.846887 (0.072412) with: {'batch_size': 20, 'epochs': 50, 'model__init': 'normal', 'optimizer': 'rmsprop'}\n",
      "0.803369 (0.186125) with: {'batch_size': 20, 'epochs': 50, 'model__init': 'normal', 'optimizer': 'adam'}\n",
      "0.857258 (0.119305) with: {'batch_size': 20, 'epochs': 50, 'model__init': 'uniform', 'optimizer': 'rmsprop'}\n",
      "0.891057 (0.026876) with: {'batch_size': 20, 'epochs': 50, 'model__init': 'uniform', 'optimizer': 'adam'}\n",
      "0.889194 (0.034410) with: {'batch_size': 20, 'epochs': 100, 'model__init': 'glorot_uniform', 'optimizer': 'rmsprop'}\n",
      "0.894457 (0.031367) with: {'batch_size': 20, 'epochs': 100, 'model__init': 'glorot_uniform', 'optimizer': 'adam'}\n",
      "0.894519 (0.045497) with: {'batch_size': 20, 'epochs': 100, 'model__init': 'normal', 'optimizer': 'rmsprop'}\n",
      "0.924453 (0.028561) with: {'batch_size': 20, 'epochs': 100, 'model__init': 'normal', 'optimizer': 'adam'}\n",
      "0.920944 (0.022106) with: {'batch_size': 20, 'epochs': 100, 'model__init': 'uniform', 'optimizer': 'rmsprop'}\n",
      "0.917342 (0.016662) with: {'batch_size': 20, 'epochs': 100, 'model__init': 'uniform', 'optimizer': 'adam'}\n",
      "0.924468 (0.029074) with: {'batch_size': 20, 'epochs': 150, 'model__init': 'glorot_uniform', 'optimizer': 'rmsprop'}\n",
      "0.906754 (0.036198) with: {'batch_size': 20, 'epochs': 150, 'model__init': 'glorot_uniform', 'optimizer': 'adam'}\n",
      "0.878792 (0.080217) with: {'batch_size': 20, 'epochs': 150, 'model__init': 'normal', 'optimizer': 'rmsprop'}\n",
      "0.898121 (0.065254) with: {'batch_size': 20, 'epochs': 150, 'model__init': 'normal', 'optimizer': 'adam'}\n",
      "0.855535 (0.102815) with: {'batch_size': 20, 'epochs': 150, 'model__init': 'uniform', 'optimizer': 'rmsprop'}\n",
      "0.899550 (0.078290) with: {'batch_size': 20, 'epochs': 150, 'model__init': 'uniform', 'optimizer': 'adam'}\n"
     ]
    }
   ],
   "source": [
    "print(\"Best: %f using %s\" % (grid_result.best_score_, grid_result.best_params_))\n",
    "means = grid_result.cv_results_['mean_test_score']\n",
    "stds = grid_result.cv_results_['std_test_score']\n",
    "params = grid_result.cv_results_['params']\n",
    "for mean, stdev, param in zip(means, stds, params):\n",
    "    print(\"%f (%f) with: %r\" % (mean, stdev, param))"
   ]
  },
  {
   "cell_type": "code",
   "execution_count": null,
   "metadata": {},
   "outputs": [],
   "source": []
  }
 ],
 "metadata": {
  "kernelspec": {
   "display_name": "Python 3",
   "language": "python",
   "name": "python3"
  },
  "language_info": {
   "codemirror_mode": {
    "name": "ipython",
    "version": 3
   },
   "file_extension": ".py",
   "mimetype": "text/x-python",
   "name": "python",
   "nbconvert_exporter": "python",
   "pygments_lexer": "ipython3",
   "version": "3.9.12"
  },
  "orig_nbformat": 4
 },
 "nbformat": 4,
 "nbformat_minor": 2
}
