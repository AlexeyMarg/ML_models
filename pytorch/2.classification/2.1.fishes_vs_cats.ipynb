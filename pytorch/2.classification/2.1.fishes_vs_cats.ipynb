{
 "cells": [
  {
   "attachments": {},
   "cell_type": "markdown",
   "metadata": {},
   "source": [
    "# Классификация рыб и котов"
   ]
  },
  {
   "cell_type": "code",
   "execution_count": 91,
   "metadata": {},
   "outputs": [],
   "source": [
    "import torchvision, torch\n",
    "from torchvision import transforms"
   ]
  },
  {
   "cell_type": "code",
   "execution_count": 92,
   "metadata": {},
   "outputs": [],
   "source": [
    "train_data_path = './Fish-vs-Cats/train/'\n",
    "\n",
    "transforms = transforms.Compose([\n",
    "    transforms.Resize((64, 64)),\n",
    "    transforms.ToTensor(),\n",
    "    transforms.Normalize(mean=[0.485, 0.456, 0.406], std=[0.229, 0.224, 0.225] )\n",
    "])\n",
    "\n",
    "train_data = torchvision.datasets.ImageFolder(root=train_data_path, transform=transforms)"
   ]
  },
  {
   "cell_type": "code",
   "execution_count": 93,
   "metadata": {},
   "outputs": [
    {
     "data": {
      "text/plain": [
       "(800,\n",
       " (tensor([[[-0.6965, -0.6965, -0.6109,  ..., -0.2684, -0.3027, -0.4397],\n",
       "           [-0.6965, -0.6794, -0.5938,  ..., -0.3027, -0.2856, -0.3883],\n",
       "           [-0.6281, -0.5938, -0.5767,  ..., -0.2856, -0.3198, -0.3369],\n",
       "           ...,\n",
       "           [-0.3198, -0.3198, -0.2513,  ..., -1.1760, -0.8164, -0.4911],\n",
       "           [-0.3712, -0.3027, -0.2856,  ..., -1.4329, -1.2617, -0.8335],\n",
       "           [-0.3027, -0.2342, -0.2856,  ..., -1.4500, -1.4500, -1.2617]],\n",
       "  \n",
       "          [[-0.6702, -0.7052, -0.6352,  ..., -0.2500, -0.2500, -0.4076],\n",
       "           [-0.6877, -0.6877, -0.6001,  ..., -0.2325, -0.2150, -0.3550],\n",
       "           [-0.6176, -0.6001, -0.5826,  ..., -0.1975, -0.2150, -0.2675],\n",
       "           ...,\n",
       "           [-0.1099, -0.1099, -0.0224,  ..., -1.2654, -0.9678, -0.8277],\n",
       "           [-0.1625, -0.0749, -0.0749,  ..., -1.4230, -1.3354, -1.0028],\n",
       "           [-0.1450, -0.0574, -0.0924,  ..., -1.4230, -1.4580, -1.3354]],\n",
       "  \n",
       "          [[-0.3927, -0.3927, -0.3230,  ...,  0.0082, -0.0092, -0.2010],\n",
       "           [-0.3927, -0.3927, -0.2881,  ...,  0.0431,  0.0256, -0.1312],\n",
       "           [-0.3055, -0.2881, -0.2532,  ...,  0.0605,  0.0431, -0.0092],\n",
       "           ...,\n",
       "           [ 0.3742,  0.3916,  0.4614,  ..., -1.0724, -0.8458, -0.7761],\n",
       "           [ 0.3393,  0.4091,  0.3916,  ..., -1.2293, -1.1421, -0.8458],\n",
       "           [ 0.3393,  0.4439,  0.4091,  ..., -1.2467, -1.2641, -1.1596]]]),\n",
       "  0))"
      ]
     },
     "execution_count": 93,
     "metadata": {},
     "output_type": "execute_result"
    }
   ],
   "source": [
    "len(train_data), train_data[0]"
   ]
  },
  {
   "cell_type": "code",
   "execution_count": 94,
   "metadata": {},
   "outputs": [],
   "source": [
    "val_data_path = './Fish-vs-Cats/val/'\n",
    "val_data = torchvision.datasets.ImageFolder(root=val_data_path, transform=transforms)"
   ]
  },
  {
   "cell_type": "code",
   "execution_count": 95,
   "metadata": {},
   "outputs": [
    {
     "data": {
      "text/plain": [
       "108"
      ]
     },
     "execution_count": 95,
     "metadata": {},
     "output_type": "execute_result"
    }
   ],
   "source": [
    "len(val_data)"
   ]
  },
  {
   "cell_type": "code",
   "execution_count": 96,
   "metadata": {},
   "outputs": [],
   "source": [
    "test_data_path = './Fish-vs-Cats/test/'\n",
    "test_data = torchvision.datasets.ImageFolder(root=test_data_path, transform=transforms)"
   ]
  },
  {
   "cell_type": "code",
   "execution_count": 97,
   "metadata": {},
   "outputs": [
    {
     "data": {
      "text/plain": [
       "160"
      ]
     },
     "execution_count": 97,
     "metadata": {},
     "output_type": "execute_result"
    }
   ],
   "source": [
    "len(test_data)"
   ]
  },
  {
   "cell_type": "code",
   "execution_count": 98,
   "metadata": {},
   "outputs": [],
   "source": [
    "batch_size = 64\n",
    "train_data_loader = torch.utils.data.DataLoader(train_data, batch_size)\n",
    "val_data_loader = torch.utils.data.DataLoader(val_data, batch_size)\n",
    "test_data_loader = torch.utils.data.DataLoader(test_data, batch_size)"
   ]
  },
  {
   "cell_type": "code",
   "execution_count": 99,
   "metadata": {},
   "outputs": [],
   "source": [
    "class simple_nn(torch.nn.Module):\n",
    "    def __init__(self):\n",
    "        super(simple_nn, self).__init__()\n",
    "        self.fc1 = torch.nn.Linear(64*64*3, 84)\n",
    "        self.fc2 = torch.nn.Linear(84, 50)\n",
    "        self.fc3 = torch.nn.Linear(50, 2)\n",
    "\n",
    "    def forward(self, x):\n",
    "        x = x.view(-1, 64*64*3)\n",
    "        x = torch.nn.functional.relu(self.fc1(x))\n",
    "        x = torch.nn.functional.relu(self.fc2(x))\n",
    "        return x"
   ]
  },
  {
   "cell_type": "code",
   "execution_count": 100,
   "metadata": {},
   "outputs": [],
   "source": [
    "net = simple_nn()"
   ]
  },
  {
   "cell_type": "code",
   "execution_count": 101,
   "metadata": {},
   "outputs": [],
   "source": [
    "import torch.optim as optim\n",
    "optimizer = optim.Adam(net.parameters(), lr=0.001)"
   ]
  },
  {
   "cell_type": "code",
   "execution_count": 102,
   "metadata": {},
   "outputs": [],
   "source": [
    "def train(model, optimizer, loss_fn, train_loader, val_loader, epochs=20, device=\"cpu\"):\n",
    "    for epoch in range(1, epochs+1):\n",
    "        training_loss = 0.0\n",
    "        valid_loss = 0.0\n",
    "        model.train()\n",
    "        for batch in train_loader:\n",
    "            optimizer.zero_grad()\n",
    "            inputs, targets = batch\n",
    "            inputs = inputs.to(device)\n",
    "            targets = targets.to(device)\n",
    "            output = model(inputs)\n",
    "            loss = loss_fn(output, targets)\n",
    "            loss.backward()\n",
    "            optimizer.step()\n",
    "            training_loss += loss.data.item() * inputs.size(0)\n",
    "        training_loss /= len(train_loader.dataset)\n",
    "        \n",
    "        model.eval()\n",
    "        num_correct = 0 \n",
    "        num_examples = 0\n",
    "        for batch in val_loader:\n",
    "            inputs, targets = batch\n",
    "            inputs = inputs.to(device)\n",
    "            output = model(inputs)\n",
    "            targets = targets.to(device)\n",
    "            loss = loss_fn(output,targets) \n",
    "            valid_loss += loss.data.item() * inputs.size(0)\n",
    "            correct = torch.eq(torch.max(torch.nn.functional.softmax(output, dim=1), dim=1)[1], targets)\n",
    "            num_correct += torch.sum(correct).item()\n",
    "            num_examples += correct.shape[0]\n",
    "        valid_loss /= len(val_loader.dataset)\n",
    "\n",
    "        print('Epoch: {}, Training Loss: {:.2f}, Validation Loss: {:.2f}, accuracy = {:.2f}'.format(epoch, training_loss,\n",
    "        valid_loss, num_correct / num_examples))"
   ]
  },
  {
   "cell_type": "code",
   "execution_count": 104,
   "metadata": {},
   "outputs": [
    {
     "name": "stdout",
     "output_type": "stream",
     "text": [
      "Epoch: 1, Training Loss: 1.68, Validation Loss: 2.10, accuracy = 0.75\n",
      "Epoch: 2, Training Loss: 1.22, Validation Loss: 2.03, accuracy = 0.76\n",
      "Epoch: 3, Training Loss: 0.79, Validation Loss: 2.33, accuracy = 0.66\n",
      "Epoch: 4, Training Loss: 0.90, Validation Loss: 1.74, accuracy = 0.72\n",
      "Epoch: 5, Training Loss: 0.63, Validation Loss: 1.82, accuracy = 0.71\n",
      "Epoch: 6, Training Loss: 0.56, Validation Loss: 1.82, accuracy = 0.69\n",
      "Epoch: 7, Training Loss: 0.55, Validation Loss: 1.74, accuracy = 0.71\n",
      "Epoch: 8, Training Loss: 0.50, Validation Loss: 1.76, accuracy = 0.70\n",
      "Epoch: 9, Training Loss: 0.48, Validation Loss: 1.68, accuracy = 0.72\n",
      "Epoch: 10, Training Loss: 0.45, Validation Loss: 1.70, accuracy = 0.72\n",
      "Epoch: 11, Training Loss: 0.42, Validation Loss: 1.68, accuracy = 0.72\n",
      "Epoch: 12, Training Loss: 0.39, Validation Loss: 1.62, accuracy = 0.74\n",
      "Epoch: 13, Training Loss: 0.37, Validation Loss: 1.63, accuracy = 0.75\n",
      "Epoch: 14, Training Loss: 0.35, Validation Loss: 1.66, accuracy = 0.69\n",
      "Epoch: 15, Training Loss: 0.32, Validation Loss: 1.48, accuracy = 0.68\n",
      "Epoch: 16, Training Loss: 0.30, Validation Loss: 1.64, accuracy = 0.72\n",
      "Epoch: 17, Training Loss: 0.27, Validation Loss: 1.64, accuracy = 0.73\n",
      "Epoch: 18, Training Loss: 0.26, Validation Loss: 1.62, accuracy = 0.74\n",
      "Epoch: 19, Training Loss: 0.25, Validation Loss: 1.64, accuracy = 0.75\n",
      "Epoch: 20, Training Loss: 0.24, Validation Loss: 1.65, accuracy = 0.76\n"
     ]
    }
   ],
   "source": [
    "if torch.cuda.is_available():\n",
    "    device = torch.device(\"cuda\") \n",
    "else:\n",
    "    device = torch.device(\"cpu\")\n",
    "\n",
    "net.to(device)\n",
    "\n",
    "train(net, optimizer,torch.nn.CrossEntropyLoss(), train_data_loader,val_data_loader, epochs=20, device=device)"
   ]
  },
  {
   "cell_type": "code",
   "execution_count": 105,
   "metadata": {},
   "outputs": [],
   "source": [
    "from PIL import Image, ImageFile\n",
    "\n",
    "ImageFile.LOAD_TRUNCATED_IMAGES=True"
   ]
  },
  {
   "cell_type": "code",
   "execution_count": 108,
   "metadata": {},
   "outputs": [
    {
     "name": "stdout",
     "output_type": "stream",
     "text": [
      "fish\n"
     ]
    }
   ],
   "source": [
    "labels = ['cat','fish']\n",
    "\n",
    "img = Image.open(\"./Fish-vs-Cats/val/fish/100_1422.JPG\") \n",
    "img = transforms(img).to(device)\n",
    "img = torch.unsqueeze(img, 0)\n",
    "\n",
    "net.eval()\n",
    "prediction = torch.nn.functional.softmax(net(img), dim=1)\n",
    "prediction = prediction.argmax()\n",
    "print(labels[prediction]) "
   ]
  },
  {
   "cell_type": "code",
   "execution_count": null,
   "metadata": {},
   "outputs": [],
   "source": [
    "torch.save(net, \"/tmp/simplenet\") \n",
    "simplenet = torch.load(\"/tmp/simplenet\")    "
   ]
  },
  {
   "cell_type": "code",
   "execution_count": null,
   "metadata": {},
   "outputs": [],
   "source": [
    "torch.save(simplenet.state_dict(), \"/tmp/simplenet\")    \n",
    "simplenet = simple_nn()\n",
    "simplenet_state_dict = torch.load(\"/tmp/simplenet\")\n",
    "simplenet.load_state_dict(simplenet_state_dict)   "
   ]
  }
 ],
 "metadata": {
  "kernelspec": {
   "display_name": "Python 3",
   "language": "python",
   "name": "python3"
  },
  "language_info": {
   "codemirror_mode": {
    "name": "ipython",
    "version": 3
   },
   "file_extension": ".py",
   "mimetype": "text/x-python",
   "name": "python",
   "nbconvert_exporter": "python",
   "pygments_lexer": "ipython3",
   "version": "3.9.12"
  },
  "orig_nbformat": 4
 },
 "nbformat": 4,
 "nbformat_minor": 2
}
